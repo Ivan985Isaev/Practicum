{
 "cells": [
  {
   "cell_type": "markdown",
   "metadata": {},
   "source": [
    "# Определение стоимости автомобилей"
   ]
  },
  {
   "cell_type": "markdown",
   "metadata": {},
   "source": [
    "## Описание проекта\n",
    "\n",
    "Сервис по продаже автомобилей с пробегом «Не бит, не крашен» разрабатывает приложение, чтобы привлечь новых клиентов. В нём можно будет узнать рыночную стоимость своего автомобиля.\n",
    "\n",
    "Постройте модель, которая умеет её определять. В вашем распоряжении данные о технических характеристиках, комплектации и ценах других автомобилей.\n",
    "\n",
    "Критерии, которые важны заказчику:\n",
    "- качество предсказания;\n",
    "- время обучения модели;\n",
    "- время предсказания модели.\n",
    "\n",
    "## Инструкция по выполнению проекта\n",
    "Чтобы усилить исследование, не ограничивайтесь градиентным бустингом. Попробуйте более простые модели — иногда они работают лучше. Эти редкие случаи легко пропустить, если всегда применять только бустинг.\n",
    "\n",
    "Поэкспериментируйте и сравните характеристики моделей: время обучения, время предсказания, точность результата.\n",
    "\n",
    "## Основные шаги:\n",
    "1. Загрузите данные, путь к файлу: /datasets/autos.csv.\n",
    "2. Изучите данные. Заполните пропущенные значения и обработайте аномалии в столбцах. Если среди признаков имеются  неинформативные, удалите их.\n",
    "3. Подготовьте выборки для обучения моделей.\n",
    "4. Обучите разные модели, одна из которых — LightGBM, как минимум одна — не бустинг. Для каждой модели попробуйте разные гиперпараметры.\n",
    "5. Проанализируйте время обучения, время предсказания и качество моделей.\n",
    "6. Опираясь на критерии заказчика, выберете лучшую модель, проверьте её качество на тестовой выборке.\n",
    "\n",
    "Примечания:\n",
    "- Для оценки качества моделей применяйте метрику RMSE.\n",
    "- Значение метрики RMSE должно быть меньше 2500.\n",
    "- Самостоятельно освойте библиотеку LightGBM и её средствами постройте модели градиентного бустинга.\n",
    "- Время выполнения ячейки кода Jupyter Notebook можно получить специальной командой. Найдите её.\n",
    "- Модель градиентного бустинга может долго обучаться, поэтому измените у неё только два-три параметра.\n",
    "- Если перестанет работать Jupyter Notebook, удалите лишние переменные оператором del.\n",
    "\n",
    "### Признаки\n",
    "- DateCrawled — дата скачивания анкеты из базы\n",
    "- VehicleType — тип автомобильного кузова\n",
    "- RegistrationYear — год регистрации автомобиля\n",
    "- Gearbox — тип коробки передач\n",
    "- Power — мощность (л. с.)\n",
    "- Model — модель автомобиля\n",
    "- Kilometer — пробег (км)\n",
    "- RegistrationMonth — месяц регистрации автомобиля\n",
    "- FuelType — тип топлива\n",
    "- Brand — марка автомобиля\n",
    "- Repaired — была машина в ремонте или нет\n",
    "- DateCreated — дата создания анкеты\n",
    "- NumberOfPictures — количество фотографий автомобиля\n",
    "- PostalCode — почтовый индекс владельца анкеты (пользователя)\n",
    "- LastSeen — дата последней активности пользователя\n",
    "### Целевой признак\n",
    "- Price — цена (евро)"
   ]
  },
  {
   "cell_type": "markdown",
   "metadata": {},
   "source": [
    "## Содержание\n",
    "\n",
    "1. [Изучение и обработка данных](#start)\n",
    "2. [Обучение моделей](#model_training)       \n",
    "3. [Лучшая модель](#the_best_of_the_best)  "
   ]
  },
  {
   "cell_type": "code",
   "execution_count": 1,
   "metadata": {},
   "outputs": [],
   "source": [
    "import pandas as pd\n",
    "import numpy as np\n",
    "import seaborn as sns\n",
    "import matplotlib.pyplot as plt\n",
    "from sklearn.preprocessing import StandardScaler\n",
    "from sklearn.model_selection import train_test_split\n",
    "from sklearn.model_selection import cross_val_score, KFold, GridSearchCV\n",
    "from sklearn.ensemble import RandomForestRegressor\n",
    "from catboost import CatBoostRegressor\n",
    "from lightgbm import LGBMRegressor\n",
    "from sklearn.metrics import mean_squared_error\n",
    "RANDOM_STATE=12345"
   ]
  },
  {
   "cell_type": "markdown",
   "metadata": {},
   "source": [
    "## 1. Изучение и обработка данных<a id=\"start\"></a>"
   ]
  },
  {
   "cell_type": "code",
   "execution_count": 3,
   "metadata": {},
   "outputs": [
    {
     "data": {
      "text/html": [
       "<div>\n",
       "<style scoped>\n",
       "    .dataframe tbody tr th:only-of-type {\n",
       "        vertical-align: middle;\n",
       "    }\n",
       "\n",
       "    .dataframe tbody tr th {\n",
       "        vertical-align: top;\n",
       "    }\n",
       "\n",
       "    .dataframe thead th {\n",
       "        text-align: right;\n",
       "    }\n",
       "</style>\n",
       "<table border=\"1\" class=\"dataframe\">\n",
       "  <thead>\n",
       "    <tr style=\"text-align: right;\">\n",
       "      <th></th>\n",
       "      <th>DateCrawled</th>\n",
       "      <th>Price</th>\n",
       "      <th>VehicleType</th>\n",
       "      <th>RegistrationYear</th>\n",
       "      <th>Gearbox</th>\n",
       "      <th>Power</th>\n",
       "      <th>Model</th>\n",
       "      <th>Kilometer</th>\n",
       "      <th>RegistrationMonth</th>\n",
       "      <th>FuelType</th>\n",
       "      <th>Brand</th>\n",
       "      <th>Repaired</th>\n",
       "      <th>DateCreated</th>\n",
       "      <th>NumberOfPictures</th>\n",
       "      <th>PostalCode</th>\n",
       "      <th>LastSeen</th>\n",
       "    </tr>\n",
       "  </thead>\n",
       "  <tbody>\n",
       "    <tr>\n",
       "      <th>0</th>\n",
       "      <td>2016-03-24 11:52:17</td>\n",
       "      <td>480</td>\n",
       "      <td>NaN</td>\n",
       "      <td>1993</td>\n",
       "      <td>manual</td>\n",
       "      <td>0</td>\n",
       "      <td>golf</td>\n",
       "      <td>150000</td>\n",
       "      <td>0</td>\n",
       "      <td>petrol</td>\n",
       "      <td>volkswagen</td>\n",
       "      <td>NaN</td>\n",
       "      <td>2016-03-24 00:00:00</td>\n",
       "      <td>0</td>\n",
       "      <td>70435</td>\n",
       "      <td>2016-04-07 03:16:57</td>\n",
       "    </tr>\n",
       "    <tr>\n",
       "      <th>1</th>\n",
       "      <td>2016-03-24 10:58:45</td>\n",
       "      <td>18300</td>\n",
       "      <td>coupe</td>\n",
       "      <td>2011</td>\n",
       "      <td>manual</td>\n",
       "      <td>190</td>\n",
       "      <td>NaN</td>\n",
       "      <td>125000</td>\n",
       "      <td>5</td>\n",
       "      <td>gasoline</td>\n",
       "      <td>audi</td>\n",
       "      <td>yes</td>\n",
       "      <td>2016-03-24 00:00:00</td>\n",
       "      <td>0</td>\n",
       "      <td>66954</td>\n",
       "      <td>2016-04-07 01:46:50</td>\n",
       "    </tr>\n",
       "    <tr>\n",
       "      <th>2</th>\n",
       "      <td>2016-03-14 12:52:21</td>\n",
       "      <td>9800</td>\n",
       "      <td>suv</td>\n",
       "      <td>2004</td>\n",
       "      <td>auto</td>\n",
       "      <td>163</td>\n",
       "      <td>grand</td>\n",
       "      <td>125000</td>\n",
       "      <td>8</td>\n",
       "      <td>gasoline</td>\n",
       "      <td>jeep</td>\n",
       "      <td>NaN</td>\n",
       "      <td>2016-03-14 00:00:00</td>\n",
       "      <td>0</td>\n",
       "      <td>90480</td>\n",
       "      <td>2016-04-05 12:47:46</td>\n",
       "    </tr>\n",
       "    <tr>\n",
       "      <th>3</th>\n",
       "      <td>2016-03-17 16:54:04</td>\n",
       "      <td>1500</td>\n",
       "      <td>small</td>\n",
       "      <td>2001</td>\n",
       "      <td>manual</td>\n",
       "      <td>75</td>\n",
       "      <td>golf</td>\n",
       "      <td>150000</td>\n",
       "      <td>6</td>\n",
       "      <td>petrol</td>\n",
       "      <td>volkswagen</td>\n",
       "      <td>no</td>\n",
       "      <td>2016-03-17 00:00:00</td>\n",
       "      <td>0</td>\n",
       "      <td>91074</td>\n",
       "      <td>2016-03-17 17:40:17</td>\n",
       "    </tr>\n",
       "    <tr>\n",
       "      <th>4</th>\n",
       "      <td>2016-03-31 17:25:20</td>\n",
       "      <td>3600</td>\n",
       "      <td>small</td>\n",
       "      <td>2008</td>\n",
       "      <td>manual</td>\n",
       "      <td>69</td>\n",
       "      <td>fabia</td>\n",
       "      <td>90000</td>\n",
       "      <td>7</td>\n",
       "      <td>gasoline</td>\n",
       "      <td>skoda</td>\n",
       "      <td>no</td>\n",
       "      <td>2016-03-31 00:00:00</td>\n",
       "      <td>0</td>\n",
       "      <td>60437</td>\n",
       "      <td>2016-04-06 10:17:21</td>\n",
       "    </tr>\n",
       "  </tbody>\n",
       "</table>\n",
       "</div>"
      ],
      "text/plain": [
       "           DateCrawled  Price VehicleType  RegistrationYear Gearbox  Power  \\\n",
       "0  2016-03-24 11:52:17    480         NaN              1993  manual      0   \n",
       "1  2016-03-24 10:58:45  18300       coupe              2011  manual    190   \n",
       "2  2016-03-14 12:52:21   9800         suv              2004    auto    163   \n",
       "3  2016-03-17 16:54:04   1500       small              2001  manual     75   \n",
       "4  2016-03-31 17:25:20   3600       small              2008  manual     69   \n",
       "\n",
       "   Model  Kilometer  RegistrationMonth  FuelType       Brand Repaired  \\\n",
       "0   golf     150000                  0    petrol  volkswagen      NaN   \n",
       "1    NaN     125000                  5  gasoline        audi      yes   \n",
       "2  grand     125000                  8  gasoline        jeep      NaN   \n",
       "3   golf     150000                  6    petrol  volkswagen       no   \n",
       "4  fabia      90000                  7  gasoline       skoda       no   \n",
       "\n",
       "           DateCreated  NumberOfPictures  PostalCode             LastSeen  \n",
       "0  2016-03-24 00:00:00                 0       70435  2016-04-07 03:16:57  \n",
       "1  2016-03-24 00:00:00                 0       66954  2016-04-07 01:46:50  \n",
       "2  2016-03-14 00:00:00                 0       90480  2016-04-05 12:47:46  \n",
       "3  2016-03-17 00:00:00                 0       91074  2016-03-17 17:40:17  \n",
       "4  2016-03-31 00:00:00                 0       60437  2016-04-06 10:17:21  "
      ]
     },
     "execution_count": 3,
     "metadata": {},
     "output_type": "execute_result"
    }
   ],
   "source": [
    "try:\n",
    "    autos = pd.read_csv('D:/Users/Иван/Downloads/Определение стоимости автомобилей/autos.csv')\n",
    "except:\n",
    "    autos = pd.read_csv('/datasets/autos.csv')\n",
    "autos.head()"
   ]
  },
  {
   "cell_type": "markdown",
   "metadata": {},
   "source": [
    "Такие столбцы как **DateCrawled, RegistrationMonth, DateCreated, PostalCode, LastSeen, NumberOfPictures** на прямую не влияют на стоимость автомобиля. Они не включаются в модель и не требуют серьезного исследовательского анализа данных. Удаление их не скажется на качестве обучения, и при этом позволит увеличить скорость."
   ]
  },
  {
   "cell_type": "code",
   "execution_count": 4,
   "metadata": {},
   "outputs": [
    {
     "name": "stdout",
     "output_type": "stream",
     "text": [
      "<class 'pandas.core.frame.DataFrame'>\n",
      "RangeIndex: 354369 entries, 0 to 354368\n",
      "Data columns (total 16 columns):\n",
      " #   Column             Non-Null Count   Dtype \n",
      "---  ------             --------------   ----- \n",
      " 0   DateCrawled        354369 non-null  object\n",
      " 1   Price              354369 non-null  int64 \n",
      " 2   VehicleType        316879 non-null  object\n",
      " 3   RegistrationYear   354369 non-null  int64 \n",
      " 4   Gearbox            334536 non-null  object\n",
      " 5   Power              354369 non-null  int64 \n",
      " 6   Model              334664 non-null  object\n",
      " 7   Kilometer          354369 non-null  int64 \n",
      " 8   RegistrationMonth  354369 non-null  int64 \n",
      " 9   FuelType           321474 non-null  object\n",
      " 10  Brand              354369 non-null  object\n",
      " 11  Repaired           283215 non-null  object\n",
      " 12  DateCreated        354369 non-null  object\n",
      " 13  NumberOfPictures   354369 non-null  int64 \n",
      " 14  PostalCode         354369 non-null  int64 \n",
      " 15  LastSeen           354369 non-null  object\n",
      "dtypes: int64(7), object(9)\n",
      "memory usage: 43.3+ MB\n"
     ]
    }
   ],
   "source": [
    "autos.info()"
   ]
  },
  {
   "cell_type": "markdown",
   "metadata": {},
   "source": [
    "В столбцах **VehicleType, Gearbox, Model, FuelType, NotRepaired** отсутствуют значения."
   ]
  },
  {
   "cell_type": "code",
   "execution_count": 5,
   "metadata": {},
   "outputs": [
    {
     "data": {
      "text/html": [
       "<div>\n",
       "<style scoped>\n",
       "    .dataframe tbody tr th:only-of-type {\n",
       "        vertical-align: middle;\n",
       "    }\n",
       "\n",
       "    .dataframe tbody tr th {\n",
       "        vertical-align: top;\n",
       "    }\n",
       "\n",
       "    .dataframe thead th {\n",
       "        text-align: right;\n",
       "    }\n",
       "</style>\n",
       "<table border=\"1\" class=\"dataframe\">\n",
       "  <thead>\n",
       "    <tr style=\"text-align: right;\">\n",
       "      <th></th>\n",
       "      <th>Price</th>\n",
       "      <th>RegistrationYear</th>\n",
       "      <th>Power</th>\n",
       "      <th>Kilometer</th>\n",
       "      <th>RegistrationMonth</th>\n",
       "      <th>NumberOfPictures</th>\n",
       "      <th>PostalCode</th>\n",
       "    </tr>\n",
       "  </thead>\n",
       "  <tbody>\n",
       "    <tr>\n",
       "      <th>count</th>\n",
       "      <td>354369.000000</td>\n",
       "      <td>354369.000000</td>\n",
       "      <td>354369.000000</td>\n",
       "      <td>354369.000000</td>\n",
       "      <td>354369.000000</td>\n",
       "      <td>354369.0</td>\n",
       "      <td>354369.000000</td>\n",
       "    </tr>\n",
       "    <tr>\n",
       "      <th>mean</th>\n",
       "      <td>4416.656776</td>\n",
       "      <td>2004.234448</td>\n",
       "      <td>110.094337</td>\n",
       "      <td>128211.172535</td>\n",
       "      <td>5.714645</td>\n",
       "      <td>0.0</td>\n",
       "      <td>50508.689087</td>\n",
       "    </tr>\n",
       "    <tr>\n",
       "      <th>std</th>\n",
       "      <td>4514.158514</td>\n",
       "      <td>90.227958</td>\n",
       "      <td>189.850405</td>\n",
       "      <td>37905.341530</td>\n",
       "      <td>3.726421</td>\n",
       "      <td>0.0</td>\n",
       "      <td>25783.096248</td>\n",
       "    </tr>\n",
       "    <tr>\n",
       "      <th>min</th>\n",
       "      <td>0.000000</td>\n",
       "      <td>1000.000000</td>\n",
       "      <td>0.000000</td>\n",
       "      <td>5000.000000</td>\n",
       "      <td>0.000000</td>\n",
       "      <td>0.0</td>\n",
       "      <td>1067.000000</td>\n",
       "    </tr>\n",
       "    <tr>\n",
       "      <th>25%</th>\n",
       "      <td>1050.000000</td>\n",
       "      <td>1999.000000</td>\n",
       "      <td>69.000000</td>\n",
       "      <td>125000.000000</td>\n",
       "      <td>3.000000</td>\n",
       "      <td>0.0</td>\n",
       "      <td>30165.000000</td>\n",
       "    </tr>\n",
       "    <tr>\n",
       "      <th>50%</th>\n",
       "      <td>2700.000000</td>\n",
       "      <td>2003.000000</td>\n",
       "      <td>105.000000</td>\n",
       "      <td>150000.000000</td>\n",
       "      <td>6.000000</td>\n",
       "      <td>0.0</td>\n",
       "      <td>49413.000000</td>\n",
       "    </tr>\n",
       "    <tr>\n",
       "      <th>75%</th>\n",
       "      <td>6400.000000</td>\n",
       "      <td>2008.000000</td>\n",
       "      <td>143.000000</td>\n",
       "      <td>150000.000000</td>\n",
       "      <td>9.000000</td>\n",
       "      <td>0.0</td>\n",
       "      <td>71083.000000</td>\n",
       "    </tr>\n",
       "    <tr>\n",
       "      <th>max</th>\n",
       "      <td>20000.000000</td>\n",
       "      <td>9999.000000</td>\n",
       "      <td>20000.000000</td>\n",
       "      <td>150000.000000</td>\n",
       "      <td>12.000000</td>\n",
       "      <td>0.0</td>\n",
       "      <td>99998.000000</td>\n",
       "    </tr>\n",
       "  </tbody>\n",
       "</table>\n",
       "</div>"
      ],
      "text/plain": [
       "               Price  RegistrationYear          Power      Kilometer  \\\n",
       "count  354369.000000     354369.000000  354369.000000  354369.000000   \n",
       "mean     4416.656776       2004.234448     110.094337  128211.172535   \n",
       "std      4514.158514         90.227958     189.850405   37905.341530   \n",
       "min         0.000000       1000.000000       0.000000    5000.000000   \n",
       "25%      1050.000000       1999.000000      69.000000  125000.000000   \n",
       "50%      2700.000000       2003.000000     105.000000  150000.000000   \n",
       "75%      6400.000000       2008.000000     143.000000  150000.000000   \n",
       "max     20000.000000       9999.000000   20000.000000  150000.000000   \n",
       "\n",
       "       RegistrationMonth  NumberOfPictures     PostalCode  \n",
       "count      354369.000000          354369.0  354369.000000  \n",
       "mean            5.714645               0.0   50508.689087  \n",
       "std             3.726421               0.0   25783.096248  \n",
       "min             0.000000               0.0    1067.000000  \n",
       "25%             3.000000               0.0   30165.000000  \n",
       "50%             6.000000               0.0   49413.000000  \n",
       "75%             9.000000               0.0   71083.000000  \n",
       "max            12.000000               0.0   99998.000000  "
      ]
     },
     "execution_count": 5,
     "metadata": {},
     "output_type": "execute_result"
    }
   ],
   "source": [
    "autos.describe()"
   ]
  },
  {
   "cell_type": "markdown",
   "metadata": {},
   "source": [
    "В целевом признаке можно заметить откровенные выбросы в виде нулевой стоимости и подозрительно высокая стоимость, которую необходимо проверить. Видно экстремально низкие (0) и высокие значения столбцов года регистрации и мощности автомобилей (20000, что это, суперкар с пятнадцатью газотурбинными установками, от нуля до сотни за полсекунды?)."
   ]
  },
  {
   "cell_type": "markdown",
   "metadata": {},
   "source": [
    "Для начала, удалим данные не влияющие на стоимоть автомобиля:"
   ]
  },
  {
   "cell_type": "code",
   "execution_count": 6,
   "metadata": {},
   "outputs": [
    {
     "data": {
      "text/html": [
       "<div>\n",
       "<style scoped>\n",
       "    .dataframe tbody tr th:only-of-type {\n",
       "        vertical-align: middle;\n",
       "    }\n",
       "\n",
       "    .dataframe tbody tr th {\n",
       "        vertical-align: top;\n",
       "    }\n",
       "\n",
       "    .dataframe thead th {\n",
       "        text-align: right;\n",
       "    }\n",
       "</style>\n",
       "<table border=\"1\" class=\"dataframe\">\n",
       "  <thead>\n",
       "    <tr style=\"text-align: right;\">\n",
       "      <th></th>\n",
       "      <th>Price</th>\n",
       "      <th>VehicleType</th>\n",
       "      <th>RegistrationYear</th>\n",
       "      <th>Gearbox</th>\n",
       "      <th>Power</th>\n",
       "      <th>Model</th>\n",
       "      <th>Kilometer</th>\n",
       "      <th>FuelType</th>\n",
       "      <th>Brand</th>\n",
       "      <th>Repaired</th>\n",
       "    </tr>\n",
       "  </thead>\n",
       "  <tbody>\n",
       "    <tr>\n",
       "      <th>0</th>\n",
       "      <td>480</td>\n",
       "      <td>NaN</td>\n",
       "      <td>1993</td>\n",
       "      <td>manual</td>\n",
       "      <td>0</td>\n",
       "      <td>golf</td>\n",
       "      <td>150000</td>\n",
       "      <td>petrol</td>\n",
       "      <td>volkswagen</td>\n",
       "      <td>NaN</td>\n",
       "    </tr>\n",
       "    <tr>\n",
       "      <th>1</th>\n",
       "      <td>18300</td>\n",
       "      <td>coupe</td>\n",
       "      <td>2011</td>\n",
       "      <td>manual</td>\n",
       "      <td>190</td>\n",
       "      <td>NaN</td>\n",
       "      <td>125000</td>\n",
       "      <td>gasoline</td>\n",
       "      <td>audi</td>\n",
       "      <td>yes</td>\n",
       "    </tr>\n",
       "    <tr>\n",
       "      <th>2</th>\n",
       "      <td>9800</td>\n",
       "      <td>suv</td>\n",
       "      <td>2004</td>\n",
       "      <td>auto</td>\n",
       "      <td>163</td>\n",
       "      <td>grand</td>\n",
       "      <td>125000</td>\n",
       "      <td>gasoline</td>\n",
       "      <td>jeep</td>\n",
       "      <td>NaN</td>\n",
       "    </tr>\n",
       "    <tr>\n",
       "      <th>3</th>\n",
       "      <td>1500</td>\n",
       "      <td>small</td>\n",
       "      <td>2001</td>\n",
       "      <td>manual</td>\n",
       "      <td>75</td>\n",
       "      <td>golf</td>\n",
       "      <td>150000</td>\n",
       "      <td>petrol</td>\n",
       "      <td>volkswagen</td>\n",
       "      <td>no</td>\n",
       "    </tr>\n",
       "    <tr>\n",
       "      <th>4</th>\n",
       "      <td>3600</td>\n",
       "      <td>small</td>\n",
       "      <td>2008</td>\n",
       "      <td>manual</td>\n",
       "      <td>69</td>\n",
       "      <td>fabia</td>\n",
       "      <td>90000</td>\n",
       "      <td>gasoline</td>\n",
       "      <td>skoda</td>\n",
       "      <td>no</td>\n",
       "    </tr>\n",
       "  </tbody>\n",
       "</table>\n",
       "</div>"
      ],
      "text/plain": [
       "   Price VehicleType  RegistrationYear Gearbox  Power  Model  Kilometer  \\\n",
       "0    480         NaN              1993  manual      0   golf     150000   \n",
       "1  18300       coupe              2011  manual    190    NaN     125000   \n",
       "2   9800         suv              2004    auto    163  grand     125000   \n",
       "3   1500       small              2001  manual     75   golf     150000   \n",
       "4   3600       small              2008  manual     69  fabia      90000   \n",
       "\n",
       "   FuelType       Brand Repaired  \n",
       "0    petrol  volkswagen      NaN  \n",
       "1  gasoline        audi      yes  \n",
       "2  gasoline        jeep      NaN  \n",
       "3    petrol  volkswagen       no  \n",
       "4  gasoline       skoda       no  "
      ]
     },
     "execution_count": 6,
     "metadata": {},
     "output_type": "execute_result"
    }
   ],
   "source": [
    "autos = autos.drop(['DateCrawled', 'RegistrationMonth', 'DateCreated', 'PostalCode', 'LastSeen', 'NumberOfPictures'], axis=1)\n",
    "autos.head()\n"
   ]
  },
  {
   "cell_type": "markdown",
   "metadata": {},
   "source": [
    "Чтобы приступить к отклонениям в целевом признаке, сначало обработаем отсутствующие значения в пункте \"ремонтировалась ли\":"
   ]
  },
  {
   "cell_type": "code",
   "execution_count": 7,
   "metadata": {},
   "outputs": [
    {
     "data": {
      "text/plain": [
       "Repaired\n",
       "no     247161\n",
       "NaN     71154\n",
       "yes     36054\n",
       "Name: count, dtype: int64"
      ]
     },
     "execution_count": 7,
     "metadata": {},
     "output_type": "execute_result"
    }
   ],
   "source": [
    "autos['Repaired'].value_counts(dropna=False)"
   ]
  },
  {
   "cell_type": "markdown",
   "metadata": {},
   "source": [
    "Отсутствующие значения скорее всего появились из-за того, что машина не ремонтировалась. Поэтому **\"NaN\"** заполним значением **\"no\"**."
   ]
  },
  {
   "cell_type": "code",
   "execution_count": 8,
   "metadata": {},
   "outputs": [
    {
     "data": {
      "text/plain": [
       "Repaired\n",
       "no     318315\n",
       "yes     36054\n",
       "Name: count, dtype: int64"
      ]
     },
     "execution_count": 8,
     "metadata": {},
     "output_type": "execute_result"
    }
   ],
   "source": [
    "autos['Repaired'] = autos['Repaired'].fillna('no')\n",
    "autos['Repaired'].value_counts(dropna=False)"
   ]
  },
  {
   "cell_type": "markdown",
   "metadata": {},
   "source": [
    "Далее попробуем разобраться с отклонениями в целевом признаке:"
   ]
  },
  {
   "cell_type": "code",
   "execution_count": 9,
   "metadata": {},
   "outputs": [
    {
     "name": "stdout",
     "output_type": "stream",
     "text": [
      "count    354369.000000\n",
      "mean       4416.656776\n",
      "std        4514.158514\n",
      "min           0.000000\n",
      "25%        1050.000000\n",
      "50%        2700.000000\n",
      "75%        6400.000000\n",
      "max       20000.000000\n",
      "Name: Price, dtype: float64\n"
     ]
    },
    {
     "data": {
      "image/png": "[encoded data removed]",
      "text/plain": [
       "<Figure size 640x480 with 1 Axes>"
      ]
     },
     "metadata": {},
     "output_type": "display_data"
    },
    {
     "data": {
      "image/png": "[encoded data removed]",
      "text/plain": [
       "<Figure size 640x480 with 1 Axes>"
      ]
     },
     "metadata": {},
     "output_type": "display_data"
    }
   ],
   "source": [
    "# Для этого напишем функцию вывода диаграммы и ящика с усами\n",
    "def diagram_box(colum, bins):\n",
    "    print(colum.describe())\n",
    "    q1 = colum.quantile(0.25)\n",
    "    q3 = colum.quantile(0.75)\n",
    "    iqr = q3 - q1\n",
    "    sns.boxplot(x=colum, color='green')   \n",
    "    plt.show()\n",
    "    colum.hist(bins=bins, range=((q1-3*iqr), (q3+3*iqr)))\n",
    "    plt.show()\n",
    "    \n",
    "diagram_box(autos['Price'], 15)"
   ]
  },
  {
   "cell_type": "markdown",
   "metadata": {},
   "source": [
    "Ранее обратили внимание, что очень много машин с около нулевым значением. Рассмотрим подробнее:"
   ]
  },
  {
   "cell_type": "code",
   "execution_count": 10,
   "metadata": {},
   "outputs": [
    {
     "data": {
      "text/html": [
       "<div>\n",
       "<style scoped>\n",
       "    .dataframe tbody tr th:only-of-type {\n",
       "        vertical-align: middle;\n",
       "    }\n",
       "\n",
       "    .dataframe tbody tr th {\n",
       "        vertical-align: top;\n",
       "    }\n",
       "\n",
       "    .dataframe thead th {\n",
       "        text-align: right;\n",
       "    }\n",
       "</style>\n",
       "<table border=\"1\" class=\"dataframe\">\n",
       "  <thead>\n",
       "    <tr style=\"text-align: right;\">\n",
       "      <th></th>\n",
       "      <th>Price</th>\n",
       "      <th>VehicleType</th>\n",
       "      <th>RegistrationYear</th>\n",
       "      <th>Gearbox</th>\n",
       "      <th>Power</th>\n",
       "      <th>Model</th>\n",
       "      <th>Kilometer</th>\n",
       "      <th>FuelType</th>\n",
       "      <th>Brand</th>\n",
       "      <th>Repaired</th>\n",
       "    </tr>\n",
       "  </thead>\n",
       "  <tbody>\n",
       "    <tr>\n",
       "      <th>7</th>\n",
       "      <td>0</td>\n",
       "      <td>sedan</td>\n",
       "      <td>1980</td>\n",
       "      <td>manual</td>\n",
       "      <td>50</td>\n",
       "      <td>other</td>\n",
       "      <td>40000</td>\n",
       "      <td>petrol</td>\n",
       "      <td>volkswagen</td>\n",
       "      <td>no</td>\n",
       "    </tr>\n",
       "    <tr>\n",
       "      <th>40</th>\n",
       "      <td>0</td>\n",
       "      <td>NaN</td>\n",
       "      <td>1990</td>\n",
       "      <td>NaN</td>\n",
       "      <td>0</td>\n",
       "      <td>corsa</td>\n",
       "      <td>150000</td>\n",
       "      <td>petrol</td>\n",
       "      <td>opel</td>\n",
       "      <td>no</td>\n",
       "    </tr>\n",
       "    <tr>\n",
       "      <th>111</th>\n",
       "      <td>0</td>\n",
       "      <td>NaN</td>\n",
       "      <td>2017</td>\n",
       "      <td>manual</td>\n",
       "      <td>0</td>\n",
       "      <td>golf</td>\n",
       "      <td>5000</td>\n",
       "      <td>petrol</td>\n",
       "      <td>volkswagen</td>\n",
       "      <td>no</td>\n",
       "    </tr>\n",
       "    <tr>\n",
       "      <th>115</th>\n",
       "      <td>0</td>\n",
       "      <td>small</td>\n",
       "      <td>1999</td>\n",
       "      <td>NaN</td>\n",
       "      <td>0</td>\n",
       "      <td>NaN</td>\n",
       "      <td>5000</td>\n",
       "      <td>petrol</td>\n",
       "      <td>volkswagen</td>\n",
       "      <td>no</td>\n",
       "    </tr>\n",
       "    <tr>\n",
       "      <th>152</th>\n",
       "      <td>0</td>\n",
       "      <td>bus</td>\n",
       "      <td>2004</td>\n",
       "      <td>manual</td>\n",
       "      <td>101</td>\n",
       "      <td>meriva</td>\n",
       "      <td>150000</td>\n",
       "      <td>lpg</td>\n",
       "      <td>opel</td>\n",
       "      <td>yes</td>\n",
       "    </tr>\n",
       "    <tr>\n",
       "      <th>...</th>\n",
       "      <td>...</td>\n",
       "      <td>...</td>\n",
       "      <td>...</td>\n",
       "      <td>...</td>\n",
       "      <td>...</td>\n",
       "      <td>...</td>\n",
       "      <td>...</td>\n",
       "      <td>...</td>\n",
       "      <td>...</td>\n",
       "      <td>...</td>\n",
       "    </tr>\n",
       "    <tr>\n",
       "      <th>354205</th>\n",
       "      <td>0</td>\n",
       "      <td>NaN</td>\n",
       "      <td>2000</td>\n",
       "      <td>manual</td>\n",
       "      <td>65</td>\n",
       "      <td>corsa</td>\n",
       "      <td>150000</td>\n",
       "      <td>NaN</td>\n",
       "      <td>opel</td>\n",
       "      <td>yes</td>\n",
       "    </tr>\n",
       "    <tr>\n",
       "      <th>354238</th>\n",
       "      <td>0</td>\n",
       "      <td>small</td>\n",
       "      <td>2002</td>\n",
       "      <td>manual</td>\n",
       "      <td>60</td>\n",
       "      <td>fiesta</td>\n",
       "      <td>150000</td>\n",
       "      <td>petrol</td>\n",
       "      <td>ford</td>\n",
       "      <td>no</td>\n",
       "    </tr>\n",
       "    <tr>\n",
       "      <th>354248</th>\n",
       "      <td>0</td>\n",
       "      <td>small</td>\n",
       "      <td>1999</td>\n",
       "      <td>manual</td>\n",
       "      <td>53</td>\n",
       "      <td>swift</td>\n",
       "      <td>150000</td>\n",
       "      <td>petrol</td>\n",
       "      <td>suzuki</td>\n",
       "      <td>no</td>\n",
       "    </tr>\n",
       "    <tr>\n",
       "      <th>354277</th>\n",
       "      <td>0</td>\n",
       "      <td>small</td>\n",
       "      <td>1999</td>\n",
       "      <td>manual</td>\n",
       "      <td>37</td>\n",
       "      <td>arosa</td>\n",
       "      <td>150000</td>\n",
       "      <td>petrol</td>\n",
       "      <td>seat</td>\n",
       "      <td>yes</td>\n",
       "    </tr>\n",
       "    <tr>\n",
       "      <th>354364</th>\n",
       "      <td>0</td>\n",
       "      <td>NaN</td>\n",
       "      <td>2005</td>\n",
       "      <td>manual</td>\n",
       "      <td>0</td>\n",
       "      <td>colt</td>\n",
       "      <td>150000</td>\n",
       "      <td>petrol</td>\n",
       "      <td>mitsubishi</td>\n",
       "      <td>yes</td>\n",
       "    </tr>\n",
       "  </tbody>\n",
       "</table>\n",
       "<p>10772 rows × 10 columns</p>\n",
       "</div>"
      ],
      "text/plain": [
       "        Price VehicleType  RegistrationYear Gearbox  Power   Model  Kilometer  \\\n",
       "7           0       sedan              1980  manual     50   other      40000   \n",
       "40          0         NaN              1990     NaN      0   corsa     150000   \n",
       "111         0         NaN              2017  manual      0    golf       5000   \n",
       "115         0       small              1999     NaN      0     NaN       5000   \n",
       "152         0         bus              2004  manual    101  meriva     150000   \n",
       "...       ...         ...               ...     ...    ...     ...        ...   \n",
       "354205      0         NaN              2000  manual     65   corsa     150000   \n",
       "354238      0       small              2002  manual     60  fiesta     150000   \n",
       "354248      0       small              1999  manual     53   swift     150000   \n",
       "354277      0       small              1999  manual     37   arosa     150000   \n",
       "354364      0         NaN              2005  manual      0    colt     150000   \n",
       "\n",
       "       FuelType       Brand Repaired  \n",
       "7        petrol  volkswagen       no  \n",
       "40       petrol        opel       no  \n",
       "111      petrol  volkswagen       no  \n",
       "115      petrol  volkswagen       no  \n",
       "152         lpg        opel      yes  \n",
       "...         ...         ...      ...  \n",
       "354205      NaN        opel      yes  \n",
       "354238   petrol        ford       no  \n",
       "354248   petrol      suzuki       no  \n",
       "354277   petrol        seat      yes  \n",
       "354364   petrol  mitsubishi      yes  \n",
       "\n",
       "[10772 rows x 10 columns]"
      ]
     },
     "execution_count": 10,
     "metadata": {},
     "output_type": "execute_result"
    }
   ],
   "source": [
    "autos[autos['Price'] < 1]"
   ]
  },
  {
   "cell_type": "code",
   "execution_count": 11,
   "metadata": {},
   "outputs": [
    {
     "data": {
      "text/plain": [
       "Repaired\n",
       "no     10752\n",
       "yes     2562\n",
       "Name: count, dtype: int64"
      ]
     },
     "execution_count": 11,
     "metadata": {},
     "output_type": "execute_result"
    }
   ],
   "source": [
    "autos[autos['Price'] < 100]['Repaired'].value_counts()\n"
   ]
  },
  {
   "cell_type": "markdown",
   "metadata": {},
   "source": [
    "С одной стороны даже автохлам можно продать за сумму сильно отличную от нуля, поэтому это явный выброс, и было бы не критично удалить всё, что дешевле 100 евро. Нужно уведомить коллег."
   ]
  },
  {
   "cell_type": "code",
   "execution_count": 23,
   "metadata": {},
   "outputs": [],
   "source": [
    "autos = autos.drop(autos[(autos['Price'] < 100)].index)"
   ]
  },
  {
   "cell_type": "markdown",
   "metadata": {},
   "source": [
    "Посмотрим, что еще осталось:"
   ]
  },
  {
   "cell_type": "code",
   "execution_count": 24,
   "metadata": {},
   "outputs": [
    {
     "data": {
      "text/plain": [
       "Price                   0\n",
       "VehicleType         32612\n",
       "RegistrationYear        0\n",
       "Gearbox             16314\n",
       "Power                   0\n",
       "Model               17033\n",
       "Kilometer               0\n",
       "FuelType            28349\n",
       "Brand                   0\n",
       "Repaired                0\n",
       "dtype: int64"
      ]
     },
     "execution_count": 24,
     "metadata": {},
     "output_type": "execute_result"
    }
   ],
   "source": [
    "autos.isnull().sum()"
   ]
  },
  {
   "cell_type": "code",
   "execution_count": 25,
   "metadata": {},
   "outputs": [
    {
     "data": {
      "text/plain": [
       "VehicleType\n",
       "sedan          89087\n",
       "small          77444\n",
       "wagon          63465\n",
       "NaN            32612\n",
       "bus            28265\n",
       "convertible    19817\n",
       "coupe          15555\n",
       "suv            11762\n",
       "other           3048\n",
       "Name: count, dtype: int64"
      ]
     },
     "execution_count": 25,
     "metadata": {},
     "output_type": "execute_result"
    }
   ],
   "source": [
    "autos['VehicleType'].value_counts(dropna=False)"
   ]
  },
  {
   "cell_type": "code",
   "execution_count": 12,
   "metadata": {},
   "outputs": [
    {
     "data": {
      "text/plain": [
       "Model\n",
       "golf                  29232\n",
       "other                 24421\n",
       "3er                   19761\n",
       "NaN                   19705\n",
       "polo                  13066\n",
       "                      ...  \n",
       "i3                        8\n",
       "serie_3                   4\n",
       "rangerover                4\n",
       "range_rover_evoque        2\n",
       "serie_1                   2\n",
       "Name: count, Length: 251, dtype: int64"
      ]
     },
     "execution_count": 12,
     "metadata": {},
     "output_type": "execute_result"
    }
   ],
   "source": [
    "autos['Model'].value_counts(dropna=False)"
   ]
  },
  {
   "cell_type": "markdown",
   "metadata": {},
   "source": [
    "Пропуски в типе кузова и моделе логично было бы заполнить **other**."
   ]
  },
  {
   "cell_type": "code",
   "execution_count": 13,
   "metadata": {},
   "outputs": [],
   "source": [
    "autos['VehicleType'] = autos['VehicleType'].fillna('other')\n",
    "autos['Model'] = autos['Model'].fillna('other')"
   ]
  },
  {
   "cell_type": "code",
   "execution_count": 14,
   "metadata": {},
   "outputs": [
    {
     "data": {
      "text/plain": [
       "Gearbox\n",
       "manual    268251\n",
       "auto       66285\n",
       "NaN        19833\n",
       "Name: count, dtype: int64"
      ]
     },
     "execution_count": 14,
     "metadata": {},
     "output_type": "execute_result"
    }
   ],
   "source": [
    "autos['Gearbox'].value_counts(dropna=False)"
   ]
  },
  {
   "cell_type": "code",
   "execution_count": 15,
   "metadata": {},
   "outputs": [
    {
     "data": {
      "text/plain": [
       "FuelType\n",
       "petrol      216352\n",
       "gasoline     98720\n",
       "NaN          32895\n",
       "lpg           5310\n",
       "cng            565\n",
       "hybrid         233\n",
       "other          204\n",
       "electric        90\n",
       "Name: count, dtype: int64"
      ]
     },
     "execution_count": 15,
     "metadata": {},
     "output_type": "execute_result"
    }
   ],
   "source": [
    "autos['FuelType'].value_counts(dropna=False)"
   ]
  },
  {
   "cell_type": "markdown",
   "metadata": {},
   "source": [
    "В топливе и тип коробки передач также заполним other."
   ]
  },
  {
   "cell_type": "code",
   "execution_count": 16,
   "metadata": {},
   "outputs": [
    {
     "data": {
      "text/plain": [
       "Price               0\n",
       "VehicleType         0\n",
       "RegistrationYear    0\n",
       "Gearbox             0\n",
       "Power               0\n",
       "Model               0\n",
       "Kilometer           0\n",
       "FuelType            0\n",
       "Brand               0\n",
       "Repaired            0\n",
       "dtype: int64"
      ]
     },
     "execution_count": 16,
     "metadata": {},
     "output_type": "execute_result"
    }
   ],
   "source": [
    "autos['Gearbox'] = autos['Gearbox'].fillna('other')\n",
    "autos['FuelType'] = autos['FuelType'].fillna('other')\n",
    "autos.isnull().sum()"
   ]
  },
  {
   "cell_type": "markdown",
   "metadata": {},
   "source": [
    "Вот и добрались и до Мощности, проанализируем отклониения в этом столбце:"
   ]
  },
  {
   "cell_type": "code",
   "execution_count": 17,
   "metadata": {},
   "outputs": [
    {
     "name": "stdout",
     "output_type": "stream",
     "text": [
      "count    354369.000000\n",
      "mean        110.094337\n",
      "std         189.850405\n",
      "min           0.000000\n",
      "25%          69.000000\n",
      "50%         105.000000\n",
      "75%         143.000000\n",
      "max       20000.000000\n",
      "Name: Power, dtype: float64\n"
     ]
    },
    {
     "data": {
      "image/png": "[encoded data removed]",
      "text/plain": [
       "<Figure size 640x480 with 1 Axes>"
      ]
     },
     "metadata": {},
     "output_type": "display_data"
    },
    {
     "data": {
      "image/png": "[encoded data removed]",
      "text/plain": [
       "<Figure size 640x480 with 1 Axes>"
      ]
     },
     "metadata": {},
     "output_type": "display_data"
    }
   ],
   "source": [
    "plt.xlim(0, 600)\n",
    "diagram_box(autos['Power'], 10)"
   ]
  },
  {
   "cell_type": "code",
   "execution_count": 18,
   "metadata": {},
   "outputs": [
    {
     "data": {
      "text/plain": [
       "Power\n",
       "0       40225\n",
       "75      24023\n",
       "60      15897\n",
       "150     14590\n",
       "101     13298\n",
       "        ...  \n",
       "610         1\n",
       "6006        1\n",
       "5815        1\n",
       "6018        1\n",
       "1241        1\n",
       "Name: count, Length: 712, dtype: int64"
      ]
     },
     "execution_count": 18,
     "metadata": {},
     "output_type": "execute_result"
    }
   ],
   "source": [
    "autos['Power'].value_counts(dropna=False)"
   ]
  },
  {
   "cell_type": "code",
   "execution_count": 19,
   "metadata": {
    "scrolled": true
   },
   "outputs": [
    {
     "data": {
      "text/plain": [
       "Model\n",
       "other          21\n",
       "polo            9\n",
       "corsa           8\n",
       "5er             6\n",
       "e_klasse        5\n",
       "transporter     5\n",
       "golf            5\n",
       "clk             3\n",
       "3er             3\n",
       "a3              2\n",
       "clio            2\n",
       "fiesta          2\n",
       "passat          2\n",
       "80              2\n",
       "a4              2\n",
       "c_klasse        2\n",
       "a6              2\n",
       "astra           2\n",
       "focus           2\n",
       "agila           2\n",
       "fortwo          2\n",
       "vectra          2\n",
       "berlingo        2\n",
       "spark           1\n",
       "bravo           1\n",
       "lupo            1\n",
       "tt              1\n",
       "up              1\n",
       "a8              1\n",
       "c_max           1\n",
       "punto           1\n",
       "zafira          1\n",
       "kangoo          1\n",
       "octavia         1\n",
       "s_klasse        1\n",
       "galaxy          1\n",
       "147             1\n",
       "cooper          1\n",
       "twingo          1\n",
       "1er             1\n",
       "ceed            1\n",
       "megane          1\n",
       "ibiza           1\n",
       "ptcruiser       1\n",
       "sprinter        1\n",
       "omega           1\n",
       "seicento        1\n",
       "aygo            1\n",
       "caddy           1\n",
       "carisma         1\n",
       "Name: count, dtype: int64"
      ]
     },
     "execution_count": 19,
     "metadata": {},
     "output_type": "execute_result"
    }
   ],
   "source": [
    "autos[autos['Power'] > 2000]['Model'].value_counts()"
   ]
  },
  {
   "cell_type": "code",
   "execution_count": 20,
   "metadata": {},
   "outputs": [
    {
     "data": {
      "text/plain": [
       "120"
      ]
     },
     "execution_count": 20,
     "metadata": {},
     "output_type": "execute_result"
    }
   ],
   "source": [
    "autos[autos['Power'] > 2000]['Model'].count()"
   ]
  },
  {
   "cell_type": "markdown",
   "metadata": {},
   "source": [
    "Lotus Evija: самый мощный серийный автомобиль в мире — 2000 л.с. Поэтому в данных либо серийная опечатка, либо просто выбросы. Оба варианта кандидаты на удаление"
   ]
  },
  {
   "cell_type": "code",
   "execution_count": 21,
   "metadata": {},
   "outputs": [
    {
     "data": {
      "text/plain": [
       "40225"
      ]
     },
     "execution_count": 21,
     "metadata": {},
     "output_type": "execute_result"
    }
   ],
   "source": [
    "autos[autos['Power'] < 1]['Model'].count()"
   ]
  },
  {
   "cell_type": "code",
   "execution_count": 22,
   "metadata": {},
   "outputs": [
    {
     "data": {
      "text/plain": [
       "Model\n",
       "other         9463\n",
       "golf          2460\n",
       "corsa         1771\n",
       "polo          1611\n",
       "3er           1534\n",
       "              ... \n",
       "serie_3          1\n",
       "b_max            1\n",
       "amarok           1\n",
       "yeti             1\n",
       "elefantino       1\n",
       "Name: count, Length: 247, dtype: int64"
      ]
     },
     "execution_count": 22,
     "metadata": {},
     "output_type": "execute_result"
    }
   ],
   "source": [
    "autos[autos['Power'] < 1]['Model'].value_counts()"
   ]
  },
  {
   "cell_type": "markdown",
   "metadata": {},
   "source": [
    "Ну как бы даже у велосипеда есть мощность, поэтому по крайней мере для задач обучения всё что ниже единицы должно быть удалено!"
   ]
  },
  {
   "cell_type": "code",
   "execution_count": 23,
   "metadata": {},
   "outputs": [
    {
     "data": {
      "text/plain": [
       "count    314020.000000\n",
       "mean        121.059614\n",
       "std          63.937800\n",
       "min           1.000000\n",
       "25%          75.000000\n",
       "50%         110.000000\n",
       "75%         150.000000\n",
       "max        1999.000000\n",
       "Name: Power, dtype: float64"
      ]
     },
     "execution_count": 23,
     "metadata": {},
     "output_type": "execute_result"
    }
   ],
   "source": [
    "autos = autos.query('Power > 0 and Power < 2000')\n",
    "\n",
    "autos['Power'].describe()"
   ]
  },
  {
   "cell_type": "markdown",
   "metadata": {},
   "source": [
    "Также обработаем выбросы в столбце года регистрации:"
   ]
  },
  {
   "cell_type": "code",
   "execution_count": 24,
   "metadata": {},
   "outputs": [
    {
     "name": "stdout",
     "output_type": "stream",
     "text": [
      "count    314020.000000\n",
      "mean       2003.475791\n",
      "std          35.383365\n",
      "min        1000.000000\n",
      "25%        1999.000000\n",
      "50%        2003.000000\n",
      "75%        2008.000000\n",
      "max        9999.000000\n",
      "Name: RegistrationYear, dtype: float64\n"
     ]
    },
    {
     "data": {
      "image/png": "[encoded data removed]",
      "text/plain": [
       "<Figure size 640x480 with 1 Axes>"
      ]
     },
     "metadata": {},
     "output_type": "display_data"
    },
    {
     "data": {
      "image/png": "[encoded data removed]",
      "text/plain": [
       "<Figure size 640x480 with 1 Axes>"
      ]
     },
     "metadata": {},
     "output_type": "display_data"
    }
   ],
   "source": [
    "plt.xlim(1950, 2022)\n",
    "diagram_box(autos['RegistrationYear'], 10)"
   ]
  },
  {
   "cell_type": "markdown",
   "metadata": {},
   "source": [
    "Так как первый автомобиль изобретен в 1768 году, значения меньше явные опечатки. Так как автомобили с даты изобретения до примерно 1970-х скорее всего уже раритет и предмет гордости коллекционеров, то скорее всего продаются на аукционах и в нашу выборку не попадут можно сделать отсечку от 1980 до 2022."
   ]
  },
  {
   "cell_type": "code",
   "execution_count": 25,
   "metadata": {},
   "outputs": [],
   "source": [
    "autos = autos.query('RegistrationYear > 1980 and RegistrationYear < 2017')"
   ]
  },
  {
   "cell_type": "code",
   "execution_count": 26,
   "metadata": {},
   "outputs": [
    {
     "data": {
      "text/plain": [
       "count    300630.000000\n",
       "mean       2003.015271\n",
       "std           5.908081\n",
       "min        1981.000000\n",
       "25%        1999.000000\n",
       "50%        2003.000000\n",
       "75%        2007.000000\n",
       "max        2016.000000\n",
       "Name: RegistrationYear, dtype: float64"
      ]
     },
     "execution_count": 26,
     "metadata": {},
     "output_type": "execute_result"
    }
   ],
   "source": [
    "autos['RegistrationYear'].describe()"
   ]
  },
  {
   "cell_type": "markdown",
   "metadata": {},
   "source": [
    "Так же не лишним будет проверить данные на дубликаты."
   ]
  },
  {
   "cell_type": "code",
   "execution_count": 27,
   "metadata": {},
   "outputs": [
    {
     "data": {
      "text/plain": [
       "46313"
      ]
     },
     "execution_count": 27,
     "metadata": {},
     "output_type": "execute_result"
    }
   ],
   "source": [
    "autos.duplicated().sum()"
   ]
  },
  {
   "cell_type": "markdown",
   "metadata": {},
   "source": [
    "Велика вероятность, что 46059 не в полной мере являются дубликатами, так как дата сет не учитывает цвет автомобиля, автора публикации, и прочее. Но для лучшего обучения считаю нужным удалить."
   ]
  },
  {
   "cell_type": "code",
   "execution_count": 28,
   "metadata": {},
   "outputs": [],
   "source": [
    "autos.drop_duplicates(inplace=True)"
   ]
  },
  {
   "cell_type": "markdown",
   "metadata": {},
   "source": [
    "**Вывод:**\n",
    "1. Данные загрузили/посмотрели;\n",
    "2. Заметили пропуски/заполнили;\n",
    "3. Выбросы и подозрительные значения удалили и отметили;\n",
    "4. Дубликаты выявили/удалили;\n",
    "\n",
    "Приступаем к обучению"
   ]
  },
  {
   "cell_type": "markdown",
   "metadata": {},
   "source": [
    "## 2. Обучение моделей<a id=\"model_training\"></a>"
   ]
  },
  {
   "cell_type": "markdown",
   "metadata": {},
   "source": [
    "Первым делом закодируем категориальные признаки, чтобы наша модель нормально могла пережевать данные:"
   ]
  },
  {
   "cell_type": "code",
   "execution_count": 33,
   "metadata": {},
   "outputs": [],
   "source": [
    "autos = pd.get_dummies(autos, drop_first=True)"
   ]
  },
  {
   "cell_type": "markdown",
   "metadata": {},
   "source": [
    "Далее выделим из выборки целевой признак:"
   ]
  },
  {
   "cell_type": "code",
   "execution_count": 34,
   "metadata": {},
   "outputs": [],
   "source": [
    "target = autos['Price']\n",
    "features = autos.drop('Price', axis=1)"
   ]
  },
  {
   "cell_type": "markdown",
   "metadata": {},
   "source": [
    "Разделим выборки на обучающую, валидационную и тестовую:"
   ]
  },
  {
   "cell_type": "code",
   "execution_count": 35,
   "metadata": {},
   "outputs": [
    {
     "name": "stdout",
     "output_type": "stream",
     "text": [
      "(152590, 305) (50863, 305) (50864, 305)\n",
      "(152590,) (50863,) (50864,)\n"
     ]
    }
   ],
   "source": [
    "features_train, features_valid, target_train, target_valid = train_test_split(features, target, test_size=0.4, \n",
    "                                                                              random_state=RANDOM_STATE)\n",
    "features_valid, features_test, target_valid, target_test = train_test_split(features_valid, target_valid, test_size=0.5, \n",
    "                                                                              random_state=RANDOM_STATE )\n",
    "print(features_train.shape, features_valid.shape, features_test.shape)\n",
    "print(target_train.shape, target_valid.shape, target_test.shape)"
   ]
  },
  {
   "cell_type": "markdown",
   "metadata": {},
   "source": [
    "Стандартизируем значения данных в стандартный формат:"
   ]
  },
  {
   "cell_type": "code",
   "execution_count": 36,
   "metadata": {},
   "outputs": [
    {
     "data": {
      "text/html": [
       "<div>\n",
       "<style scoped>\n",
       "    .dataframe tbody tr th:only-of-type {\n",
       "        vertical-align: middle;\n",
       "    }\n",
       "\n",
       "    .dataframe tbody tr th {\n",
       "        vertical-align: top;\n",
       "    }\n",
       "\n",
       "    .dataframe thead th {\n",
       "        text-align: right;\n",
       "    }\n",
       "</style>\n",
       "<table border=\"1\" class=\"dataframe\">\n",
       "  <thead>\n",
       "    <tr style=\"text-align: right;\">\n",
       "      <th></th>\n",
       "      <th>RegistrationYear</th>\n",
       "      <th>Power</th>\n",
       "      <th>Kilometer</th>\n",
       "      <th>VehicleType_convertible</th>\n",
       "      <th>VehicleType_coupe</th>\n",
       "      <th>VehicleType_other</th>\n",
       "      <th>VehicleType_sedan</th>\n",
       "      <th>VehicleType_small</th>\n",
       "      <th>VehicleType_suv</th>\n",
       "      <th>VehicleType_wagon</th>\n",
       "      <th>...</th>\n",
       "      <th>Brand_skoda</th>\n",
       "      <th>Brand_smart</th>\n",
       "      <th>Brand_sonstige_autos</th>\n",
       "      <th>Brand_subaru</th>\n",
       "      <th>Brand_suzuki</th>\n",
       "      <th>Brand_toyota</th>\n",
       "      <th>Brand_trabant</th>\n",
       "      <th>Brand_volkswagen</th>\n",
       "      <th>Brand_volvo</th>\n",
       "      <th>Repaired_yes</th>\n",
       "    </tr>\n",
       "  </thead>\n",
       "  <tbody>\n",
       "    <tr>\n",
       "      <th>515</th>\n",
       "      <td>-0.848685</td>\n",
       "      <td>-0.336615</td>\n",
       "      <td>0.605558</td>\n",
       "      <td>False</td>\n",
       "      <td>False</td>\n",
       "      <td>False</td>\n",
       "      <td>False</td>\n",
       "      <td>False</td>\n",
       "      <td>False</td>\n",
       "      <td>True</td>\n",
       "      <td>...</td>\n",
       "      <td>False</td>\n",
       "      <td>False</td>\n",
       "      <td>False</td>\n",
       "      <td>False</td>\n",
       "      <td>False</td>\n",
       "      <td>False</td>\n",
       "      <td>False</td>\n",
       "      <td>True</td>\n",
       "      <td>False</td>\n",
       "      <td>False</td>\n",
       "    </tr>\n",
       "    <tr>\n",
       "      <th>153648</th>\n",
       "      <td>-0.183711</td>\n",
       "      <td>0.832855</td>\n",
       "      <td>-1.530964</td>\n",
       "      <td>False</td>\n",
       "      <td>False</td>\n",
       "      <td>False</td>\n",
       "      <td>True</td>\n",
       "      <td>False</td>\n",
       "      <td>False</td>\n",
       "      <td>False</td>\n",
       "      <td>...</td>\n",
       "      <td>False</td>\n",
       "      <td>False</td>\n",
       "      <td>False</td>\n",
       "      <td>False</td>\n",
       "      <td>False</td>\n",
       "      <td>False</td>\n",
       "      <td>False</td>\n",
       "      <td>False</td>\n",
       "      <td>False</td>\n",
       "      <td>False</td>\n",
       "    </tr>\n",
       "    <tr>\n",
       "      <th>327089</th>\n",
       "      <td>0.148776</td>\n",
       "      <td>-0.967514</td>\n",
       "      <td>-0.062105</td>\n",
       "      <td>False</td>\n",
       "      <td>False</td>\n",
       "      <td>False</td>\n",
       "      <td>False</td>\n",
       "      <td>True</td>\n",
       "      <td>False</td>\n",
       "      <td>False</td>\n",
       "      <td>...</td>\n",
       "      <td>False</td>\n",
       "      <td>False</td>\n",
       "      <td>False</td>\n",
       "      <td>False</td>\n",
       "      <td>False</td>\n",
       "      <td>False</td>\n",
       "      <td>False</td>\n",
       "      <td>False</td>\n",
       "      <td>False</td>\n",
       "      <td>False</td>\n",
       "    </tr>\n",
       "    <tr>\n",
       "      <th>306589</th>\n",
       "      <td>0.481263</td>\n",
       "      <td>0.725141</td>\n",
       "      <td>-0.062105</td>\n",
       "      <td>False</td>\n",
       "      <td>False</td>\n",
       "      <td>False</td>\n",
       "      <td>True</td>\n",
       "      <td>False</td>\n",
       "      <td>False</td>\n",
       "      <td>False</td>\n",
       "      <td>...</td>\n",
       "      <td>False</td>\n",
       "      <td>False</td>\n",
       "      <td>False</td>\n",
       "      <td>False</td>\n",
       "      <td>False</td>\n",
       "      <td>False</td>\n",
       "      <td>False</td>\n",
       "      <td>True</td>\n",
       "      <td>False</td>\n",
       "      <td>False</td>\n",
       "    </tr>\n",
       "    <tr>\n",
       "      <th>35631</th>\n",
       "      <td>0.148776</td>\n",
       "      <td>0.032691</td>\n",
       "      <td>0.605558</td>\n",
       "      <td>False</td>\n",
       "      <td>False</td>\n",
       "      <td>False</td>\n",
       "      <td>False</td>\n",
       "      <td>False</td>\n",
       "      <td>False</td>\n",
       "      <td>False</td>\n",
       "      <td>...</td>\n",
       "      <td>False</td>\n",
       "      <td>False</td>\n",
       "      <td>False</td>\n",
       "      <td>False</td>\n",
       "      <td>False</td>\n",
       "      <td>False</td>\n",
       "      <td>False</td>\n",
       "      <td>False</td>\n",
       "      <td>False</td>\n",
       "      <td>False</td>\n",
       "    </tr>\n",
       "  </tbody>\n",
       "</table>\n",
       "<p>5 rows × 305 columns</p>\n",
       "</div>"
      ],
      "text/plain": [
       "        RegistrationYear     Power  Kilometer  VehicleType_convertible  \\\n",
       "515            -0.848685 -0.336615   0.605558                    False   \n",
       "153648         -0.183711  0.832855  -1.530964                    False   \n",
       "327089          0.148776 -0.967514  -0.062105                    False   \n",
       "306589          0.481263  0.725141  -0.062105                    False   \n",
       "35631           0.148776  0.032691   0.605558                    False   \n",
       "\n",
       "        VehicleType_coupe  VehicleType_other  VehicleType_sedan  \\\n",
       "515                 False              False              False   \n",
       "153648              False              False               True   \n",
       "327089              False              False              False   \n",
       "306589              False              False               True   \n",
       "35631               False              False              False   \n",
       "\n",
       "        VehicleType_small  VehicleType_suv  VehicleType_wagon  ...  \\\n",
       "515                 False            False               True  ...   \n",
       "153648              False            False              False  ...   \n",
       "327089               True            False              False  ...   \n",
       "306589              False            False              False  ...   \n",
       "35631               False            False              False  ...   \n",
       "\n",
       "        Brand_skoda  Brand_smart  Brand_sonstige_autos  Brand_subaru  \\\n",
       "515           False        False                 False         False   \n",
       "153648        False        False                 False         False   \n",
       "327089        False        False                 False         False   \n",
       "306589        False        False                 False         False   \n",
       "35631         False        False                 False         False   \n",
       "\n",
       "        Brand_suzuki  Brand_toyota  Brand_trabant  Brand_volkswagen  \\\n",
       "515            False         False          False              True   \n",
       "153648         False         False          False             False   \n",
       "327089         False         False          False             False   \n",
       "306589         False         False          False              True   \n",
       "35631          False         False          False             False   \n",
       "\n",
       "        Brand_volvo  Repaired_yes  \n",
       "515           False         False  \n",
       "153648        False         False  \n",
       "327089        False         False  \n",
       "306589        False         False  \n",
       "35631         False         False  \n",
       "\n",
       "[5 rows x 305 columns]"
      ]
     },
     "execution_count": 36,
     "metadata": {},
     "output_type": "execute_result"
    }
   ],
   "source": [
    "numeric = ['RegistrationYear', 'Power', 'Kilometer']\n",
    "\n",
    "scaler = StandardScaler()\n",
    "scaler.fit(features_train[numeric])\n",
    "features_train[numeric] = scaler.transform(features_train[numeric])\n",
    "features_valid[numeric] = scaler.transform(features_valid[numeric])\n",
    "features_test[numeric] = scaler.transform(features_test[numeric])\n",
    "\n",
    "features_train.head()"
   ]
  },
  {
   "cell_type": "markdown",
   "metadata": {},
   "source": [
    "Создадим словарь для итоговой таблицы:"
   ]
  },
  {
   "cell_type": "code",
   "execution_count": 37,
   "metadata": {},
   "outputs": [],
   "source": [
    "final_table = {}"
   ]
  },
  {
   "cell_type": "markdown",
   "metadata": {},
   "source": [
    "### RandomForestRegressor"
   ]
  },
  {
   "cell_type": "code",
   "execution_count": 38,
   "metadata": {},
   "outputs": [],
   "source": [
    "model_rfr =  RandomForestRegressor(random_state=RANDOM_STATE)"
   ]
  },
  {
   "cell_type": "code",
   "execution_count": 39,
   "metadata": {},
   "outputs": [
    {
     "name": "stdout",
     "output_type": "stream",
     "text": [
      "CPU times: total: 2min 48s\n",
      "Wall time: 2min 50s\n"
     ]
    },
    {
     "data": {
      "text/html": [
       "<style>#sk-container-id-1 {color: black;background-color: white;}#sk-container-id-1 pre{padding: 0;}#sk-container-id-1 div.sk-toggleable {background-color: white;}#sk-container-id-1 label.sk-toggleable__label {cursor: pointer;display: block;width: 100%;margin-bottom: 0;padding: 0.3em;box-sizing: border-box;text-align: center;}#sk-container-id-1 label.sk-toggleable__label-arrow:before {content: \"▸\";float: left;margin-right: 0.25em;color: #696969;}#sk-container-id-1 label.sk-toggleable__label-arrow:hover:before {color: black;}#sk-container-id-1 div.sk-estimator:hover label.sk-toggleable__label-arrow:before {color: black;}#sk-container-id-1 div.sk-toggleable__content {max-height: 0;max-width: 0;overflow: hidden;text-align: left;background-color: #f0f8ff;}#sk-container-id-1 div.sk-toggleable__content pre {margin: 0.2em;color: black;border-radius: 0.25em;background-color: #f0f8ff;}#sk-container-id-1 input.sk-toggleable__control:checked~div.sk-toggleable__content {max-height: 200px;max-width: 100%;overflow: auto;}#sk-container-id-1 input.sk-toggleable__control:checked~label.sk-toggleable__label-arrow:before {content: \"▾\";}#sk-container-id-1 div.sk-estimator input.sk-toggleable__control:checked~label.sk-toggleable__label {background-color: #d4ebff;}#sk-container-id-1 div.sk-label input.sk-toggleable__control:checked~label.sk-toggleable__label {background-color: #d4ebff;}#sk-container-id-1 input.sk-hidden--visually {border: 0;clip: rect(1px 1px 1px 1px);clip: rect(1px, 1px, 1px, 1px);height: 1px;margin: -1px;overflow: hidden;padding: 0;position: absolute;width: 1px;}#sk-container-id-1 div.sk-estimator {font-family: monospace;background-color: #f0f8ff;border: 1px dotted black;border-radius: 0.25em;box-sizing: border-box;margin-bottom: 0.5em;}#sk-container-id-1 div.sk-estimator:hover {background-color: #d4ebff;}#sk-container-id-1 div.sk-parallel-item::after {content: \"\";width: 100%;border-bottom: 1px solid gray;flex-grow: 1;}#sk-container-id-1 div.sk-label:hover label.sk-toggleable__label {background-color: #d4ebff;}#sk-container-id-1 div.sk-serial::before {content: \"\";position: absolute;border-left: 1px solid gray;box-sizing: border-box;top: 0;bottom: 0;left: 50%;z-index: 0;}#sk-container-id-1 div.sk-serial {display: flex;flex-direction: column;align-items: center;background-color: white;padding-right: 0.2em;padding-left: 0.2em;position: relative;}#sk-container-id-1 div.sk-item {position: relative;z-index: 1;}#sk-container-id-1 div.sk-parallel {display: flex;align-items: stretch;justify-content: center;background-color: white;position: relative;}#sk-container-id-1 div.sk-item::before, #sk-container-id-1 div.sk-parallel-item::before {content: \"\";position: absolute;border-left: 1px solid gray;box-sizing: border-box;top: 0;bottom: 0;left: 50%;z-index: -1;}#sk-container-id-1 div.sk-parallel-item {display: flex;flex-direction: column;z-index: 1;position: relative;background-color: white;}#sk-container-id-1 div.sk-parallel-item:first-child::after {align-self: flex-end;width: 50%;}#sk-container-id-1 div.sk-parallel-item:last-child::after {align-self: flex-start;width: 50%;}#sk-container-id-1 div.sk-parallel-item:only-child::after {width: 0;}#sk-container-id-1 div.sk-dashed-wrapped {border: 1px dashed gray;margin: 0 0.4em 0.5em 0.4em;box-sizing: border-box;padding-bottom: 0.4em;background-color: white;}#sk-container-id-1 div.sk-label label {font-family: monospace;font-weight: bold;display: inline-block;line-height: 1.2em;}#sk-container-id-1 div.sk-label-container {text-align: center;}#sk-container-id-1 div.sk-container {/* jupyter's `normalize.less` sets `[hidden] { display: none; }` but bootstrap.min.css set `[hidden] { display: none !important; }` so we also need the `!important` here to be able to override the default hidden behavior on the sphinx rendered scikit-learn.org. See: https://github.com/scikit-learn/scikit-learn/issues/21755 */display: inline-block !important;position: relative;}#sk-container-id-1 div.sk-text-repr-fallback {display: none;}</style><div id=\"sk-container-id-1\" class=\"sk-top-container\"><div class=\"sk-text-repr-fallback\"><pre>RandomForestRegressor(random_state=12345)</pre><b>In a Jupyter environment, please rerun this cell to show the HTML representation or trust the notebook. <br />On GitHub, the HTML representation is unable to render, please try loading this page with nbviewer.org.</b></div><div class=\"sk-container\" hidden><div class=\"sk-item\"><div class=\"sk-estimator sk-toggleable\"><input class=\"sk-toggleable__control sk-hidden--visually\" id=\"sk-estimator-id-1\" type=\"checkbox\" checked><label for=\"sk-estimator-id-1\" class=\"sk-toggleable__label sk-toggleable__label-arrow\">RandomForestRegressor</label><div class=\"sk-toggleable__content\"><pre>RandomForestRegressor(random_state=12345)</pre></div></div></div></div></div>"
      ],
      "text/plain": [
       "RandomForestRegressor(random_state=12345)"
      ]
     },
     "execution_count": 39,
     "metadata": {},
     "output_type": "execute_result"
    }
   ],
   "source": [
    "%%time\n",
    "\n",
    "model_rfr.fit(features_train, target_train)"
   ]
  },
  {
   "cell_type": "code",
   "execution_count": 40,
   "metadata": {},
   "outputs": [
    {
     "name": "stdout",
     "output_type": "stream",
     "text": [
      "RMSE 1759.0183580550374\n",
      "CPU times: total: 1.5 s\n",
      "Wall time: 1.48 s\n"
     ]
    }
   ],
   "source": [
    "%%time\n",
    "\n",
    "predicted_valid = model_rfr.predict(features_valid)\n",
    "rmse_valid_rfr = mean_squared_error(target_valid, predicted_valid) ** 0.5\n",
    "print('RMSE', rmse_valid_rfr,)"
   ]
  },
  {
   "cell_type": "code",
   "execution_count": 41,
   "metadata": {},
   "outputs": [],
   "source": [
    "final_table['RandomForestRegressor']  = [rmse_valid_rfr, '4min 58s', '2.67 s']"
   ]
  },
  {
   "cell_type": "markdown",
   "metadata": {},
   "source": [
    "Возможно, имея больше времени, я бы нашел еще более идеальные параметры леса, но почти пять часов достаточно. "
   ]
  },
  {
   "cell_type": "markdown",
   "metadata": {},
   "source": [
    "### CatBoostRegressor"
   ]
  },
  {
   "cell_type": "code",
   "execution_count": 42,
   "metadata": {},
   "outputs": [],
   "source": [
    "model_cbr =  CatBoostRegressor(random_state=RANDOM_STATE)"
   ]
  },
  {
   "cell_type": "code",
   "execution_count": 44,
   "metadata": {},
   "outputs": [
    {
     "name": "stdout",
     "output_type": "stream",
     "text": [
      "Learning rate set to 0.09061\n",
      "0:\tlearn: 4404.0491350\ttotal: 6.62ms\tremaining: 6.62s\n",
      "1:\tlearn: 4166.6515832\ttotal: 12.4ms\tremaining: 6.21s\n",
      "2:\tlearn: 3951.1257082\ttotal: 18.1ms\tremaining: 6.02s\n",
      "3:\tlearn: 3750.3459802\ttotal: 24.1ms\tremaining: 6s\n",
      "4:\tlearn: 3564.3658276\ttotal: 30.1ms\tremaining: 5.98s\n",
      "5:\tlearn: 3407.2156675\ttotal: 35.9ms\tremaining: 5.95s\n",
      "6:\tlearn: 3268.6379532\ttotal: 41.8ms\tremaining: 5.93s\n",
      "7:\tlearn: 3140.5409848\ttotal: 47.5ms\tremaining: 5.89s\n",
      "8:\tlearn: 3029.2204449\ttotal: 53.1ms\tremaining: 5.85s\n",
      "9:\tlearn: 2931.6489250\ttotal: 58.9ms\tremaining: 5.83s\n",
      "10:\tlearn: 2845.4331256\ttotal: 64.7ms\tremaining: 5.82s\n",
      "11:\tlearn: 2767.1197857\ttotal: 70.9ms\tremaining: 5.84s\n",
      "12:\tlearn: 2695.4713501\ttotal: 77.3ms\tremaining: 5.87s\n",
      "13:\tlearn: 2636.8593859\ttotal: 83.4ms\tremaining: 5.87s\n",
      "14:\tlearn: 2578.7883644\ttotal: 89.1ms\tremaining: 5.85s\n",
      "15:\tlearn: 2528.8197289\ttotal: 94.7ms\tremaining: 5.83s\n",
      "16:\tlearn: 2484.3892457\ttotal: 101ms\tremaining: 5.82s\n",
      "17:\tlearn: 2444.5837632\ttotal: 106ms\tremaining: 5.8s\n",
      "18:\tlearn: 2410.1615058\ttotal: 113ms\tremaining: 5.82s\n",
      "19:\tlearn: 2379.7397511\ttotal: 119ms\tremaining: 5.83s\n",
      "20:\tlearn: 2349.3619667\ttotal: 125ms\tremaining: 5.8s\n",
      "21:\tlearn: 2322.9711101\ttotal: 131ms\tremaining: 5.8s\n",
      "22:\tlearn: 2294.8450029\ttotal: 137ms\tremaining: 5.81s\n",
      "23:\tlearn: 2274.2821303\ttotal: 142ms\tremaining: 5.79s\n",
      "24:\tlearn: 2254.5582150\ttotal: 148ms\tremaining: 5.79s\n",
      "25:\tlearn: 2230.1997298\ttotal: 154ms\tremaining: 5.78s\n",
      "26:\tlearn: 2210.4197647\ttotal: 160ms\tremaining: 5.78s\n",
      "27:\tlearn: 2193.3273560\ttotal: 167ms\tremaining: 5.78s\n",
      "28:\tlearn: 2179.4338379\ttotal: 172ms\tremaining: 5.76s\n",
      "29:\tlearn: 2167.1636884\ttotal: 179ms\tremaining: 5.77s\n",
      "30:\tlearn: 2154.1136557\ttotal: 185ms\tremaining: 5.79s\n",
      "31:\tlearn: 2141.5145302\ttotal: 191ms\tremaining: 5.79s\n",
      "32:\tlearn: 2130.4454586\ttotal: 198ms\tremaining: 5.81s\n",
      "33:\tlearn: 2119.2946838\ttotal: 204ms\tremaining: 5.8s\n",
      "34:\tlearn: 2108.9559179\ttotal: 210ms\tremaining: 5.79s\n",
      "35:\tlearn: 2101.1244907\ttotal: 216ms\tremaining: 5.78s\n",
      "36:\tlearn: 2090.1245598\ttotal: 222ms\tremaining: 5.77s\n",
      "37:\tlearn: 2081.8640482\ttotal: 228ms\tremaining: 5.77s\n",
      "38:\tlearn: 2074.3622890\ttotal: 234ms\tremaining: 5.77s\n",
      "39:\tlearn: 2067.5328353\ttotal: 240ms\tremaining: 5.77s\n",
      "40:\tlearn: 2059.7350685\ttotal: 247ms\tremaining: 5.78s\n",
      "41:\tlearn: 2051.9423101\ttotal: 253ms\tremaining: 5.77s\n",
      "42:\tlearn: 2046.7392242\ttotal: 259ms\tremaining: 5.76s\n",
      "43:\tlearn: 2039.5276391\ttotal: 265ms\tremaining: 5.76s\n",
      "44:\tlearn: 2033.2405592\ttotal: 271ms\tremaining: 5.76s\n",
      "45:\tlearn: 2027.6266821\ttotal: 277ms\tremaining: 5.73s\n",
      "46:\tlearn: 2022.6023312\ttotal: 282ms\tremaining: 5.72s\n",
      "47:\tlearn: 2017.9232562\ttotal: 288ms\tremaining: 5.71s\n",
      "48:\tlearn: 2013.5277371\ttotal: 294ms\tremaining: 5.7s\n",
      "49:\tlearn: 2008.6815714\ttotal: 299ms\tremaining: 5.68s\n",
      "50:\tlearn: 2003.3456701\ttotal: 305ms\tremaining: 5.68s\n",
      "51:\tlearn: 1999.2485502\ttotal: 311ms\tremaining: 5.66s\n",
      "52:\tlearn: 1994.8468152\ttotal: 316ms\tremaining: 5.65s\n",
      "53:\tlearn: 1990.5906234\ttotal: 322ms\tremaining: 5.63s\n",
      "54:\tlearn: 1986.5337461\ttotal: 327ms\tremaining: 5.63s\n",
      "55:\tlearn: 1983.1332992\ttotal: 333ms\tremaining: 5.61s\n",
      "56:\tlearn: 1979.1990220\ttotal: 338ms\tremaining: 5.6s\n",
      "57:\tlearn: 1973.6756223\ttotal: 345ms\tremaining: 5.6s\n",
      "58:\tlearn: 1970.8766817\ttotal: 350ms\tremaining: 5.59s\n",
      "59:\tlearn: 1968.4660134\ttotal: 356ms\tremaining: 5.57s\n",
      "60:\tlearn: 1965.5962790\ttotal: 362ms\tremaining: 5.57s\n",
      "61:\tlearn: 1961.3839048\ttotal: 368ms\tremaining: 5.56s\n",
      "62:\tlearn: 1958.0305160\ttotal: 373ms\tremaining: 5.55s\n",
      "63:\tlearn: 1955.5293713\ttotal: 379ms\tremaining: 5.55s\n",
      "64:\tlearn: 1952.4645412\ttotal: 385ms\tremaining: 5.53s\n",
      "65:\tlearn: 1949.1994178\ttotal: 391ms\tremaining: 5.53s\n",
      "66:\tlearn: 1946.0046241\ttotal: 398ms\tremaining: 5.54s\n",
      "67:\tlearn: 1943.8670549\ttotal: 403ms\tremaining: 5.53s\n",
      "68:\tlearn: 1941.5288643\ttotal: 410ms\tremaining: 5.53s\n",
      "69:\tlearn: 1939.5944935\ttotal: 415ms\tremaining: 5.51s\n",
      "70:\tlearn: 1937.0991614\ttotal: 421ms\tremaining: 5.51s\n",
      "71:\tlearn: 1934.9286699\ttotal: 428ms\tremaining: 5.51s\n",
      "72:\tlearn: 1931.9368398\ttotal: 434ms\tremaining: 5.51s\n",
      "73:\tlearn: 1929.6172450\ttotal: 439ms\tremaining: 5.5s\n",
      "74:\tlearn: 1927.3715453\ttotal: 445ms\tremaining: 5.49s\n",
      "75:\tlearn: 1925.7323024\ttotal: 451ms\tremaining: 5.48s\n",
      "76:\tlearn: 1923.3790319\ttotal: 457ms\tremaining: 5.48s\n",
      "77:\tlearn: 1920.6853614\ttotal: 463ms\tremaining: 5.47s\n",
      "78:\tlearn: 1918.6538487\ttotal: 468ms\tremaining: 5.46s\n",
      "79:\tlearn: 1917.2641965\ttotal: 475ms\tremaining: 5.46s\n",
      "80:\tlearn: 1915.8394493\ttotal: 480ms\tremaining: 5.44s\n",
      "81:\tlearn: 1914.2597036\ttotal: 485ms\tremaining: 5.43s\n",
      "82:\tlearn: 1909.9425802\ttotal: 491ms\tremaining: 5.42s\n",
      "83:\tlearn: 1907.4511687\ttotal: 497ms\tremaining: 5.42s\n",
      "84:\tlearn: 1905.9876199\ttotal: 503ms\tremaining: 5.42s\n",
      "85:\tlearn: 1904.5536250\ttotal: 508ms\tremaining: 5.4s\n",
      "86:\tlearn: 1902.3549565\ttotal: 514ms\tremaining: 5.39s\n",
      "87:\tlearn: 1900.8540583\ttotal: 520ms\tremaining: 5.38s\n",
      "88:\tlearn: 1899.2737570\ttotal: 525ms\tremaining: 5.37s\n",
      "89:\tlearn: 1897.7791889\ttotal: 531ms\tremaining: 5.37s\n",
      "90:\tlearn: 1896.1444261\ttotal: 536ms\tremaining: 5.36s\n",
      "91:\tlearn: 1894.3210723\ttotal: 542ms\tremaining: 5.35s\n",
      "92:\tlearn: 1892.3278901\ttotal: 547ms\tremaining: 5.34s\n",
      "93:\tlearn: 1890.6502963\ttotal: 553ms\tremaining: 5.33s\n",
      "94:\tlearn: 1888.5079637\ttotal: 559ms\tremaining: 5.32s\n",
      "95:\tlearn: 1886.9649374\ttotal: 564ms\tremaining: 5.31s\n",
      "96:\tlearn: 1885.6629197\ttotal: 570ms\tremaining: 5.3s\n",
      "97:\tlearn: 1884.1688046\ttotal: 575ms\tremaining: 5.29s\n",
      "98:\tlearn: 1882.3729909\ttotal: 581ms\tremaining: 5.29s\n",
      "99:\tlearn: 1880.4130423\ttotal: 586ms\tremaining: 5.28s\n",
      "100:\tlearn: 1879.2712782\ttotal: 592ms\tremaining: 5.27s\n",
      "101:\tlearn: 1878.3500383\ttotal: 598ms\tremaining: 5.27s\n",
      "102:\tlearn: 1877.1931990\ttotal: 605ms\tremaining: 5.26s\n",
      "103:\tlearn: 1876.0200797\ttotal: 611ms\tremaining: 5.26s\n",
      "104:\tlearn: 1874.8797920\ttotal: 616ms\tremaining: 5.25s\n",
      "105:\tlearn: 1873.9605154\ttotal: 622ms\tremaining: 5.24s\n",
      "106:\tlearn: 1870.7416541\ttotal: 628ms\tremaining: 5.24s\n",
      "107:\tlearn: 1869.1450777\ttotal: 634ms\tremaining: 5.23s\n",
      "108:\tlearn: 1866.5484316\ttotal: 639ms\tremaining: 5.23s\n",
      "109:\tlearn: 1865.1592142\ttotal: 645ms\tremaining: 5.22s\n",
      "110:\tlearn: 1863.9130058\ttotal: 651ms\tremaining: 5.21s\n",
      "111:\tlearn: 1862.8114908\ttotal: 656ms\tremaining: 5.2s\n",
      "112:\tlearn: 1861.5677451\ttotal: 661ms\tremaining: 5.19s\n",
      "113:\tlearn: 1860.3324120\ttotal: 667ms\tremaining: 5.18s\n",
      "114:\tlearn: 1859.2026655\ttotal: 673ms\tremaining: 5.18s\n",
      "115:\tlearn: 1858.0218621\ttotal: 678ms\tremaining: 5.17s\n",
      "116:\tlearn: 1857.2038462\ttotal: 684ms\tremaining: 5.16s\n",
      "117:\tlearn: 1854.9160068\ttotal: 689ms\tremaining: 5.15s\n",
      "118:\tlearn: 1853.8461882\ttotal: 695ms\tremaining: 5.14s\n",
      "119:\tlearn: 1853.1240679\ttotal: 700ms\tremaining: 5.13s\n",
      "120:\tlearn: 1851.8413192\ttotal: 706ms\tremaining: 5.13s\n",
      "121:\tlearn: 1850.9787729\ttotal: 711ms\tremaining: 5.12s\n",
      "122:\tlearn: 1849.6852542\ttotal: 717ms\tremaining: 5.11s\n",
      "123:\tlearn: 1848.9033189\ttotal: 722ms\tremaining: 5.1s\n",
      "124:\tlearn: 1848.1604618\ttotal: 727ms\tremaining: 5.09s\n",
      "125:\tlearn: 1847.4806551\ttotal: 733ms\tremaining: 5.08s\n",
      "126:\tlearn: 1846.6291744\ttotal: 738ms\tremaining: 5.08s\n",
      "127:\tlearn: 1845.4967300\ttotal: 744ms\tremaining: 5.07s\n",
      "128:\tlearn: 1844.5451179\ttotal: 749ms\tremaining: 5.06s\n",
      "129:\tlearn: 1843.5865763\ttotal: 755ms\tremaining: 5.05s\n",
      "130:\tlearn: 1842.6486648\ttotal: 761ms\tremaining: 5.05s\n",
      "131:\tlearn: 1841.6984337\ttotal: 766ms\tremaining: 5.04s\n",
      "132:\tlearn: 1840.8468247\ttotal: 772ms\tremaining: 5.03s\n",
      "133:\tlearn: 1840.0438623\ttotal: 777ms\tremaining: 5.02s\n",
      "134:\tlearn: 1839.5074085\ttotal: 783ms\tremaining: 5.01s\n",
      "135:\tlearn: 1838.4113425\ttotal: 788ms\tremaining: 5s\n",
      "136:\tlearn: 1837.1552242\ttotal: 795ms\tremaining: 5s\n",
      "137:\tlearn: 1836.3083610\ttotal: 802ms\tremaining: 5.01s\n",
      "138:\tlearn: 1834.9479804\ttotal: 809ms\tremaining: 5.01s\n",
      "139:\tlearn: 1834.1543040\ttotal: 815ms\tremaining: 5s\n",
      "140:\tlearn: 1833.1207818\ttotal: 821ms\tremaining: 5s\n",
      "141:\tlearn: 1832.1218687\ttotal: 827ms\tremaining: 5s\n",
      "142:\tlearn: 1831.4631108\ttotal: 833ms\tremaining: 4.99s\n",
      "143:\tlearn: 1830.8925565\ttotal: 838ms\tremaining: 4.98s\n",
      "144:\tlearn: 1829.9673670\ttotal: 844ms\tremaining: 4.98s\n",
      "145:\tlearn: 1828.9578882\ttotal: 850ms\tremaining: 4.97s\n",
      "146:\tlearn: 1828.1492099\ttotal: 855ms\tremaining: 4.96s\n",
      "147:\tlearn: 1827.3899532\ttotal: 861ms\tremaining: 4.96s\n",
      "148:\tlearn: 1826.2288316\ttotal: 867ms\tremaining: 4.95s\n",
      "149:\tlearn: 1825.1920805\ttotal: 873ms\tremaining: 4.94s\n",
      "150:\tlearn: 1824.1944143\ttotal: 879ms\tremaining: 4.94s\n",
      "151:\tlearn: 1822.7907181\ttotal: 884ms\tremaining: 4.93s\n",
      "152:\tlearn: 1822.2179210\ttotal: 889ms\tremaining: 4.92s\n",
      "153:\tlearn: 1821.7173879\ttotal: 895ms\tremaining: 4.92s\n",
      "154:\tlearn: 1820.9233706\ttotal: 901ms\tremaining: 4.91s\n",
      "155:\tlearn: 1820.2234784\ttotal: 906ms\tremaining: 4.9s\n",
      "156:\tlearn: 1819.0574051\ttotal: 911ms\tremaining: 4.89s\n",
      "157:\tlearn: 1818.2349569\ttotal: 917ms\tremaining: 4.89s\n",
      "158:\tlearn: 1817.5190683\ttotal: 922ms\tremaining: 4.88s\n",
      "159:\tlearn: 1816.3625680\ttotal: 928ms\tremaining: 4.87s\n",
      "160:\tlearn: 1815.3212543\ttotal: 934ms\tremaining: 4.87s\n",
      "161:\tlearn: 1814.6914644\ttotal: 939ms\tremaining: 4.86s\n",
      "162:\tlearn: 1814.1661263\ttotal: 945ms\tremaining: 4.85s\n",
      "163:\tlearn: 1813.1060211\ttotal: 951ms\tremaining: 4.85s\n",
      "164:\tlearn: 1812.5692439\ttotal: 956ms\tremaining: 4.84s\n",
      "165:\tlearn: 1812.1693827\ttotal: 961ms\tremaining: 4.83s\n",
      "166:\tlearn: 1811.1420895\ttotal: 967ms\tremaining: 4.82s\n",
      "167:\tlearn: 1810.2031551\ttotal: 973ms\tremaining: 4.82s\n",
      "168:\tlearn: 1809.6916260\ttotal: 978ms\tremaining: 4.81s\n",
      "169:\tlearn: 1809.0077165\ttotal: 983ms\tremaining: 4.8s\n",
      "170:\tlearn: 1808.1885474\ttotal: 989ms\tremaining: 4.79s\n",
      "171:\tlearn: 1807.1712241\ttotal: 994ms\tremaining: 4.79s\n",
      "172:\tlearn: 1806.0332166\ttotal: 1s\tremaining: 4.78s\n",
      "173:\tlearn: 1805.0165017\ttotal: 1.01s\tremaining: 4.78s\n",
      "174:\tlearn: 1804.1076023\ttotal: 1.01s\tremaining: 4.77s\n",
      "175:\tlearn: 1803.5454193\ttotal: 1.02s\tremaining: 4.77s\n",
      "176:\tlearn: 1802.5135804\ttotal: 1.02s\tremaining: 4.76s\n",
      "177:\tlearn: 1802.0274761\ttotal: 1.03s\tremaining: 4.76s\n",
      "178:\tlearn: 1801.1040149\ttotal: 1.03s\tremaining: 4.75s\n",
      "179:\tlearn: 1800.2111728\ttotal: 1.04s\tremaining: 4.74s\n",
      "180:\tlearn: 1799.8312393\ttotal: 1.05s\tremaining: 4.73s\n",
      "181:\tlearn: 1799.4233852\ttotal: 1.05s\tremaining: 4.72s\n",
      "182:\tlearn: 1798.7650464\ttotal: 1.06s\tremaining: 4.72s\n",
      "183:\tlearn: 1798.3395127\ttotal: 1.06s\tremaining: 4.71s\n",
      "184:\tlearn: 1797.7089008\ttotal: 1.07s\tremaining: 4.7s\n",
      "185:\tlearn: 1796.9476096\ttotal: 1.07s\tremaining: 4.7s\n",
      "186:\tlearn: 1796.2181141\ttotal: 1.08s\tremaining: 4.69s\n",
      "187:\tlearn: 1795.7027466\ttotal: 1.08s\tremaining: 4.68s\n",
      "188:\tlearn: 1794.8679855\ttotal: 1.09s\tremaining: 4.68s\n",
      "189:\tlearn: 1793.7880995\ttotal: 1.1s\tremaining: 4.67s\n",
      "190:\tlearn: 1793.3057111\ttotal: 1.1s\tremaining: 4.67s\n",
      "191:\tlearn: 1792.5798161\ttotal: 1.11s\tremaining: 4.66s\n",
      "192:\tlearn: 1792.0484260\ttotal: 1.11s\tremaining: 4.65s\n",
      "193:\tlearn: 1791.2730758\ttotal: 1.12s\tremaining: 4.64s\n",
      "194:\tlearn: 1790.4448711\ttotal: 1.12s\tremaining: 4.64s\n",
      "195:\tlearn: 1789.9148442\ttotal: 1.13s\tremaining: 4.63s\n",
      "196:\tlearn: 1789.1131346\ttotal: 1.13s\tremaining: 4.63s\n",
      "197:\tlearn: 1788.7850417\ttotal: 1.14s\tremaining: 4.62s\n",
      "198:\tlearn: 1788.0838702\ttotal: 1.15s\tremaining: 4.61s\n",
      "199:\tlearn: 1787.7616358\ttotal: 1.15s\tremaining: 4.6s\n",
      "200:\tlearn: 1787.0330429\ttotal: 1.16s\tremaining: 4.6s\n",
      "201:\tlearn: 1786.4156423\ttotal: 1.16s\tremaining: 4.59s\n",
      "202:\tlearn: 1785.9006112\ttotal: 1.17s\tremaining: 4.58s\n",
      "203:\tlearn: 1785.4728846\ttotal: 1.17s\tremaining: 4.58s\n",
      "204:\tlearn: 1785.0954018\ttotal: 1.18s\tremaining: 4.57s\n",
      "205:\tlearn: 1784.5100933\ttotal: 1.18s\tremaining: 4.56s\n",
      "206:\tlearn: 1783.9098547\ttotal: 1.19s\tremaining: 4.55s\n",
      "207:\tlearn: 1783.2818486\ttotal: 1.19s\tremaining: 4.55s\n",
      "208:\tlearn: 1782.7063350\ttotal: 1.2s\tremaining: 4.54s\n",
      "209:\tlearn: 1782.1783807\ttotal: 1.21s\tremaining: 4.54s\n",
      "210:\tlearn: 1781.0591395\ttotal: 1.21s\tremaining: 4.54s\n",
      "211:\tlearn: 1780.7251628\ttotal: 1.24s\tremaining: 4.61s\n",
      "212:\tlearn: 1779.8862098\ttotal: 1.25s\tremaining: 4.61s\n",
      "213:\tlearn: 1779.3262962\ttotal: 1.25s\tremaining: 4.6s\n",
      "214:\tlearn: 1778.7219695\ttotal: 1.26s\tremaining: 4.59s\n",
      "215:\tlearn: 1778.2282673\ttotal: 1.26s\tremaining: 4.58s\n",
      "216:\tlearn: 1777.6332325\ttotal: 1.27s\tremaining: 4.58s\n",
      "217:\tlearn: 1777.0699345\ttotal: 1.27s\tremaining: 4.57s\n",
      "218:\tlearn: 1776.4264693\ttotal: 1.28s\tremaining: 4.56s\n",
      "219:\tlearn: 1775.7027427\ttotal: 1.28s\tremaining: 4.56s\n",
      "220:\tlearn: 1775.1618191\ttotal: 1.29s\tremaining: 4.55s\n",
      "221:\tlearn: 1774.6202005\ttotal: 1.3s\tremaining: 4.54s\n",
      "222:\tlearn: 1774.2665674\ttotal: 1.3s\tremaining: 4.54s\n",
      "223:\tlearn: 1773.6839489\ttotal: 1.31s\tremaining: 4.53s\n",
      "224:\tlearn: 1773.0045581\ttotal: 1.31s\tremaining: 4.52s\n",
      "225:\tlearn: 1772.6017449\ttotal: 1.32s\tremaining: 4.51s\n",
      "226:\tlearn: 1772.0909481\ttotal: 1.32s\tremaining: 4.51s\n",
      "227:\tlearn: 1771.6707193\ttotal: 1.33s\tremaining: 4.5s\n",
      "228:\tlearn: 1771.1666793\ttotal: 1.33s\tremaining: 4.49s\n",
      "229:\tlearn: 1770.7657542\ttotal: 1.34s\tremaining: 4.49s\n",
      "230:\tlearn: 1770.0904589\ttotal: 1.35s\tremaining: 4.48s\n",
      "231:\tlearn: 1769.7411959\ttotal: 1.35s\tremaining: 4.47s\n",
      "232:\tlearn: 1769.2953162\ttotal: 1.36s\tremaining: 4.47s\n",
      "233:\tlearn: 1768.8321189\ttotal: 1.36s\tremaining: 4.46s\n",
      "234:\tlearn: 1768.5561602\ttotal: 1.37s\tremaining: 4.46s\n",
      "235:\tlearn: 1768.0839577\ttotal: 1.37s\tremaining: 4.45s\n",
      "236:\tlearn: 1767.5228458\ttotal: 1.38s\tremaining: 4.44s\n",
      "237:\tlearn: 1766.8052862\ttotal: 1.39s\tremaining: 4.44s\n",
      "238:\tlearn: 1766.1241518\ttotal: 1.39s\tremaining: 4.43s\n",
      "239:\tlearn: 1765.7805776\ttotal: 1.4s\tremaining: 4.42s\n",
      "240:\tlearn: 1765.2967143\ttotal: 1.4s\tremaining: 4.42s\n",
      "241:\tlearn: 1764.8996084\ttotal: 1.41s\tremaining: 4.41s\n",
      "242:\tlearn: 1764.4559394\ttotal: 1.42s\tremaining: 4.41s\n",
      "243:\tlearn: 1764.0771230\ttotal: 1.42s\tremaining: 4.4s\n",
      "244:\tlearn: 1763.6165661\ttotal: 1.43s\tremaining: 4.4s\n",
      "245:\tlearn: 1763.0313844\ttotal: 1.43s\tremaining: 4.39s\n",
      "246:\tlearn: 1762.6625108\ttotal: 1.44s\tremaining: 4.39s\n",
      "247:\tlearn: 1762.3275967\ttotal: 1.44s\tremaining: 4.38s\n",
      "248:\tlearn: 1762.0404598\ttotal: 1.45s\tremaining: 4.37s\n",
      "249:\tlearn: 1761.7682182\ttotal: 1.46s\tremaining: 4.37s\n",
      "250:\tlearn: 1761.3189254\ttotal: 1.46s\tremaining: 4.36s\n",
      "251:\tlearn: 1760.7354144\ttotal: 1.47s\tremaining: 4.36s\n",
      "252:\tlearn: 1760.1284281\ttotal: 1.47s\tremaining: 4.35s\n",
      "253:\tlearn: 1759.5898026\ttotal: 1.48s\tremaining: 4.34s\n",
      "254:\tlearn: 1759.1867528\ttotal: 1.48s\tremaining: 4.34s\n",
      "255:\tlearn: 1758.6977779\ttotal: 1.49s\tremaining: 4.33s\n",
      "256:\tlearn: 1758.3132382\ttotal: 1.5s\tremaining: 4.32s\n",
      "257:\tlearn: 1757.8542509\ttotal: 1.5s\tremaining: 4.32s\n",
      "258:\tlearn: 1757.4124550\ttotal: 1.51s\tremaining: 4.31s\n",
      "259:\tlearn: 1757.0341909\ttotal: 1.51s\tremaining: 4.3s\n",
      "260:\tlearn: 1756.5617476\ttotal: 1.52s\tremaining: 4.3s\n",
      "261:\tlearn: 1756.1389132\ttotal: 1.52s\tremaining: 4.29s\n",
      "262:\tlearn: 1755.5863054\ttotal: 1.53s\tremaining: 4.28s\n",
      "263:\tlearn: 1755.3067570\ttotal: 1.53s\tremaining: 4.28s\n",
      "264:\tlearn: 1754.8542480\ttotal: 1.54s\tremaining: 4.27s\n",
      "265:\tlearn: 1754.5196747\ttotal: 1.54s\tremaining: 4.26s\n",
      "266:\tlearn: 1754.1990906\ttotal: 1.55s\tremaining: 4.26s\n",
      "267:\tlearn: 1753.8979945\ttotal: 1.56s\tremaining: 4.25s\n",
      "268:\tlearn: 1753.4890153\ttotal: 1.56s\tremaining: 4.24s\n",
      "269:\tlearn: 1753.1495430\ttotal: 1.57s\tremaining: 4.24s\n",
      "270:\tlearn: 1752.7966914\ttotal: 1.57s\tremaining: 4.23s\n",
      "271:\tlearn: 1752.6084699\ttotal: 1.58s\tremaining: 4.22s\n",
      "272:\tlearn: 1752.2582828\ttotal: 1.58s\tremaining: 4.22s\n",
      "273:\tlearn: 1752.0709756\ttotal: 1.59s\tremaining: 4.21s\n",
      "274:\tlearn: 1751.5677551\ttotal: 1.59s\tremaining: 4.21s\n",
      "275:\tlearn: 1751.1284184\ttotal: 1.6s\tremaining: 4.2s\n",
      "276:\tlearn: 1750.7413588\ttotal: 1.61s\tremaining: 4.19s\n",
      "277:\tlearn: 1750.1767132\ttotal: 1.61s\tremaining: 4.19s\n",
      "278:\tlearn: 1749.7311373\ttotal: 1.62s\tremaining: 4.19s\n",
      "279:\tlearn: 1749.2744347\ttotal: 1.63s\tremaining: 4.18s\n",
      "280:\tlearn: 1748.8688818\ttotal: 1.63s\tremaining: 4.17s\n",
      "281:\tlearn: 1748.3293856\ttotal: 1.64s\tremaining: 4.17s\n",
      "282:\tlearn: 1747.9679802\ttotal: 1.64s\tremaining: 4.16s\n",
      "283:\tlearn: 1747.4672503\ttotal: 1.65s\tremaining: 4.16s\n",
      "284:\tlearn: 1747.1152255\ttotal: 1.65s\tremaining: 4.15s\n",
      "285:\tlearn: 1746.5311508\ttotal: 1.66s\tremaining: 4.14s\n",
      "286:\tlearn: 1746.1169962\ttotal: 1.67s\tremaining: 4.14s\n",
      "287:\tlearn: 1745.8269514\ttotal: 1.67s\tremaining: 4.13s\n",
      "288:\tlearn: 1745.4897475\ttotal: 1.68s\tremaining: 4.13s\n",
      "289:\tlearn: 1744.9288599\ttotal: 1.68s\tremaining: 4.12s\n",
      "290:\tlearn: 1744.5709970\ttotal: 1.69s\tremaining: 4.11s\n",
      "291:\tlearn: 1744.2050345\ttotal: 1.69s\tremaining: 4.11s\n",
      "292:\tlearn: 1743.8609408\ttotal: 1.7s\tremaining: 4.1s\n",
      "293:\tlearn: 1743.4541375\ttotal: 1.7s\tremaining: 4.09s\n",
      "294:\tlearn: 1743.2885255\ttotal: 1.71s\tremaining: 4.09s\n",
      "295:\tlearn: 1743.0753351\ttotal: 1.72s\tremaining: 4.08s\n",
      "296:\tlearn: 1742.7939643\ttotal: 1.72s\tremaining: 4.07s\n",
      "297:\tlearn: 1742.3438671\ttotal: 1.73s\tremaining: 4.07s\n",
      "298:\tlearn: 1742.1218127\ttotal: 1.73s\tremaining: 4.06s\n",
      "299:\tlearn: 1741.7716282\ttotal: 1.74s\tremaining: 4.05s\n",
      "300:\tlearn: 1741.4447992\ttotal: 1.74s\tremaining: 4.05s\n",
      "301:\tlearn: 1741.1064911\ttotal: 1.75s\tremaining: 4.04s\n",
      "302:\tlearn: 1740.6690458\ttotal: 1.75s\tremaining: 4.03s\n",
      "303:\tlearn: 1740.2134800\ttotal: 1.76s\tremaining: 4.03s\n",
      "304:\tlearn: 1739.8303096\ttotal: 1.76s\tremaining: 4.02s\n",
      "305:\tlearn: 1739.3415084\ttotal: 1.77s\tremaining: 4.01s\n",
      "306:\tlearn: 1738.9637803\ttotal: 1.77s\tremaining: 4.01s\n",
      "307:\tlearn: 1738.7367051\ttotal: 1.78s\tremaining: 4s\n",
      "308:\tlearn: 1738.2740566\ttotal: 1.79s\tremaining: 4s\n",
      "309:\tlearn: 1737.9794068\ttotal: 1.79s\tremaining: 3.99s\n",
      "310:\tlearn: 1737.7073304\ttotal: 1.8s\tremaining: 3.98s\n",
      "311:\tlearn: 1737.3195866\ttotal: 1.8s\tremaining: 3.98s\n",
      "312:\tlearn: 1737.0585488\ttotal: 1.81s\tremaining: 3.97s\n",
      "313:\tlearn: 1736.6748349\ttotal: 1.81s\tremaining: 3.96s\n",
      "314:\tlearn: 1736.3457864\ttotal: 1.82s\tremaining: 3.96s\n",
      "315:\tlearn: 1735.9370171\ttotal: 1.83s\tremaining: 3.95s\n",
      "316:\tlearn: 1735.5427250\ttotal: 1.83s\tremaining: 3.95s\n",
      "317:\tlearn: 1735.3199800\ttotal: 1.84s\tremaining: 3.94s\n",
      "318:\tlearn: 1734.9789616\ttotal: 1.84s\tremaining: 3.94s\n",
      "319:\tlearn: 1734.6025478\ttotal: 1.85s\tremaining: 3.93s\n",
      "320:\tlearn: 1734.1686266\ttotal: 1.86s\tremaining: 3.93s\n",
      "321:\tlearn: 1733.8833869\ttotal: 1.86s\tremaining: 3.92s\n",
      "322:\tlearn: 1733.7028129\ttotal: 1.87s\tremaining: 3.91s\n",
      "323:\tlearn: 1733.2448980\ttotal: 1.87s\tremaining: 3.91s\n",
      "324:\tlearn: 1732.9567626\ttotal: 1.88s\tremaining: 3.9s\n",
      "325:\tlearn: 1732.6724180\ttotal: 1.88s\tremaining: 3.89s\n",
      "326:\tlearn: 1732.2909434\ttotal: 1.89s\tremaining: 3.89s\n",
      "327:\tlearn: 1732.1011684\ttotal: 1.89s\tremaining: 3.88s\n",
      "328:\tlearn: 1731.8178366\ttotal: 1.9s\tremaining: 3.87s\n",
      "329:\tlearn: 1731.4909438\ttotal: 1.91s\tremaining: 3.87s\n",
      "330:\tlearn: 1731.1535406\ttotal: 1.91s\tremaining: 3.86s\n",
      "331:\tlearn: 1730.6148165\ttotal: 1.92s\tremaining: 3.86s\n",
      "332:\tlearn: 1730.2900824\ttotal: 1.92s\tremaining: 3.85s\n",
      "333:\tlearn: 1729.9134484\ttotal: 1.93s\tremaining: 3.84s\n",
      "334:\tlearn: 1729.7577952\ttotal: 1.93s\tremaining: 3.84s\n",
      "335:\tlearn: 1729.6672113\ttotal: 1.94s\tremaining: 3.83s\n",
      "336:\tlearn: 1729.1495096\ttotal: 1.94s\tremaining: 3.83s\n",
      "337:\tlearn: 1728.7295557\ttotal: 1.95s\tremaining: 3.82s\n",
      "338:\tlearn: 1728.3054422\ttotal: 1.96s\tremaining: 3.81s\n",
      "339:\tlearn: 1727.9296968\ttotal: 1.96s\tremaining: 3.81s\n",
      "340:\tlearn: 1727.6962273\ttotal: 1.97s\tremaining: 3.8s\n",
      "341:\tlearn: 1727.5477792\ttotal: 1.97s\tremaining: 3.79s\n",
      "342:\tlearn: 1727.2463345\ttotal: 1.98s\tremaining: 3.79s\n",
      "343:\tlearn: 1726.9837082\ttotal: 1.98s\tremaining: 3.78s\n",
      "344:\tlearn: 1726.6371111\ttotal: 1.99s\tremaining: 3.78s\n",
      "345:\tlearn: 1726.4306902\ttotal: 1.99s\tremaining: 3.77s\n",
      "346:\tlearn: 1726.2000467\ttotal: 2s\tremaining: 3.76s\n",
      "347:\tlearn: 1725.9331197\ttotal: 2s\tremaining: 3.76s\n",
      "348:\tlearn: 1725.6713807\ttotal: 2.01s\tremaining: 3.75s\n",
      "349:\tlearn: 1725.4297391\ttotal: 2.02s\tremaining: 3.74s\n",
      "350:\tlearn: 1725.2878571\ttotal: 2.02s\tremaining: 3.74s\n",
      "351:\tlearn: 1724.8164619\ttotal: 2.03s\tremaining: 3.73s\n",
      "352:\tlearn: 1724.5105588\ttotal: 2.03s\tremaining: 3.73s\n",
      "353:\tlearn: 1724.1697417\ttotal: 2.04s\tremaining: 3.72s\n",
      "354:\tlearn: 1723.7818348\ttotal: 2.04s\tremaining: 3.72s\n",
      "355:\tlearn: 1723.4933900\ttotal: 2.05s\tremaining: 3.71s\n",
      "356:\tlearn: 1723.2300209\ttotal: 2.06s\tremaining: 3.7s\n",
      "357:\tlearn: 1722.7497411\ttotal: 2.06s\tremaining: 3.7s\n",
      "358:\tlearn: 1722.5969634\ttotal: 2.07s\tremaining: 3.69s\n",
      "359:\tlearn: 1722.2771885\ttotal: 2.07s\tremaining: 3.69s\n",
      "360:\tlearn: 1721.9467856\ttotal: 2.08s\tremaining: 3.68s\n",
      "361:\tlearn: 1721.5875938\ttotal: 2.08s\tremaining: 3.67s\n",
      "362:\tlearn: 1721.1299026\ttotal: 2.09s\tremaining: 3.67s\n",
      "363:\tlearn: 1721.0490575\ttotal: 2.1s\tremaining: 3.66s\n",
      "364:\tlearn: 1720.8674753\ttotal: 2.1s\tremaining: 3.65s\n",
      "365:\tlearn: 1720.4665632\ttotal: 2.11s\tremaining: 3.65s\n",
      "366:\tlearn: 1720.2556471\ttotal: 2.11s\tremaining: 3.64s\n",
      "367:\tlearn: 1719.9251644\ttotal: 2.12s\tremaining: 3.63s\n",
      "368:\tlearn: 1719.6311997\ttotal: 2.12s\tremaining: 3.63s\n",
      "369:\tlearn: 1719.3186910\ttotal: 2.13s\tremaining: 3.62s\n",
      "370:\tlearn: 1719.1937751\ttotal: 2.13s\tremaining: 3.62s\n",
      "371:\tlearn: 1718.8441030\ttotal: 2.14s\tremaining: 3.61s\n",
      "372:\tlearn: 1718.7188223\ttotal: 2.14s\tremaining: 3.6s\n",
      "373:\tlearn: 1718.4614964\ttotal: 2.15s\tremaining: 3.6s\n",
      "374:\tlearn: 1718.2693374\ttotal: 2.15s\tremaining: 3.59s\n",
      "375:\tlearn: 1718.0753274\ttotal: 2.16s\tremaining: 3.58s\n",
      "376:\tlearn: 1717.8236985\ttotal: 2.17s\tremaining: 3.58s\n",
      "377:\tlearn: 1717.4207177\ttotal: 2.17s\tremaining: 3.57s\n",
      "378:\tlearn: 1717.0677860\ttotal: 2.18s\tremaining: 3.57s\n",
      "379:\tlearn: 1716.8233100\ttotal: 2.18s\tremaining: 3.56s\n",
      "380:\tlearn: 1716.5329892\ttotal: 2.19s\tremaining: 3.56s\n",
      "381:\tlearn: 1716.2107763\ttotal: 2.19s\tremaining: 3.55s\n",
      "382:\tlearn: 1715.8275536\ttotal: 2.2s\tremaining: 3.54s\n",
      "383:\tlearn: 1715.1631626\ttotal: 2.21s\tremaining: 3.54s\n",
      "384:\tlearn: 1714.9036784\ttotal: 2.21s\tremaining: 3.53s\n",
      "385:\tlearn: 1714.8295605\ttotal: 2.22s\tremaining: 3.53s\n",
      "386:\tlearn: 1714.4533699\ttotal: 2.22s\tremaining: 3.52s\n",
      "387:\tlearn: 1714.2408577\ttotal: 2.23s\tremaining: 3.52s\n",
      "388:\tlearn: 1713.9736326\ttotal: 2.23s\tremaining: 3.51s\n",
      "389:\tlearn: 1713.6561605\ttotal: 2.24s\tremaining: 3.5s\n",
      "390:\tlearn: 1713.3910548\ttotal: 2.25s\tremaining: 3.5s\n",
      "391:\tlearn: 1713.0391626\ttotal: 2.25s\tremaining: 3.49s\n",
      "392:\tlearn: 1712.7046448\ttotal: 2.26s\tremaining: 3.49s\n",
      "393:\tlearn: 1712.5658565\ttotal: 2.26s\tremaining: 3.48s\n",
      "394:\tlearn: 1712.3611364\ttotal: 2.27s\tremaining: 3.48s\n",
      "395:\tlearn: 1712.0523500\ttotal: 2.27s\tremaining: 3.47s\n",
      "396:\tlearn: 1711.8853081\ttotal: 2.28s\tremaining: 3.46s\n",
      "397:\tlearn: 1711.5816917\ttotal: 2.29s\tremaining: 3.46s\n",
      "398:\tlearn: 1711.3212036\ttotal: 2.29s\tremaining: 3.45s\n",
      "399:\tlearn: 1711.0116645\ttotal: 2.3s\tremaining: 3.45s\n",
      "400:\tlearn: 1710.7913956\ttotal: 2.3s\tremaining: 3.44s\n",
      "401:\tlearn: 1710.5513011\ttotal: 2.31s\tremaining: 3.43s\n",
      "402:\tlearn: 1710.2808712\ttotal: 2.31s\tremaining: 3.43s\n",
      "403:\tlearn: 1710.1245132\ttotal: 2.32s\tremaining: 3.42s\n",
      "404:\tlearn: 1710.0036270\ttotal: 2.32s\tremaining: 3.42s\n",
      "405:\tlearn: 1709.8291135\ttotal: 2.33s\tremaining: 3.41s\n",
      "406:\tlearn: 1709.6369258\ttotal: 2.34s\tremaining: 3.4s\n",
      "407:\tlearn: 1709.5296334\ttotal: 2.34s\tremaining: 3.4s\n",
      "408:\tlearn: 1709.2840238\ttotal: 2.35s\tremaining: 3.39s\n",
      "409:\tlearn: 1709.0402876\ttotal: 2.35s\tremaining: 3.38s\n",
      "410:\tlearn: 1708.7658669\ttotal: 2.36s\tremaining: 3.38s\n",
      "411:\tlearn: 1708.4900921\ttotal: 2.36s\tremaining: 3.37s\n",
      "412:\tlearn: 1708.3547814\ttotal: 2.37s\tremaining: 3.37s\n",
      "413:\tlearn: 1708.1078066\ttotal: 2.38s\tremaining: 3.36s\n",
      "414:\tlearn: 1707.9138193\ttotal: 2.38s\tremaining: 3.35s\n",
      "415:\tlearn: 1707.6879286\ttotal: 2.39s\tremaining: 3.35s\n",
      "416:\tlearn: 1707.5293733\ttotal: 2.39s\tremaining: 3.34s\n",
      "417:\tlearn: 1707.2046230\ttotal: 2.4s\tremaining: 3.34s\n",
      "418:\tlearn: 1706.9765937\ttotal: 2.4s\tremaining: 3.33s\n",
      "419:\tlearn: 1706.7500140\ttotal: 2.41s\tremaining: 3.33s\n",
      "420:\tlearn: 1706.4074194\ttotal: 2.41s\tremaining: 3.32s\n",
      "421:\tlearn: 1706.2628603\ttotal: 2.42s\tremaining: 3.31s\n",
      "422:\tlearn: 1705.9710579\ttotal: 2.42s\tremaining: 3.31s\n",
      "423:\tlearn: 1705.6663290\ttotal: 2.43s\tremaining: 3.3s\n",
      "424:\tlearn: 1705.3996221\ttotal: 2.44s\tremaining: 3.3s\n",
      "425:\tlearn: 1705.1092541\ttotal: 2.44s\tremaining: 3.29s\n",
      "426:\tlearn: 1704.8224861\ttotal: 2.45s\tremaining: 3.29s\n",
      "427:\tlearn: 1704.7305404\ttotal: 2.46s\tremaining: 3.28s\n",
      "428:\tlearn: 1704.4331023\ttotal: 2.46s\tremaining: 3.28s\n",
      "429:\tlearn: 1703.9977108\ttotal: 2.47s\tremaining: 3.27s\n",
      "430:\tlearn: 1703.4741550\ttotal: 2.47s\tremaining: 3.26s\n",
      "431:\tlearn: 1703.1464626\ttotal: 2.48s\tremaining: 3.26s\n",
      "432:\tlearn: 1702.9550919\ttotal: 2.48s\tremaining: 3.25s\n",
      "433:\tlearn: 1702.5776312\ttotal: 2.49s\tremaining: 3.25s\n",
      "434:\tlearn: 1702.2647274\ttotal: 2.49s\tremaining: 3.24s\n",
      "435:\tlearn: 1702.0085402\ttotal: 2.5s\tremaining: 3.23s\n",
      "436:\tlearn: 1701.7928499\ttotal: 2.5s\tremaining: 3.23s\n",
      "437:\tlearn: 1701.4728769\ttotal: 2.51s\tremaining: 3.22s\n",
      "438:\tlearn: 1701.1743777\ttotal: 2.52s\tremaining: 3.22s\n",
      "439:\tlearn: 1700.9522872\ttotal: 2.52s\tremaining: 3.21s\n",
      "440:\tlearn: 1700.7197509\ttotal: 2.53s\tremaining: 3.2s\n",
      "441:\tlearn: 1700.4962834\ttotal: 2.53s\tremaining: 3.2s\n",
      "442:\tlearn: 1700.3911211\ttotal: 2.54s\tremaining: 3.19s\n",
      "443:\tlearn: 1700.2191782\ttotal: 2.54s\tremaining: 3.19s\n",
      "444:\tlearn: 1699.9812992\ttotal: 2.55s\tremaining: 3.18s\n",
      "445:\tlearn: 1699.8097455\ttotal: 2.56s\tremaining: 3.17s\n",
      "446:\tlearn: 1699.4958250\ttotal: 2.56s\tremaining: 3.17s\n",
      "447:\tlearn: 1699.3428999\ttotal: 2.57s\tremaining: 3.16s\n",
      "448:\tlearn: 1699.1649869\ttotal: 2.57s\tremaining: 3.15s\n",
      "449:\tlearn: 1698.9427941\ttotal: 2.58s\tremaining: 3.15s\n",
      "450:\tlearn: 1698.7455501\ttotal: 2.58s\tremaining: 3.14s\n",
      "451:\tlearn: 1698.5334354\ttotal: 2.59s\tremaining: 3.14s\n",
      "452:\tlearn: 1698.4284467\ttotal: 2.59s\tremaining: 3.13s\n",
      "453:\tlearn: 1698.1302510\ttotal: 2.6s\tremaining: 3.13s\n",
      "454:\tlearn: 1697.8710533\ttotal: 2.6s\tremaining: 3.12s\n",
      "455:\tlearn: 1697.6204727\ttotal: 2.61s\tremaining: 3.11s\n",
      "456:\tlearn: 1697.3613757\ttotal: 2.62s\tremaining: 3.11s\n",
      "457:\tlearn: 1697.0011672\ttotal: 2.62s\tremaining: 3.1s\n",
      "458:\tlearn: 1696.7127441\ttotal: 2.63s\tremaining: 3.1s\n",
      "459:\tlearn: 1696.4945519\ttotal: 2.63s\tremaining: 3.09s\n",
      "460:\tlearn: 1696.1925480\ttotal: 2.64s\tremaining: 3.08s\n",
      "461:\tlearn: 1695.8972162\ttotal: 2.64s\tremaining: 3.08s\n",
      "462:\tlearn: 1695.7105977\ttotal: 2.65s\tremaining: 3.07s\n",
      "463:\tlearn: 1695.4560878\ttotal: 2.65s\tremaining: 3.07s\n",
      "464:\tlearn: 1695.0696557\ttotal: 2.66s\tremaining: 3.06s\n",
      "465:\tlearn: 1694.8404586\ttotal: 2.67s\tremaining: 3.06s\n",
      "466:\tlearn: 1694.5586855\ttotal: 2.67s\tremaining: 3.05s\n",
      "467:\tlearn: 1694.3376977\ttotal: 2.68s\tremaining: 3.05s\n",
      "468:\tlearn: 1693.9540186\ttotal: 2.69s\tremaining: 3.04s\n",
      "469:\tlearn: 1693.7566188\ttotal: 2.69s\tremaining: 3.04s\n",
      "470:\tlearn: 1693.5693651\ttotal: 2.7s\tremaining: 3.03s\n",
      "471:\tlearn: 1693.3174475\ttotal: 2.7s\tremaining: 3.02s\n",
      "472:\tlearn: 1693.2226151\ttotal: 2.71s\tremaining: 3.02s\n",
      "473:\tlearn: 1693.0106147\ttotal: 2.71s\tremaining: 3.01s\n",
      "474:\tlearn: 1692.8190678\ttotal: 2.72s\tremaining: 3s\n",
      "475:\tlearn: 1692.6196439\ttotal: 2.73s\tremaining: 3s\n",
      "476:\tlearn: 1692.3837188\ttotal: 2.73s\tremaining: 2.99s\n",
      "477:\tlearn: 1692.0405300\ttotal: 2.74s\tremaining: 2.99s\n",
      "478:\tlearn: 1691.9016762\ttotal: 2.74s\tremaining: 2.98s\n",
      "479:\tlearn: 1691.7504528\ttotal: 2.75s\tremaining: 2.98s\n",
      "480:\tlearn: 1691.5134225\ttotal: 2.75s\tremaining: 2.97s\n",
      "481:\tlearn: 1691.3644184\ttotal: 2.76s\tremaining: 2.96s\n",
      "482:\tlearn: 1691.1989663\ttotal: 2.76s\tremaining: 2.96s\n",
      "483:\tlearn: 1690.9512640\ttotal: 2.77s\tremaining: 2.95s\n",
      "484:\tlearn: 1690.7994269\ttotal: 2.77s\tremaining: 2.95s\n",
      "485:\tlearn: 1690.7408760\ttotal: 2.78s\tremaining: 2.94s\n",
      "486:\tlearn: 1690.6145708\ttotal: 2.79s\tremaining: 2.94s\n",
      "487:\tlearn: 1690.3809911\ttotal: 2.79s\tremaining: 2.93s\n",
      "488:\tlearn: 1690.2048027\ttotal: 2.8s\tremaining: 2.92s\n",
      "489:\tlearn: 1690.0316600\ttotal: 2.8s\tremaining: 2.92s\n",
      "490:\tlearn: 1689.9179085\ttotal: 2.81s\tremaining: 2.91s\n",
      "491:\tlearn: 1689.6035066\ttotal: 2.81s\tremaining: 2.91s\n",
      "492:\tlearn: 1689.4429429\ttotal: 2.82s\tremaining: 2.9s\n",
      "493:\tlearn: 1689.2852755\ttotal: 2.83s\tremaining: 2.9s\n",
      "494:\tlearn: 1689.0621745\ttotal: 2.83s\tremaining: 2.89s\n",
      "495:\tlearn: 1688.9264736\ttotal: 2.84s\tremaining: 2.88s\n",
      "496:\tlearn: 1688.7276209\ttotal: 2.84s\tremaining: 2.88s\n",
      "497:\tlearn: 1688.5976883\ttotal: 2.85s\tremaining: 2.87s\n",
      "498:\tlearn: 1688.3974536\ttotal: 2.85s\tremaining: 2.87s\n",
      "499:\tlearn: 1688.1024139\ttotal: 2.86s\tremaining: 2.86s\n",
      "500:\tlearn: 1687.8858988\ttotal: 2.87s\tremaining: 2.85s\n",
      "501:\tlearn: 1687.8033393\ttotal: 2.87s\tremaining: 2.85s\n",
      "502:\tlearn: 1687.5777932\ttotal: 2.88s\tremaining: 2.84s\n",
      "503:\tlearn: 1687.3439743\ttotal: 2.88s\tremaining: 2.84s\n",
      "504:\tlearn: 1687.2051854\ttotal: 2.89s\tremaining: 2.83s\n",
      "505:\tlearn: 1687.0368963\ttotal: 2.89s\tremaining: 2.83s\n",
      "506:\tlearn: 1686.8841578\ttotal: 2.9s\tremaining: 2.82s\n",
      "507:\tlearn: 1686.7312316\ttotal: 2.9s\tremaining: 2.81s\n",
      "508:\tlearn: 1686.5489022\ttotal: 2.91s\tremaining: 2.81s\n",
      "509:\tlearn: 1686.3692886\ttotal: 2.92s\tremaining: 2.8s\n",
      "510:\tlearn: 1686.2795279\ttotal: 2.92s\tremaining: 2.8s\n",
      "511:\tlearn: 1686.1082621\ttotal: 2.93s\tremaining: 2.79s\n",
      "512:\tlearn: 1685.9139752\ttotal: 2.93s\tremaining: 2.78s\n",
      "513:\tlearn: 1685.7083028\ttotal: 2.94s\tremaining: 2.78s\n",
      "514:\tlearn: 1685.6282667\ttotal: 2.94s\tremaining: 2.77s\n",
      "515:\tlearn: 1685.4299836\ttotal: 2.95s\tremaining: 2.77s\n",
      "516:\tlearn: 1685.1976172\ttotal: 2.95s\tremaining: 2.76s\n",
      "517:\tlearn: 1685.0819661\ttotal: 2.96s\tremaining: 2.75s\n",
      "518:\tlearn: 1684.9370196\ttotal: 2.96s\tremaining: 2.75s\n",
      "519:\tlearn: 1684.7986666\ttotal: 2.97s\tremaining: 2.74s\n",
      "520:\tlearn: 1684.6787770\ttotal: 2.98s\tremaining: 2.74s\n",
      "521:\tlearn: 1684.5246145\ttotal: 2.98s\tremaining: 2.73s\n",
      "522:\tlearn: 1684.3757288\ttotal: 2.99s\tremaining: 2.72s\n",
      "523:\tlearn: 1684.1692533\ttotal: 2.99s\tremaining: 2.72s\n",
      "524:\tlearn: 1683.9032422\ttotal: 3s\tremaining: 2.71s\n",
      "525:\tlearn: 1683.6894448\ttotal: 3s\tremaining: 2.71s\n",
      "526:\tlearn: 1683.5347825\ttotal: 3.01s\tremaining: 2.7s\n",
      "527:\tlearn: 1683.4330717\ttotal: 3.01s\tremaining: 2.69s\n",
      "528:\tlearn: 1683.2741138\ttotal: 3.02s\tremaining: 2.69s\n",
      "529:\tlearn: 1683.1230324\ttotal: 3.02s\tremaining: 2.68s\n",
      "530:\tlearn: 1682.8255438\ttotal: 3.03s\tremaining: 2.68s\n",
      "531:\tlearn: 1682.5505324\ttotal: 3.04s\tremaining: 2.67s\n",
      "532:\tlearn: 1682.3769868\ttotal: 3.04s\tremaining: 2.67s\n",
      "533:\tlearn: 1682.1484375\ttotal: 3.05s\tremaining: 2.66s\n",
      "534:\tlearn: 1682.0743510\ttotal: 3.06s\tremaining: 2.65s\n",
      "535:\tlearn: 1681.8978689\ttotal: 3.06s\tremaining: 2.65s\n",
      "536:\tlearn: 1681.7649481\ttotal: 3.07s\tremaining: 2.65s\n",
      "537:\tlearn: 1681.6579212\ttotal: 3.07s\tremaining: 2.64s\n",
      "538:\tlearn: 1681.5070808\ttotal: 3.08s\tremaining: 2.63s\n",
      "539:\tlearn: 1681.1696158\ttotal: 3.09s\tremaining: 2.63s\n",
      "540:\tlearn: 1680.9329375\ttotal: 3.09s\tremaining: 2.62s\n",
      "541:\tlearn: 1680.7414012\ttotal: 3.1s\tremaining: 2.62s\n",
      "542:\tlearn: 1680.5702953\ttotal: 3.1s\tremaining: 2.61s\n",
      "543:\tlearn: 1680.4671108\ttotal: 3.11s\tremaining: 2.61s\n",
      "544:\tlearn: 1680.2879541\ttotal: 3.12s\tremaining: 2.6s\n",
      "545:\tlearn: 1680.1074226\ttotal: 3.12s\tremaining: 2.6s\n",
      "546:\tlearn: 1679.9036409\ttotal: 3.13s\tremaining: 2.59s\n",
      "547:\tlearn: 1679.6117874\ttotal: 3.13s\tremaining: 2.58s\n",
      "548:\tlearn: 1679.4641277\ttotal: 3.14s\tremaining: 2.58s\n",
      "549:\tlearn: 1679.2435680\ttotal: 3.14s\tremaining: 2.57s\n",
      "550:\tlearn: 1678.9981851\ttotal: 3.15s\tremaining: 2.57s\n",
      "551:\tlearn: 1678.7835925\ttotal: 3.15s\tremaining: 2.56s\n",
      "552:\tlearn: 1678.6826382\ttotal: 3.16s\tremaining: 2.56s\n",
      "553:\tlearn: 1678.5360398\ttotal: 3.17s\tremaining: 2.55s\n",
      "554:\tlearn: 1678.4092218\ttotal: 3.17s\tremaining: 2.54s\n",
      "555:\tlearn: 1678.2507636\ttotal: 3.18s\tremaining: 2.54s\n",
      "556:\tlearn: 1678.1922150\ttotal: 3.18s\tremaining: 2.53s\n",
      "557:\tlearn: 1678.0732386\ttotal: 3.19s\tremaining: 2.53s\n",
      "558:\tlearn: 1677.9461764\ttotal: 3.19s\tremaining: 2.52s\n",
      "559:\tlearn: 1677.6676997\ttotal: 3.2s\tremaining: 2.52s\n",
      "560:\tlearn: 1677.4710672\ttotal: 3.21s\tremaining: 2.51s\n",
      "561:\tlearn: 1677.2765230\ttotal: 3.21s\tremaining: 2.5s\n",
      "562:\tlearn: 1677.1594161\ttotal: 3.22s\tremaining: 2.5s\n",
      "563:\tlearn: 1676.8787506\ttotal: 3.22s\tremaining: 2.49s\n",
      "564:\tlearn: 1676.7710968\ttotal: 3.23s\tremaining: 2.49s\n",
      "565:\tlearn: 1676.5180014\ttotal: 3.23s\tremaining: 2.48s\n",
      "566:\tlearn: 1676.3912822\ttotal: 3.24s\tremaining: 2.47s\n",
      "567:\tlearn: 1676.2347233\ttotal: 3.25s\tremaining: 2.47s\n",
      "568:\tlearn: 1675.9924881\ttotal: 3.25s\tremaining: 2.46s\n",
      "569:\tlearn: 1675.8065158\ttotal: 3.26s\tremaining: 2.46s\n",
      "570:\tlearn: 1675.6069496\ttotal: 3.26s\tremaining: 2.45s\n",
      "571:\tlearn: 1675.4365873\ttotal: 3.27s\tremaining: 2.45s\n",
      "572:\tlearn: 1675.2223745\ttotal: 3.28s\tremaining: 2.44s\n",
      "573:\tlearn: 1674.9332999\ttotal: 3.28s\tremaining: 2.44s\n",
      "574:\tlearn: 1674.7873451\ttotal: 3.29s\tremaining: 2.43s\n",
      "575:\tlearn: 1674.7000250\ttotal: 3.29s\tremaining: 2.42s\n",
      "576:\tlearn: 1674.5954495\ttotal: 3.3s\tremaining: 2.42s\n",
      "577:\tlearn: 1674.3645414\ttotal: 3.31s\tremaining: 2.41s\n",
      "578:\tlearn: 1674.1276443\ttotal: 3.31s\tremaining: 2.41s\n",
      "579:\tlearn: 1674.0247706\ttotal: 3.32s\tremaining: 2.4s\n",
      "580:\tlearn: 1673.8919484\ttotal: 3.32s\tremaining: 2.4s\n",
      "581:\tlearn: 1673.7048879\ttotal: 3.33s\tremaining: 2.39s\n",
      "582:\tlearn: 1673.4426592\ttotal: 3.33s\tremaining: 2.38s\n",
      "583:\tlearn: 1673.2648566\ttotal: 3.34s\tremaining: 2.38s\n",
      "584:\tlearn: 1673.0581497\ttotal: 3.34s\tremaining: 2.37s\n",
      "585:\tlearn: 1672.8892662\ttotal: 3.35s\tremaining: 2.37s\n",
      "586:\tlearn: 1672.6409045\ttotal: 3.35s\tremaining: 2.36s\n",
      "587:\tlearn: 1672.4527862\ttotal: 3.36s\tremaining: 2.35s\n",
      "588:\tlearn: 1672.3347627\ttotal: 3.37s\tremaining: 2.35s\n",
      "589:\tlearn: 1672.2153291\ttotal: 3.37s\tremaining: 2.34s\n",
      "590:\tlearn: 1672.0081957\ttotal: 3.38s\tremaining: 2.34s\n",
      "591:\tlearn: 1671.8151096\ttotal: 3.38s\tremaining: 2.33s\n",
      "592:\tlearn: 1671.5980530\ttotal: 3.39s\tremaining: 2.33s\n",
      "593:\tlearn: 1671.3904212\ttotal: 3.39s\tremaining: 2.32s\n",
      "594:\tlearn: 1671.1818539\ttotal: 3.4s\tremaining: 2.31s\n",
      "595:\tlearn: 1670.9732172\ttotal: 3.4s\tremaining: 2.31s\n",
      "596:\tlearn: 1670.6095809\ttotal: 3.41s\tremaining: 2.3s\n",
      "597:\tlearn: 1670.4397060\ttotal: 3.42s\tremaining: 2.3s\n",
      "598:\tlearn: 1670.3313461\ttotal: 3.42s\tremaining: 2.29s\n",
      "599:\tlearn: 1670.2830474\ttotal: 3.43s\tremaining: 2.28s\n",
      "600:\tlearn: 1670.1923874\ttotal: 3.43s\tremaining: 2.28s\n",
      "601:\tlearn: 1669.9432023\ttotal: 3.44s\tremaining: 2.27s\n",
      "602:\tlearn: 1669.6947077\ttotal: 3.44s\tremaining: 2.27s\n",
      "603:\tlearn: 1669.5059931\ttotal: 3.45s\tremaining: 2.26s\n",
      "604:\tlearn: 1669.3767904\ttotal: 3.46s\tremaining: 2.25s\n",
      "605:\tlearn: 1669.2238023\ttotal: 3.46s\tremaining: 2.25s\n",
      "606:\tlearn: 1668.9631592\ttotal: 3.46s\tremaining: 2.24s\n",
      "607:\tlearn: 1668.8272025\ttotal: 3.47s\tremaining: 2.24s\n",
      "608:\tlearn: 1668.7098921\ttotal: 3.48s\tremaining: 2.23s\n",
      "609:\tlearn: 1668.4675964\ttotal: 3.48s\tremaining: 2.23s\n",
      "610:\tlearn: 1668.3383367\ttotal: 3.49s\tremaining: 2.22s\n",
      "611:\tlearn: 1668.2300419\ttotal: 3.5s\tremaining: 2.22s\n",
      "612:\tlearn: 1668.1109157\ttotal: 3.5s\tremaining: 2.21s\n",
      "613:\tlearn: 1667.9118945\ttotal: 3.51s\tremaining: 2.2s\n",
      "614:\tlearn: 1667.8135971\ttotal: 3.51s\tremaining: 2.2s\n",
      "615:\tlearn: 1667.6603173\ttotal: 3.52s\tremaining: 2.19s\n",
      "616:\tlearn: 1667.5215052\ttotal: 3.52s\tremaining: 2.19s\n",
      "617:\tlearn: 1667.3408362\ttotal: 3.53s\tremaining: 2.18s\n",
      "618:\tlearn: 1667.1836476\ttotal: 3.54s\tremaining: 2.17s\n",
      "619:\tlearn: 1667.0261761\ttotal: 3.54s\tremaining: 2.17s\n",
      "620:\tlearn: 1666.9747646\ttotal: 3.54s\tremaining: 2.16s\n",
      "621:\tlearn: 1666.8844028\ttotal: 3.55s\tremaining: 2.16s\n",
      "622:\tlearn: 1666.7320942\ttotal: 3.56s\tremaining: 2.15s\n",
      "623:\tlearn: 1666.5646970\ttotal: 3.56s\tremaining: 2.15s\n",
      "624:\tlearn: 1666.4759798\ttotal: 3.57s\tremaining: 2.14s\n",
      "625:\tlearn: 1666.2836972\ttotal: 3.57s\tremaining: 2.13s\n",
      "626:\tlearn: 1666.1364679\ttotal: 3.58s\tremaining: 2.13s\n",
      "627:\tlearn: 1666.0574218\ttotal: 3.58s\tremaining: 2.12s\n",
      "628:\tlearn: 1665.8490458\ttotal: 3.59s\tremaining: 2.12s\n",
      "629:\tlearn: 1665.6739300\ttotal: 3.6s\tremaining: 2.11s\n",
      "630:\tlearn: 1665.4840749\ttotal: 3.6s\tremaining: 2.11s\n",
      "631:\tlearn: 1665.3850139\ttotal: 3.61s\tremaining: 2.1s\n",
      "632:\tlearn: 1665.2555126\ttotal: 3.61s\tremaining: 2.09s\n",
      "633:\tlearn: 1665.1530615\ttotal: 3.62s\tremaining: 2.09s\n",
      "634:\tlearn: 1664.8592240\ttotal: 3.62s\tremaining: 2.08s\n",
      "635:\tlearn: 1664.6766158\ttotal: 3.63s\tremaining: 2.08s\n",
      "636:\tlearn: 1664.5155578\ttotal: 3.63s\tremaining: 2.07s\n",
      "637:\tlearn: 1664.3504890\ttotal: 3.64s\tremaining: 2.06s\n",
      "638:\tlearn: 1664.1356761\ttotal: 3.65s\tremaining: 2.06s\n",
      "639:\tlearn: 1664.0059976\ttotal: 3.65s\tremaining: 2.05s\n",
      "640:\tlearn: 1663.8671329\ttotal: 3.66s\tremaining: 2.05s\n",
      "641:\tlearn: 1663.7216507\ttotal: 3.66s\tremaining: 2.04s\n",
      "642:\tlearn: 1663.4915187\ttotal: 3.67s\tremaining: 2.04s\n",
      "643:\tlearn: 1663.3555540\ttotal: 3.67s\tremaining: 2.03s\n",
      "644:\tlearn: 1663.2090294\ttotal: 3.68s\tremaining: 2.02s\n",
      "645:\tlearn: 1663.0515879\ttotal: 3.7s\tremaining: 2.03s\n",
      "646:\tlearn: 1662.9525696\ttotal: 3.71s\tremaining: 2.02s\n",
      "647:\tlearn: 1662.7977471\ttotal: 3.71s\tremaining: 2.02s\n",
      "648:\tlearn: 1662.6828868\ttotal: 3.72s\tremaining: 2.01s\n",
      "649:\tlearn: 1662.5525602\ttotal: 3.73s\tremaining: 2.01s\n",
      "650:\tlearn: 1662.3377674\ttotal: 3.73s\tremaining: 2s\n",
      "651:\tlearn: 1662.2952437\ttotal: 3.74s\tremaining: 1.99s\n",
      "652:\tlearn: 1662.1514991\ttotal: 3.74s\tremaining: 1.99s\n",
      "653:\tlearn: 1662.0171984\ttotal: 3.75s\tremaining: 1.98s\n",
      "654:\tlearn: 1661.8904976\ttotal: 3.75s\tremaining: 1.98s\n",
      "655:\tlearn: 1661.6991545\ttotal: 3.76s\tremaining: 1.97s\n",
      "656:\tlearn: 1661.5305650\ttotal: 3.76s\tremaining: 1.97s\n",
      "657:\tlearn: 1661.3994144\ttotal: 3.77s\tremaining: 1.96s\n",
      "658:\tlearn: 1661.3137779\ttotal: 3.77s\tremaining: 1.95s\n",
      "659:\tlearn: 1661.1455457\ttotal: 3.78s\tremaining: 1.95s\n",
      "660:\tlearn: 1661.0239808\ttotal: 3.79s\tremaining: 1.94s\n",
      "661:\tlearn: 1660.9380691\ttotal: 3.79s\tremaining: 1.94s\n",
      "662:\tlearn: 1660.7432828\ttotal: 3.8s\tremaining: 1.93s\n",
      "663:\tlearn: 1660.6272233\ttotal: 3.8s\tremaining: 1.92s\n",
      "664:\tlearn: 1660.4391185\ttotal: 3.81s\tremaining: 1.92s\n",
      "665:\tlearn: 1660.3454534\ttotal: 3.81s\tremaining: 1.91s\n",
      "666:\tlearn: 1660.3078642\ttotal: 3.82s\tremaining: 1.91s\n",
      "667:\tlearn: 1660.2140535\ttotal: 3.83s\tremaining: 1.9s\n",
      "668:\tlearn: 1660.0823959\ttotal: 3.83s\tremaining: 1.9s\n",
      "669:\tlearn: 1659.9244897\ttotal: 3.84s\tremaining: 1.89s\n",
      "670:\tlearn: 1659.8262866\ttotal: 3.84s\tremaining: 1.88s\n",
      "671:\tlearn: 1659.6492529\ttotal: 3.85s\tremaining: 1.88s\n",
      "672:\tlearn: 1659.5162188\ttotal: 3.85s\tremaining: 1.87s\n",
      "673:\tlearn: 1659.3258471\ttotal: 3.86s\tremaining: 1.87s\n",
      "674:\tlearn: 1659.1553546\ttotal: 3.86s\tremaining: 1.86s\n",
      "675:\tlearn: 1659.0541436\ttotal: 3.87s\tremaining: 1.85s\n",
      "676:\tlearn: 1658.9010887\ttotal: 3.88s\tremaining: 1.85s\n",
      "677:\tlearn: 1658.7645956\ttotal: 3.88s\tremaining: 1.84s\n",
      "678:\tlearn: 1658.6885375\ttotal: 3.89s\tremaining: 1.84s\n",
      "679:\tlearn: 1658.5551101\ttotal: 3.89s\tremaining: 1.83s\n",
      "680:\tlearn: 1658.3429196\ttotal: 3.9s\tremaining: 1.83s\n",
      "681:\tlearn: 1658.2040801\ttotal: 3.9s\tremaining: 1.82s\n",
      "682:\tlearn: 1657.9821254\ttotal: 3.91s\tremaining: 1.81s\n",
      "683:\tlearn: 1657.7762139\ttotal: 3.92s\tremaining: 1.81s\n",
      "684:\tlearn: 1657.6738783\ttotal: 3.92s\tremaining: 1.8s\n",
      "685:\tlearn: 1657.5897247\ttotal: 3.93s\tremaining: 1.8s\n",
      "686:\tlearn: 1657.4748854\ttotal: 3.93s\tremaining: 1.79s\n",
      "687:\tlearn: 1657.3765634\ttotal: 3.94s\tremaining: 1.79s\n",
      "688:\tlearn: 1657.3076762\ttotal: 3.94s\tremaining: 1.78s\n",
      "689:\tlearn: 1657.0991944\ttotal: 3.95s\tremaining: 1.77s\n",
      "690:\tlearn: 1656.9165768\ttotal: 3.96s\tremaining: 1.77s\n",
      "691:\tlearn: 1656.7481010\ttotal: 3.96s\tremaining: 1.76s\n",
      "692:\tlearn: 1656.6248122\ttotal: 3.97s\tremaining: 1.76s\n",
      "693:\tlearn: 1656.4167978\ttotal: 3.97s\tremaining: 1.75s\n",
      "694:\tlearn: 1656.2320703\ttotal: 3.98s\tremaining: 1.75s\n",
      "695:\tlearn: 1656.0228336\ttotal: 3.98s\tremaining: 1.74s\n",
      "696:\tlearn: 1655.8713773\ttotal: 3.99s\tremaining: 1.73s\n",
      "697:\tlearn: 1655.7164934\ttotal: 3.99s\tremaining: 1.73s\n",
      "698:\tlearn: 1655.6784683\ttotal: 4s\tremaining: 1.72s\n",
      "699:\tlearn: 1655.4836514\ttotal: 4s\tremaining: 1.72s\n",
      "700:\tlearn: 1655.2308932\ttotal: 4.01s\tremaining: 1.71s\n",
      "701:\tlearn: 1655.0178245\ttotal: 4.02s\tremaining: 1.71s\n",
      "702:\tlearn: 1654.8792979\ttotal: 4.02s\tremaining: 1.7s\n",
      "703:\tlearn: 1654.7692250\ttotal: 4.03s\tremaining: 1.69s\n",
      "704:\tlearn: 1654.6697628\ttotal: 4.03s\tremaining: 1.69s\n",
      "705:\tlearn: 1654.5735770\ttotal: 4.04s\tremaining: 1.68s\n",
      "706:\tlearn: 1654.4298079\ttotal: 4.04s\tremaining: 1.68s\n",
      "707:\tlearn: 1654.2508899\ttotal: 4.05s\tremaining: 1.67s\n",
      "708:\tlearn: 1654.1309330\ttotal: 4.06s\tremaining: 1.67s\n",
      "709:\tlearn: 1653.9470522\ttotal: 4.07s\tremaining: 1.66s\n",
      "710:\tlearn: 1653.7708496\ttotal: 4.07s\tremaining: 1.66s\n",
      "711:\tlearn: 1653.7006533\ttotal: 4.08s\tremaining: 1.65s\n",
      "712:\tlearn: 1653.5879647\ttotal: 4.09s\tremaining: 1.64s\n",
      "713:\tlearn: 1653.5135735\ttotal: 4.09s\tremaining: 1.64s\n",
      "714:\tlearn: 1653.3767623\ttotal: 4.1s\tremaining: 1.63s\n",
      "715:\tlearn: 1653.2743195\ttotal: 4.11s\tremaining: 1.63s\n",
      "716:\tlearn: 1653.1722250\ttotal: 4.11s\tremaining: 1.62s\n",
      "717:\tlearn: 1653.1156014\ttotal: 4.12s\tremaining: 1.62s\n",
      "718:\tlearn: 1652.9180120\ttotal: 4.13s\tremaining: 1.61s\n",
      "719:\tlearn: 1652.8067979\ttotal: 4.13s\tremaining: 1.61s\n",
      "720:\tlearn: 1652.6719438\ttotal: 4.14s\tremaining: 1.6s\n",
      "721:\tlearn: 1652.5117356\ttotal: 4.14s\tremaining: 1.59s\n",
      "722:\tlearn: 1652.3737068\ttotal: 4.15s\tremaining: 1.59s\n",
      "723:\tlearn: 1652.2621151\ttotal: 4.16s\tremaining: 1.58s\n",
      "724:\tlearn: 1652.0635790\ttotal: 4.16s\tremaining: 1.58s\n",
      "725:\tlearn: 1651.9606742\ttotal: 4.17s\tremaining: 1.57s\n",
      "726:\tlearn: 1651.8554957\ttotal: 4.17s\tremaining: 1.57s\n",
      "727:\tlearn: 1651.7552976\ttotal: 4.18s\tremaining: 1.56s\n",
      "728:\tlearn: 1651.6434185\ttotal: 4.18s\tremaining: 1.55s\n",
      "729:\tlearn: 1651.5187105\ttotal: 4.19s\tremaining: 1.55s\n",
      "730:\tlearn: 1651.4083296\ttotal: 4.2s\tremaining: 1.54s\n",
      "731:\tlearn: 1651.3155267\ttotal: 4.2s\tremaining: 1.54s\n",
      "732:\tlearn: 1651.2071030\ttotal: 4.21s\tremaining: 1.53s\n",
      "733:\tlearn: 1650.9316355\ttotal: 4.21s\tremaining: 1.53s\n",
      "734:\tlearn: 1650.8046327\ttotal: 4.22s\tremaining: 1.52s\n",
      "735:\tlearn: 1650.6538765\ttotal: 4.22s\tremaining: 1.51s\n",
      "736:\tlearn: 1650.3864290\ttotal: 4.23s\tremaining: 1.51s\n",
      "737:\tlearn: 1650.3405299\ttotal: 4.23s\tremaining: 1.5s\n",
      "738:\tlearn: 1650.2254376\ttotal: 4.24s\tremaining: 1.5s\n",
      "739:\tlearn: 1650.1689864\ttotal: 4.25s\tremaining: 1.49s\n",
      "740:\tlearn: 1650.0234482\ttotal: 4.25s\tremaining: 1.49s\n",
      "741:\tlearn: 1649.8725847\ttotal: 4.26s\tremaining: 1.48s\n",
      "742:\tlearn: 1649.7819476\ttotal: 4.26s\tremaining: 1.47s\n",
      "743:\tlearn: 1649.7488509\ttotal: 4.27s\tremaining: 1.47s\n",
      "744:\tlearn: 1649.4901766\ttotal: 4.28s\tremaining: 1.46s\n",
      "745:\tlearn: 1649.1846147\ttotal: 4.28s\tremaining: 1.46s\n",
      "746:\tlearn: 1649.0214520\ttotal: 4.29s\tremaining: 1.45s\n",
      "747:\tlearn: 1648.9088292\ttotal: 4.29s\tremaining: 1.45s\n",
      "748:\tlearn: 1648.7416090\ttotal: 4.3s\tremaining: 1.44s\n",
      "749:\tlearn: 1648.6173811\ttotal: 4.3s\tremaining: 1.43s\n",
      "750:\tlearn: 1648.4760284\ttotal: 4.31s\tremaining: 1.43s\n",
      "751:\tlearn: 1648.4023284\ttotal: 4.32s\tremaining: 1.42s\n",
      "752:\tlearn: 1648.2257270\ttotal: 4.32s\tremaining: 1.42s\n",
      "753:\tlearn: 1648.1109347\ttotal: 4.33s\tremaining: 1.41s\n",
      "754:\tlearn: 1647.9830695\ttotal: 4.33s\tremaining: 1.41s\n",
      "755:\tlearn: 1647.8396567\ttotal: 4.34s\tremaining: 1.4s\n",
      "756:\tlearn: 1647.6507575\ttotal: 4.34s\tremaining: 1.39s\n",
      "757:\tlearn: 1647.4912842\ttotal: 4.35s\tremaining: 1.39s\n",
      "758:\tlearn: 1647.3766513\ttotal: 4.35s\tremaining: 1.38s\n",
      "759:\tlearn: 1647.2837149\ttotal: 4.36s\tremaining: 1.38s\n",
      "760:\tlearn: 1647.2201307\ttotal: 4.37s\tremaining: 1.37s\n",
      "761:\tlearn: 1647.1620551\ttotal: 4.37s\tremaining: 1.36s\n",
      "762:\tlearn: 1647.0835118\ttotal: 4.38s\tremaining: 1.36s\n",
      "763:\tlearn: 1646.9823184\ttotal: 4.38s\tremaining: 1.35s\n",
      "764:\tlearn: 1646.8786757\ttotal: 4.39s\tremaining: 1.35s\n",
      "765:\tlearn: 1646.7795513\ttotal: 4.4s\tremaining: 1.34s\n",
      "766:\tlearn: 1646.6610565\ttotal: 4.4s\tremaining: 1.34s\n",
      "767:\tlearn: 1646.5736342\ttotal: 4.41s\tremaining: 1.33s\n",
      "768:\tlearn: 1646.3442258\ttotal: 4.42s\tremaining: 1.33s\n",
      "769:\tlearn: 1646.2165610\ttotal: 4.42s\tremaining: 1.32s\n",
      "770:\tlearn: 1646.1497431\ttotal: 4.43s\tremaining: 1.31s\n",
      "771:\tlearn: 1645.9950797\ttotal: 4.43s\tremaining: 1.31s\n",
      "772:\tlearn: 1645.9354842\ttotal: 4.44s\tremaining: 1.3s\n",
      "773:\tlearn: 1645.8527854\ttotal: 4.44s\tremaining: 1.3s\n",
      "774:\tlearn: 1645.6502886\ttotal: 4.45s\tremaining: 1.29s\n",
      "775:\tlearn: 1645.4921108\ttotal: 4.45s\tremaining: 1.28s\n",
      "776:\tlearn: 1645.3791569\ttotal: 4.46s\tremaining: 1.28s\n",
      "777:\tlearn: 1645.1968307\ttotal: 4.46s\tremaining: 1.27s\n",
      "778:\tlearn: 1645.1449929\ttotal: 4.47s\tremaining: 1.27s\n",
      "779:\tlearn: 1645.0576430\ttotal: 4.48s\tremaining: 1.26s\n",
      "780:\tlearn: 1644.9736366\ttotal: 4.48s\tremaining: 1.26s\n",
      "781:\tlearn: 1644.7719354\ttotal: 4.49s\tremaining: 1.25s\n",
      "782:\tlearn: 1644.6581982\ttotal: 4.49s\tremaining: 1.25s\n",
      "783:\tlearn: 1644.5549134\ttotal: 4.5s\tremaining: 1.24s\n",
      "784:\tlearn: 1644.2807495\ttotal: 4.5s\tremaining: 1.23s\n",
      "785:\tlearn: 1644.2061315\ttotal: 4.51s\tremaining: 1.23s\n",
      "786:\tlearn: 1644.1740770\ttotal: 4.52s\tremaining: 1.22s\n",
      "787:\tlearn: 1644.0384608\ttotal: 4.52s\tremaining: 1.22s\n",
      "788:\tlearn: 1643.8835670\ttotal: 4.53s\tremaining: 1.21s\n",
      "789:\tlearn: 1643.8315456\ttotal: 4.53s\tremaining: 1.21s\n",
      "790:\tlearn: 1643.7157488\ttotal: 4.54s\tremaining: 1.2s\n",
      "791:\tlearn: 1643.6403230\ttotal: 4.54s\tremaining: 1.19s\n",
      "792:\tlearn: 1643.5774523\ttotal: 4.55s\tremaining: 1.19s\n",
      "793:\tlearn: 1643.4856051\ttotal: 4.55s\tremaining: 1.18s\n",
      "794:\tlearn: 1643.2968117\ttotal: 4.56s\tremaining: 1.18s\n",
      "795:\tlearn: 1643.2378501\ttotal: 4.57s\tremaining: 1.17s\n",
      "796:\tlearn: 1643.1413465\ttotal: 4.57s\tremaining: 1.16s\n",
      "797:\tlearn: 1642.9637360\ttotal: 4.58s\tremaining: 1.16s\n",
      "798:\tlearn: 1642.8760198\ttotal: 4.58s\tremaining: 1.15s\n",
      "799:\tlearn: 1642.7861751\ttotal: 4.59s\tremaining: 1.15s\n",
      "800:\tlearn: 1642.7194455\ttotal: 4.59s\tremaining: 1.14s\n",
      "801:\tlearn: 1642.5759421\ttotal: 4.6s\tremaining: 1.14s\n",
      "802:\tlearn: 1642.4568138\ttotal: 4.61s\tremaining: 1.13s\n",
      "803:\tlearn: 1642.2953119\ttotal: 4.61s\tremaining: 1.12s\n",
      "804:\tlearn: 1642.2270031\ttotal: 4.62s\tremaining: 1.12s\n",
      "805:\tlearn: 1642.0885085\ttotal: 4.62s\tremaining: 1.11s\n",
      "806:\tlearn: 1642.0028284\ttotal: 4.63s\tremaining: 1.11s\n",
      "807:\tlearn: 1641.8737676\ttotal: 4.63s\tremaining: 1.1s\n",
      "808:\tlearn: 1641.7165327\ttotal: 4.64s\tremaining: 1.09s\n",
      "809:\tlearn: 1641.4753039\ttotal: 4.64s\tremaining: 1.09s\n",
      "810:\tlearn: 1641.3707544\ttotal: 4.65s\tremaining: 1.08s\n",
      "811:\tlearn: 1641.1771045\ttotal: 4.66s\tremaining: 1.08s\n",
      "812:\tlearn: 1641.0769075\ttotal: 4.66s\tremaining: 1.07s\n",
      "813:\tlearn: 1640.9832437\ttotal: 4.67s\tremaining: 1.07s\n",
      "814:\tlearn: 1640.8897886\ttotal: 4.67s\tremaining: 1.06s\n",
      "815:\tlearn: 1640.7374653\ttotal: 4.68s\tremaining: 1.05s\n",
      "816:\tlearn: 1640.5739500\ttotal: 4.68s\tremaining: 1.05s\n",
      "817:\tlearn: 1640.4428317\ttotal: 4.69s\tremaining: 1.04s\n",
      "818:\tlearn: 1640.3044065\ttotal: 4.7s\tremaining: 1.04s\n",
      "819:\tlearn: 1640.1629643\ttotal: 4.7s\tremaining: 1.03s\n",
      "820:\tlearn: 1640.0749142\ttotal: 4.71s\tremaining: 1.03s\n",
      "821:\tlearn: 1640.0033745\ttotal: 4.71s\tremaining: 1.02s\n",
      "822:\tlearn: 1639.8404907\ttotal: 4.72s\tremaining: 1.01s\n",
      "823:\tlearn: 1639.6629814\ttotal: 4.72s\tremaining: 1.01s\n",
      "824:\tlearn: 1639.5878342\ttotal: 4.73s\tremaining: 1s\n",
      "825:\tlearn: 1639.4216472\ttotal: 4.74s\tremaining: 998ms\n",
      "826:\tlearn: 1639.2786118\ttotal: 4.74s\tremaining: 992ms\n",
      "827:\tlearn: 1639.1312268\ttotal: 4.75s\tremaining: 986ms\n",
      "828:\tlearn: 1639.0421437\ttotal: 4.75s\tremaining: 980ms\n",
      "829:\tlearn: 1638.8929122\ttotal: 4.76s\tremaining: 975ms\n",
      "830:\tlearn: 1638.7435343\ttotal: 4.76s\tremaining: 969ms\n",
      "831:\tlearn: 1638.6939962\ttotal: 4.77s\tremaining: 963ms\n",
      "832:\tlearn: 1638.6547437\ttotal: 4.78s\tremaining: 957ms\n",
      "833:\tlearn: 1638.4691773\ttotal: 4.78s\tremaining: 952ms\n",
      "834:\tlearn: 1638.1121661\ttotal: 4.79s\tremaining: 946ms\n",
      "835:\tlearn: 1637.9976482\ttotal: 4.79s\tremaining: 940ms\n",
      "836:\tlearn: 1637.8970629\ttotal: 4.8s\tremaining: 934ms\n",
      "837:\tlearn: 1637.7627892\ttotal: 4.8s\tremaining: 929ms\n",
      "838:\tlearn: 1637.6288372\ttotal: 4.81s\tremaining: 923ms\n",
      "839:\tlearn: 1637.4881954\ttotal: 4.82s\tremaining: 917ms\n",
      "840:\tlearn: 1637.3012672\ttotal: 4.82s\tremaining: 911ms\n",
      "841:\tlearn: 1637.1866721\ttotal: 4.83s\tremaining: 906ms\n",
      "842:\tlearn: 1637.0965420\ttotal: 4.83s\tremaining: 900ms\n",
      "843:\tlearn: 1637.0079687\ttotal: 4.84s\tremaining: 894ms\n",
      "844:\tlearn: 1636.9111877\ttotal: 4.84s\tremaining: 888ms\n",
      "845:\tlearn: 1636.6875681\ttotal: 4.85s\tremaining: 883ms\n",
      "846:\tlearn: 1636.5366960\ttotal: 4.85s\tremaining: 877ms\n",
      "847:\tlearn: 1636.4189539\ttotal: 4.86s\tremaining: 871ms\n",
      "848:\tlearn: 1636.3486091\ttotal: 4.86s\tremaining: 865ms\n",
      "849:\tlearn: 1636.2452236\ttotal: 4.87s\tremaining: 859ms\n",
      "850:\tlearn: 1636.0790471\ttotal: 4.88s\tremaining: 854ms\n",
      "851:\tlearn: 1635.9588806\ttotal: 4.88s\tremaining: 848ms\n",
      "852:\tlearn: 1635.8924022\ttotal: 4.89s\tremaining: 842ms\n",
      "853:\tlearn: 1635.7531923\ttotal: 4.89s\tremaining: 836ms\n",
      "854:\tlearn: 1635.6348215\ttotal: 4.9s\tremaining: 831ms\n",
      "855:\tlearn: 1635.5170575\ttotal: 4.9s\tremaining: 825ms\n",
      "856:\tlearn: 1635.3852762\ttotal: 4.91s\tremaining: 819ms\n",
      "857:\tlearn: 1635.2737509\ttotal: 4.92s\tremaining: 814ms\n",
      "858:\tlearn: 1635.1905550\ttotal: 4.92s\tremaining: 808ms\n",
      "859:\tlearn: 1635.0503823\ttotal: 4.93s\tremaining: 802ms\n",
      "860:\tlearn: 1634.9030647\ttotal: 4.93s\tremaining: 797ms\n",
      "861:\tlearn: 1634.8531413\ttotal: 4.94s\tremaining: 791ms\n",
      "862:\tlearn: 1634.6902718\ttotal: 4.95s\tremaining: 785ms\n",
      "863:\tlearn: 1634.5751259\ttotal: 4.95s\tremaining: 779ms\n",
      "864:\tlearn: 1634.4796490\ttotal: 4.96s\tremaining: 774ms\n",
      "865:\tlearn: 1634.3980441\ttotal: 4.96s\tremaining: 768ms\n",
      "866:\tlearn: 1634.2613997\ttotal: 4.97s\tremaining: 762ms\n",
      "867:\tlearn: 1634.1576828\ttotal: 4.97s\tremaining: 756ms\n",
      "868:\tlearn: 1634.0664573\ttotal: 4.98s\tremaining: 751ms\n",
      "869:\tlearn: 1633.9164581\ttotal: 4.98s\tremaining: 745ms\n",
      "870:\tlearn: 1633.7435054\ttotal: 4.99s\tremaining: 739ms\n",
      "871:\tlearn: 1633.6668152\ttotal: 5s\tremaining: 733ms\n",
      "872:\tlearn: 1633.5826997\ttotal: 5s\tremaining: 728ms\n",
      "873:\tlearn: 1633.5133858\ttotal: 5.01s\tremaining: 722ms\n",
      "874:\tlearn: 1633.3624794\ttotal: 5.01s\tremaining: 716ms\n",
      "875:\tlearn: 1633.2866848\ttotal: 5.02s\tremaining: 710ms\n",
      "876:\tlearn: 1633.1372161\ttotal: 5.02s\tremaining: 704ms\n",
      "877:\tlearn: 1633.0515568\ttotal: 5.03s\tremaining: 699ms\n",
      "878:\tlearn: 1632.8603893\ttotal: 5.03s\tremaining: 693ms\n",
      "879:\tlearn: 1632.6869888\ttotal: 5.04s\tremaining: 687ms\n",
      "880:\tlearn: 1632.5844257\ttotal: 5.04s\tremaining: 682ms\n",
      "881:\tlearn: 1632.4961983\ttotal: 5.05s\tremaining: 676ms\n",
      "882:\tlearn: 1632.4290865\ttotal: 5.06s\tremaining: 670ms\n",
      "883:\tlearn: 1632.3317217\ttotal: 5.06s\tremaining: 664ms\n",
      "884:\tlearn: 1632.2334409\ttotal: 5.07s\tremaining: 659ms\n",
      "885:\tlearn: 1632.1489408\ttotal: 5.07s\tremaining: 653ms\n",
      "886:\tlearn: 1632.0133114\ttotal: 5.08s\tremaining: 647ms\n",
      "887:\tlearn: 1631.8789537\ttotal: 5.08s\tremaining: 641ms\n",
      "888:\tlearn: 1631.7136870\ttotal: 5.09s\tremaining: 635ms\n",
      "889:\tlearn: 1631.6503557\ttotal: 5.09s\tremaining: 630ms\n",
      "890:\tlearn: 1631.4596191\ttotal: 5.1s\tremaining: 624ms\n",
      "891:\tlearn: 1631.4331248\ttotal: 5.11s\tremaining: 618ms\n",
      "892:\tlearn: 1631.3537054\ttotal: 5.11s\tremaining: 613ms\n",
      "893:\tlearn: 1631.2733186\ttotal: 5.12s\tremaining: 607ms\n",
      "894:\tlearn: 1631.2012547\ttotal: 5.12s\tremaining: 601ms\n",
      "895:\tlearn: 1631.0963226\ttotal: 5.13s\tremaining: 595ms\n",
      "896:\tlearn: 1630.9852531\ttotal: 5.14s\tremaining: 590ms\n",
      "897:\tlearn: 1630.8552749\ttotal: 5.14s\tremaining: 584ms\n",
      "898:\tlearn: 1630.7327977\ttotal: 5.15s\tremaining: 578ms\n",
      "899:\tlearn: 1630.6512017\ttotal: 5.15s\tremaining: 573ms\n",
      "900:\tlearn: 1630.4625896\ttotal: 5.16s\tremaining: 567ms\n",
      "901:\tlearn: 1630.3572532\ttotal: 5.17s\tremaining: 561ms\n",
      "902:\tlearn: 1630.2555771\ttotal: 5.17s\tremaining: 556ms\n",
      "903:\tlearn: 1630.1228728\ttotal: 5.18s\tremaining: 550ms\n",
      "904:\tlearn: 1629.9377154\ttotal: 5.18s\tremaining: 544ms\n",
      "905:\tlearn: 1629.9007533\ttotal: 5.19s\tremaining: 538ms\n",
      "906:\tlearn: 1629.7389968\ttotal: 5.19s\tremaining: 533ms\n",
      "907:\tlearn: 1629.6075220\ttotal: 5.2s\tremaining: 527ms\n",
      "908:\tlearn: 1629.5170268\ttotal: 5.2s\tremaining: 521ms\n",
      "909:\tlearn: 1629.2659389\ttotal: 5.21s\tremaining: 515ms\n",
      "910:\tlearn: 1629.1692326\ttotal: 5.21s\tremaining: 510ms\n",
      "911:\tlearn: 1629.0776368\ttotal: 5.22s\tremaining: 504ms\n",
      "912:\tlearn: 1628.9739156\ttotal: 5.23s\tremaining: 498ms\n",
      "913:\tlearn: 1628.8303431\ttotal: 5.23s\tremaining: 492ms\n",
      "914:\tlearn: 1628.7026087\ttotal: 5.24s\tremaining: 487ms\n",
      "915:\tlearn: 1628.6170057\ttotal: 5.24s\tremaining: 481ms\n",
      "916:\tlearn: 1628.4406911\ttotal: 5.25s\tremaining: 475ms\n",
      "917:\tlearn: 1628.2985127\ttotal: 5.25s\tremaining: 469ms\n",
      "918:\tlearn: 1628.2362748\ttotal: 5.26s\tremaining: 464ms\n",
      "919:\tlearn: 1628.1310546\ttotal: 5.26s\tremaining: 458ms\n",
      "920:\tlearn: 1628.0291705\ttotal: 5.27s\tremaining: 452ms\n",
      "921:\tlearn: 1627.8514979\ttotal: 5.28s\tremaining: 446ms\n",
      "922:\tlearn: 1627.7205289\ttotal: 5.28s\tremaining: 441ms\n",
      "923:\tlearn: 1627.6423632\ttotal: 5.29s\tremaining: 435ms\n",
      "924:\tlearn: 1627.5305712\ttotal: 5.29s\tremaining: 429ms\n",
      "925:\tlearn: 1627.3834873\ttotal: 5.3s\tremaining: 423ms\n",
      "926:\tlearn: 1627.2447701\ttotal: 5.3s\tremaining: 418ms\n",
      "927:\tlearn: 1627.1669270\ttotal: 5.31s\tremaining: 412ms\n",
      "928:\tlearn: 1627.0404254\ttotal: 5.32s\tremaining: 406ms\n",
      "929:\tlearn: 1626.8845862\ttotal: 5.32s\tremaining: 400ms\n",
      "930:\tlearn: 1626.7884547\ttotal: 5.33s\tremaining: 395ms\n",
      "931:\tlearn: 1626.7279680\ttotal: 5.33s\tremaining: 389ms\n",
      "932:\tlearn: 1626.6616914\ttotal: 5.34s\tremaining: 384ms\n",
      "933:\tlearn: 1626.6068970\ttotal: 5.36s\tremaining: 379ms\n",
      "934:\tlearn: 1626.4278662\ttotal: 5.37s\tremaining: 373ms\n",
      "935:\tlearn: 1626.2757210\ttotal: 5.37s\tremaining: 368ms\n",
      "936:\tlearn: 1626.1368775\ttotal: 5.38s\tremaining: 362ms\n",
      "937:\tlearn: 1626.0435095\ttotal: 5.39s\tremaining: 356ms\n",
      "938:\tlearn: 1625.9533960\ttotal: 5.39s\tremaining: 350ms\n",
      "939:\tlearn: 1625.8426333\ttotal: 5.4s\tremaining: 345ms\n",
      "940:\tlearn: 1625.7292272\ttotal: 5.4s\tremaining: 339ms\n",
      "941:\tlearn: 1625.6379124\ttotal: 5.41s\tremaining: 333ms\n",
      "942:\tlearn: 1625.4954972\ttotal: 5.41s\tremaining: 327ms\n",
      "943:\tlearn: 1625.4121656\ttotal: 5.42s\tremaining: 322ms\n",
      "944:\tlearn: 1625.3373919\ttotal: 5.42s\tremaining: 316ms\n",
      "945:\tlearn: 1625.1819477\ttotal: 5.43s\tremaining: 310ms\n",
      "946:\tlearn: 1625.0540922\ttotal: 5.44s\tremaining: 304ms\n",
      "947:\tlearn: 1624.9207202\ttotal: 5.44s\tremaining: 299ms\n",
      "948:\tlearn: 1624.8371257\ttotal: 5.45s\tremaining: 293ms\n",
      "949:\tlearn: 1624.7260576\ttotal: 5.45s\tremaining: 287ms\n",
      "950:\tlearn: 1624.6114660\ttotal: 5.46s\tremaining: 281ms\n",
      "951:\tlearn: 1624.4935166\ttotal: 5.46s\tremaining: 276ms\n",
      "952:\tlearn: 1624.4168989\ttotal: 5.47s\tremaining: 270ms\n",
      "953:\tlearn: 1624.3386868\ttotal: 5.47s\tremaining: 264ms\n",
      "954:\tlearn: 1624.2716665\ttotal: 5.48s\tremaining: 258ms\n",
      "955:\tlearn: 1624.1955848\ttotal: 5.49s\tremaining: 253ms\n",
      "956:\tlearn: 1624.0093195\ttotal: 5.49s\tremaining: 247ms\n",
      "957:\tlearn: 1623.8315540\ttotal: 5.5s\tremaining: 241ms\n",
      "958:\tlearn: 1623.7576774\ttotal: 5.5s\tremaining: 235ms\n",
      "959:\tlearn: 1623.6803039\ttotal: 5.51s\tremaining: 230ms\n",
      "960:\tlearn: 1623.5757991\ttotal: 5.51s\tremaining: 224ms\n",
      "961:\tlearn: 1623.4552820\ttotal: 5.52s\tremaining: 218ms\n",
      "962:\tlearn: 1623.3899224\ttotal: 5.53s\tremaining: 212ms\n",
      "963:\tlearn: 1623.2822290\ttotal: 5.53s\tremaining: 207ms\n",
      "964:\tlearn: 1623.1453314\ttotal: 5.54s\tremaining: 201ms\n",
      "965:\tlearn: 1623.0688186\ttotal: 5.54s\tremaining: 195ms\n",
      "966:\tlearn: 1622.9762010\ttotal: 5.55s\tremaining: 189ms\n",
      "967:\tlearn: 1622.8687620\ttotal: 5.55s\tremaining: 184ms\n",
      "968:\tlearn: 1622.7724498\ttotal: 5.56s\tremaining: 178ms\n",
      "969:\tlearn: 1622.5947559\ttotal: 5.57s\tremaining: 172ms\n",
      "970:\tlearn: 1622.5192812\ttotal: 5.57s\tremaining: 166ms\n",
      "971:\tlearn: 1622.4087990\ttotal: 5.58s\tremaining: 161ms\n",
      "972:\tlearn: 1622.2692225\ttotal: 5.58s\tremaining: 155ms\n",
      "973:\tlearn: 1622.2121021\ttotal: 5.59s\tremaining: 149ms\n",
      "974:\tlearn: 1622.1595682\ttotal: 5.59s\tremaining: 143ms\n",
      "975:\tlearn: 1622.0770759\ttotal: 5.6s\tremaining: 138ms\n",
      "976:\tlearn: 1621.9616749\ttotal: 5.61s\tremaining: 132ms\n",
      "977:\tlearn: 1621.7760797\ttotal: 5.61s\tremaining: 126ms\n",
      "978:\tlearn: 1621.6199938\ttotal: 5.62s\tremaining: 120ms\n",
      "979:\tlearn: 1621.4994627\ttotal: 5.62s\tremaining: 115ms\n",
      "980:\tlearn: 1621.3884873\ttotal: 5.63s\tremaining: 109ms\n",
      "981:\tlearn: 1621.3306800\ttotal: 5.63s\tremaining: 103ms\n",
      "982:\tlearn: 1621.2666452\ttotal: 5.64s\tremaining: 97.5ms\n",
      "983:\tlearn: 1621.2361234\ttotal: 5.64s\tremaining: 91.8ms\n",
      "984:\tlearn: 1621.1322565\ttotal: 5.65s\tremaining: 86.1ms\n",
      "985:\tlearn: 1621.0645815\ttotal: 5.66s\tremaining: 80.3ms\n",
      "986:\tlearn: 1620.9404233\ttotal: 5.66s\tremaining: 74.6ms\n",
      "987:\tlearn: 1620.8676584\ttotal: 5.67s\tremaining: 68.8ms\n",
      "988:\tlearn: 1620.7376055\ttotal: 5.67s\tremaining: 63.1ms\n",
      "989:\tlearn: 1620.6305692\ttotal: 5.68s\tremaining: 57.4ms\n",
      "990:\tlearn: 1620.5534695\ttotal: 5.68s\tremaining: 51.6ms\n",
      "991:\tlearn: 1620.4293495\ttotal: 5.69s\tremaining: 45.9ms\n",
      "992:\tlearn: 1620.3599413\ttotal: 5.69s\tremaining: 40.1ms\n",
      "993:\tlearn: 1620.2154995\ttotal: 5.7s\tremaining: 34.4ms\n",
      "994:\tlearn: 1620.1171783\ttotal: 5.71s\tremaining: 28.7ms\n",
      "995:\tlearn: 1620.0391297\ttotal: 5.71s\tremaining: 22.9ms\n",
      "996:\tlearn: 1619.9506532\ttotal: 5.72s\tremaining: 17.2ms\n",
      "997:\tlearn: 1619.8691902\ttotal: 5.72s\tremaining: 11.5ms\n",
      "998:\tlearn: 1619.8084151\ttotal: 5.73s\tremaining: 5.73ms\n",
      "999:\tlearn: 1619.7247606\ttotal: 5.73s\tremaining: 0us\n",
      "CPU times: total: 1min 1s\n",
      "Wall time: 6.02 s\n"
     ]
    },
    {
     "data": {
      "text/plain": [
       "<catboost.core.CatBoostRegressor at 0x2305e2d4ed0>"
      ]
     },
     "execution_count": 44,
     "metadata": {},
     "output_type": "execute_result"
    }
   ],
   "source": [
    "%%time\n",
    "\n",
    "model_cbr.fit(features_train, target_train)"
   ]
  },
  {
   "cell_type": "code",
   "execution_count": 45,
   "metadata": {},
   "outputs": [
    {
     "name": "stdout",
     "output_type": "stream",
     "text": [
      "RMSE 1698.435076734539\n",
      "CPU times: total: 172 ms\n",
      "Wall time: 52.1 ms\n"
     ]
    }
   ],
   "source": [
    "%%time\n",
    "\n",
    "predicted_valid = model_cbr.predict(features_valid)\n",
    "rmse_valid_cbr = mean_squared_error(target_valid, predicted_valid) ** 0.5\n",
    "print('RMSE', rmse_valid_cbr)"
   ]
  },
  {
   "cell_type": "code",
   "execution_count": 46,
   "metadata": {},
   "outputs": [],
   "source": [
    "final_table['CatBoostRegressor']  = [rmse_valid_cbr, '24.1 s', '105 ms']"
   ]
  },
  {
   "cell_type": "markdown",
   "metadata": {},
   "source": [
    "Результат продукции яндекса при N estimators 290 RMSE 1672 за 20.1 s."
   ]
  },
  {
   "cell_type": "markdown",
   "metadata": {},
   "source": [
    "### LGBMRegressor"
   ]
  },
  {
   "cell_type": "code",
   "execution_count": 47,
   "metadata": {},
   "outputs": [],
   "source": [
    "model_lgbmr =  LGBMRegressor(random_state=RANDOM_STATE)"
   ]
  },
  {
   "cell_type": "code",
   "execution_count": 48,
   "metadata": {},
   "outputs": [
    {
     "name": "stdout",
     "output_type": "stream",
     "text": [
      "[LightGBM] [Info] Auto-choosing row-wise multi-threading, the overhead of testing was 0.003943 seconds.\n",
      "You can set `force_row_wise=true` to remove the overhead.\n",
      "And if memory is not enough, you can set `force_col_wise=true`.\n",
      "[LightGBM] [Info] Total Bins 868\n",
      "[LightGBM] [Info] Number of data points in the train set: 152590, number of used features: 284\n",
      "[LightGBM] [Info] Start training from score 4843.249971\n",
      "CPU times: total: 2.11 s\n",
      "Wall time: 677 ms\n"
     ]
    },
    {
     "data": {
      "text/html": [
       "<style>#sk-container-id-2 {color: black;background-color: white;}#sk-container-id-2 pre{padding: 0;}#sk-container-id-2 div.sk-toggleable {background-color: white;}#sk-container-id-2 label.sk-toggleable__label {cursor: pointer;display: block;width: 100%;margin-bottom: 0;padding: 0.3em;box-sizing: border-box;text-align: center;}#sk-container-id-2 label.sk-toggleable__label-arrow:before {content: \"▸\";float: left;margin-right: 0.25em;color: #696969;}#sk-container-id-2 label.sk-toggleable__label-arrow:hover:before {color: black;}#sk-container-id-2 div.sk-estimator:hover label.sk-toggleable__label-arrow:before {color: black;}#sk-container-id-2 div.sk-toggleable__content {max-height: 0;max-width: 0;overflow: hidden;text-align: left;background-color: #f0f8ff;}#sk-container-id-2 div.sk-toggleable__content pre {margin: 0.2em;color: black;border-radius: 0.25em;background-color: #f0f8ff;}#sk-container-id-2 input.sk-toggleable__control:checked~div.sk-toggleable__content {max-height: 200px;max-width: 100%;overflow: auto;}#sk-container-id-2 input.sk-toggleable__control:checked~label.sk-toggleable__label-arrow:before {content: \"▾\";}#sk-container-id-2 div.sk-estimator input.sk-toggleable__control:checked~label.sk-toggleable__label {background-color: #d4ebff;}#sk-container-id-2 div.sk-label input.sk-toggleable__control:checked~label.sk-toggleable__label {background-color: #d4ebff;}#sk-container-id-2 input.sk-hidden--visually {border: 0;clip: rect(1px 1px 1px 1px);clip: rect(1px, 1px, 1px, 1px);height: 1px;margin: -1px;overflow: hidden;padding: 0;position: absolute;width: 1px;}#sk-container-id-2 div.sk-estimator {font-family: monospace;background-color: #f0f8ff;border: 1px dotted black;border-radius: 0.25em;box-sizing: border-box;margin-bottom: 0.5em;}#sk-container-id-2 div.sk-estimator:hover {background-color: #d4ebff;}#sk-container-id-2 div.sk-parallel-item::after {content: \"\";width: 100%;border-bottom: 1px solid gray;flex-grow: 1;}#sk-container-id-2 div.sk-label:hover label.sk-toggleable__label {background-color: #d4ebff;}#sk-container-id-2 div.sk-serial::before {content: \"\";position: absolute;border-left: 1px solid gray;box-sizing: border-box;top: 0;bottom: 0;left: 50%;z-index: 0;}#sk-container-id-2 div.sk-serial {display: flex;flex-direction: column;align-items: center;background-color: white;padding-right: 0.2em;padding-left: 0.2em;position: relative;}#sk-container-id-2 div.sk-item {position: relative;z-index: 1;}#sk-container-id-2 div.sk-parallel {display: flex;align-items: stretch;justify-content: center;background-color: white;position: relative;}#sk-container-id-2 div.sk-item::before, #sk-container-id-2 div.sk-parallel-item::before {content: \"\";position: absolute;border-left: 1px solid gray;box-sizing: border-box;top: 0;bottom: 0;left: 50%;z-index: -1;}#sk-container-id-2 div.sk-parallel-item {display: flex;flex-direction: column;z-index: 1;position: relative;background-color: white;}#sk-container-id-2 div.sk-parallel-item:first-child::after {align-self: flex-end;width: 50%;}#sk-container-id-2 div.sk-parallel-item:last-child::after {align-self: flex-start;width: 50%;}#sk-container-id-2 div.sk-parallel-item:only-child::after {width: 0;}#sk-container-id-2 div.sk-dashed-wrapped {border: 1px dashed gray;margin: 0 0.4em 0.5em 0.4em;box-sizing: border-box;padding-bottom: 0.4em;background-color: white;}#sk-container-id-2 div.sk-label label {font-family: monospace;font-weight: bold;display: inline-block;line-height: 1.2em;}#sk-container-id-2 div.sk-label-container {text-align: center;}#sk-container-id-2 div.sk-container {/* jupyter's `normalize.less` sets `[hidden] { display: none; }` but bootstrap.min.css set `[hidden] { display: none !important; }` so we also need the `!important` here to be able to override the default hidden behavior on the sphinx rendered scikit-learn.org. See: https://github.com/scikit-learn/scikit-learn/issues/21755 */display: inline-block !important;position: relative;}#sk-container-id-2 div.sk-text-repr-fallback {display: none;}</style><div id=\"sk-container-id-2\" class=\"sk-top-container\"><div class=\"sk-text-repr-fallback\"><pre>LGBMRegressor(random_state=12345)</pre><b>In a Jupyter environment, please rerun this cell to show the HTML representation or trust the notebook. <br />On GitHub, the HTML representation is unable to render, please try loading this page with nbviewer.org.</b></div><div class=\"sk-container\" hidden><div class=\"sk-item\"><div class=\"sk-estimator sk-toggleable\"><input class=\"sk-toggleable__control sk-hidden--visually\" id=\"sk-estimator-id-2\" type=\"checkbox\" checked><label for=\"sk-estimator-id-2\" class=\"sk-toggleable__label sk-toggleable__label-arrow\">LGBMRegressor</label><div class=\"sk-toggleable__content\"><pre>LGBMRegressor(random_state=12345)</pre></div></div></div></div></div>"
      ],
      "text/plain": [
       "LGBMRegressor(random_state=12345)"
      ]
     },
     "execution_count": 48,
     "metadata": {},
     "output_type": "execute_result"
    }
   ],
   "source": [
    "%%time\n",
    "\n",
    "model_lgbmr.fit(features_train, target_train)"
   ]
  },
  {
   "cell_type": "code",
   "execution_count": 49,
   "metadata": {},
   "outputs": [
    {
     "name": "stdout",
     "output_type": "stream",
     "text": [
      "RMSE 1764.142254102465\n",
      "CPU times: total: 359 ms\n",
      "Wall time: 130 ms\n"
     ]
    }
   ],
   "source": [
    "%%time\n",
    "\n",
    "predicted_valid = model_lgbmr.predict(features_valid)\n",
    "rmse_valid_lgbmr = mean_squared_error(target_valid, predicted_valid) ** 0.5\n",
    "print('RMSE', rmse_valid_lgbmr)"
   ]
  },
  {
   "cell_type": "code",
   "execution_count": 50,
   "metadata": {},
   "outputs": [],
   "source": [
    "final_table['LGBMRegressor']  = [rmse_valid_lgbmr, '4min 3s', '708 ms']"
   ]
  },
  {
   "cell_type": "code",
   "execution_count": 51,
   "metadata": {},
   "outputs": [
    {
     "data": {
      "text/html": [
       "<div>\n",
       "<style scoped>\n",
       "    .dataframe tbody tr th:only-of-type {\n",
       "        vertical-align: middle;\n",
       "    }\n",
       "\n",
       "    .dataframe tbody tr th {\n",
       "        vertical-align: top;\n",
       "    }\n",
       "\n",
       "    .dataframe thead th {\n",
       "        text-align: right;\n",
       "    }\n",
       "</style>\n",
       "<table border=\"1\" class=\"dataframe\">\n",
       "  <thead>\n",
       "    <tr style=\"text-align: right;\">\n",
       "      <th></th>\n",
       "      <th>RMSE</th>\n",
       "      <th>Время обучения (fit)</th>\n",
       "      <th>Время предсказания</th>\n",
       "    </tr>\n",
       "  </thead>\n",
       "  <tbody>\n",
       "    <tr>\n",
       "      <th>RandomForestRegressor</th>\n",
       "      <td>1759.018358</td>\n",
       "      <td>4min 58s</td>\n",
       "      <td>2.67 s</td>\n",
       "    </tr>\n",
       "    <tr>\n",
       "      <th>CatBoostRegressor</th>\n",
       "      <td>1698.435077</td>\n",
       "      <td>24.1 s</td>\n",
       "      <td>105 ms</td>\n",
       "    </tr>\n",
       "    <tr>\n",
       "      <th>LGBMRegressor</th>\n",
       "      <td>1764.142254</td>\n",
       "      <td>4min 3s</td>\n",
       "      <td>708 ms</td>\n",
       "    </tr>\n",
       "  </tbody>\n",
       "</table>\n",
       "</div>"
      ],
      "text/plain": [
       "                              RMSE Время обучения (fit) Время предсказания\n",
       "RandomForestRegressor  1759.018358             4min 58s             2.67 s\n",
       "CatBoostRegressor      1698.435077               24.1 s             105 ms\n",
       "LGBMRegressor          1764.142254              4min 3s             708 ms"
      ]
     },
     "execution_count": 51,
     "metadata": {},
     "output_type": "execute_result"
    }
   ],
   "source": [
    "final_table = pd.DataFrame.from_dict(data=final_table,\n",
    "                                     columns=['RMSE', 'Время обучения (fit)', 'Время предсказания'],\n",
    "                                     orient='index')\n",
    "final_table"
   ]
  },
  {
   "cell_type": "markdown",
   "metadata": {},
   "source": [
    "CatBoostRegressor по всем трём параметрам показала лучшие результаты, что довольно странно, так как локально LGBM показывала себя лучше по показателям RMSE и времени обучения."
   ]
  },
  {
   "cell_type": "markdown",
   "metadata": {},
   "source": [
    "## 3. Лучшая модель CatBoostRegressor<a id=\"the_best_of_the_best\"></a>"
   ]
  },
  {
   "cell_type": "code",
   "execution_count": 52,
   "metadata": {},
   "outputs": [
    {
     "name": "stdout",
     "output_type": "stream",
     "text": [
      "Learning rate set to 0.09061\n",
      "0:\tlearn: 4404.0491350\ttotal: 6.71ms\tremaining: 6.7s\n",
      "1:\tlearn: 4166.6515832\ttotal: 12.6ms\tremaining: 6.3s\n",
      "2:\tlearn: 3951.1257082\ttotal: 18.5ms\tremaining: 6.16s\n",
      "3:\tlearn: 3750.3459802\ttotal: 24.5ms\tremaining: 6.1s\n",
      "4:\tlearn: 3564.3658276\ttotal: 30.2ms\tremaining: 6s\n",
      "5:\tlearn: 3407.2156675\ttotal: 36.6ms\tremaining: 6.06s\n",
      "6:\tlearn: 3268.6379532\ttotal: 42.3ms\tremaining: 6s\n",
      "7:\tlearn: 3140.5409848\ttotal: 48.3ms\tremaining: 5.99s\n",
      "8:\tlearn: 3029.2204449\ttotal: 54.6ms\tremaining: 6.01s\n",
      "9:\tlearn: 2931.6489250\ttotal: 60.7ms\tremaining: 6.01s\n",
      "10:\tlearn: 2845.4331256\ttotal: 67.1ms\tremaining: 6.04s\n",
      "11:\tlearn: 2767.1197857\ttotal: 73.8ms\tremaining: 6.07s\n",
      "12:\tlearn: 2695.4713501\ttotal: 79.9ms\tremaining: 6.07s\n",
      "13:\tlearn: 2636.8593859\ttotal: 86.1ms\tremaining: 6.07s\n",
      "14:\tlearn: 2578.7883644\ttotal: 91.9ms\tremaining: 6.04s\n",
      "15:\tlearn: 2528.8197289\ttotal: 98.6ms\tremaining: 6.07s\n",
      "16:\tlearn: 2484.3892457\ttotal: 105ms\tremaining: 6.06s\n",
      "17:\tlearn: 2444.5837632\ttotal: 111ms\tremaining: 6.04s\n",
      "18:\tlearn: 2410.1615058\ttotal: 117ms\tremaining: 6.04s\n",
      "19:\tlearn: 2379.7397511\ttotal: 123ms\tremaining: 6.01s\n",
      "20:\tlearn: 2349.3619667\ttotal: 128ms\tremaining: 5.98s\n",
      "21:\tlearn: 2322.9711101\ttotal: 134ms\tremaining: 5.96s\n",
      "22:\tlearn: 2294.8450029\ttotal: 140ms\tremaining: 5.96s\n",
      "23:\tlearn: 2274.2821303\ttotal: 146ms\tremaining: 5.94s\n",
      "24:\tlearn: 2254.5582150\ttotal: 152ms\tremaining: 5.92s\n",
      "25:\tlearn: 2230.1997298\ttotal: 158ms\tremaining: 5.92s\n",
      "26:\tlearn: 2210.4197647\ttotal: 164ms\tremaining: 5.92s\n",
      "27:\tlearn: 2193.3273560\ttotal: 170ms\tremaining: 5.92s\n",
      "28:\tlearn: 2179.4338379\ttotal: 176ms\tremaining: 5.9s\n",
      "29:\tlearn: 2167.1636884\ttotal: 183ms\tremaining: 5.9s\n",
      "30:\tlearn: 2154.1136557\ttotal: 189ms\tremaining: 5.91s\n",
      "31:\tlearn: 2141.5145302\ttotal: 196ms\tremaining: 5.93s\n",
      "32:\tlearn: 2130.4454586\ttotal: 202ms\tremaining: 5.93s\n",
      "33:\tlearn: 2119.2946838\ttotal: 208ms\tremaining: 5.91s\n",
      "34:\tlearn: 2108.9559179\ttotal: 214ms\tremaining: 5.9s\n",
      "35:\tlearn: 2101.1244907\ttotal: 220ms\tremaining: 5.89s\n",
      "36:\tlearn: 2090.1245598\ttotal: 226ms\tremaining: 5.88s\n",
      "37:\tlearn: 2081.8640482\ttotal: 232ms\tremaining: 5.87s\n",
      "38:\tlearn: 2074.3622890\ttotal: 237ms\tremaining: 5.84s\n",
      "39:\tlearn: 2067.5328353\ttotal: 243ms\tremaining: 5.83s\n",
      "40:\tlearn: 2059.7350685\ttotal: 249ms\tremaining: 5.83s\n",
      "41:\tlearn: 2051.9423101\ttotal: 255ms\tremaining: 5.82s\n",
      "42:\tlearn: 2046.7392242\ttotal: 261ms\tremaining: 5.82s\n",
      "43:\tlearn: 2039.5276391\ttotal: 267ms\tremaining: 5.81s\n",
      "44:\tlearn: 2033.2405592\ttotal: 273ms\tremaining: 5.79s\n",
      "45:\tlearn: 2027.6266821\ttotal: 279ms\tremaining: 5.78s\n",
      "46:\tlearn: 2022.6023312\ttotal: 284ms\tremaining: 5.76s\n",
      "47:\tlearn: 2017.9232562\ttotal: 290ms\tremaining: 5.74s\n",
      "48:\tlearn: 2013.5277371\ttotal: 296ms\tremaining: 5.75s\n",
      "49:\tlearn: 2008.6815714\ttotal: 302ms\tremaining: 5.73s\n",
      "50:\tlearn: 2003.3456701\ttotal: 308ms\tremaining: 5.73s\n",
      "51:\tlearn: 1999.2485502\ttotal: 314ms\tremaining: 5.72s\n",
      "52:\tlearn: 1994.8468152\ttotal: 319ms\tremaining: 5.71s\n",
      "53:\tlearn: 1990.5906234\ttotal: 325ms\tremaining: 5.7s\n",
      "54:\tlearn: 1986.5337461\ttotal: 331ms\tremaining: 5.69s\n",
      "55:\tlearn: 1983.1332992\ttotal: 337ms\tremaining: 5.68s\n",
      "56:\tlearn: 1979.1990220\ttotal: 343ms\tremaining: 5.67s\n",
      "57:\tlearn: 1973.6756223\ttotal: 349ms\tremaining: 5.67s\n",
      "58:\tlearn: 1970.8766817\ttotal: 354ms\tremaining: 5.65s\n",
      "59:\tlearn: 1968.4660134\ttotal: 360ms\tremaining: 5.64s\n",
      "60:\tlearn: 1965.5962790\ttotal: 366ms\tremaining: 5.63s\n",
      "61:\tlearn: 1961.3839048\ttotal: 372ms\tremaining: 5.63s\n",
      "62:\tlearn: 1958.0305160\ttotal: 378ms\tremaining: 5.62s\n",
      "63:\tlearn: 1955.5293713\ttotal: 384ms\tremaining: 5.61s\n",
      "64:\tlearn: 1952.4645412\ttotal: 389ms\tremaining: 5.59s\n",
      "65:\tlearn: 1949.1994178\ttotal: 395ms\tremaining: 5.59s\n",
      "66:\tlearn: 1946.0046241\ttotal: 402ms\tremaining: 5.59s\n",
      "67:\tlearn: 1943.8670549\ttotal: 409ms\tremaining: 5.6s\n",
      "68:\tlearn: 1941.5288643\ttotal: 415ms\tremaining: 5.6s\n",
      "69:\tlearn: 1939.5944935\ttotal: 420ms\tremaining: 5.58s\n",
      "70:\tlearn: 1937.0991614\ttotal: 426ms\tremaining: 5.58s\n",
      "71:\tlearn: 1934.9286699\ttotal: 432ms\tremaining: 5.57s\n",
      "72:\tlearn: 1931.9368398\ttotal: 438ms\tremaining: 5.56s\n",
      "73:\tlearn: 1929.6172450\ttotal: 443ms\tremaining: 5.55s\n",
      "74:\tlearn: 1927.3715453\ttotal: 449ms\tremaining: 5.54s\n",
      "75:\tlearn: 1925.7323024\ttotal: 455ms\tremaining: 5.53s\n",
      "76:\tlearn: 1923.3790319\ttotal: 461ms\tremaining: 5.53s\n",
      "77:\tlearn: 1920.6853614\ttotal: 467ms\tremaining: 5.52s\n",
      "78:\tlearn: 1918.6538487\ttotal: 473ms\tremaining: 5.51s\n",
      "79:\tlearn: 1917.2641965\ttotal: 478ms\tremaining: 5.5s\n",
      "80:\tlearn: 1915.8394493\ttotal: 484ms\tremaining: 5.49s\n",
      "81:\tlearn: 1914.2597036\ttotal: 490ms\tremaining: 5.48s\n",
      "82:\tlearn: 1909.9425802\ttotal: 495ms\tremaining: 5.47s\n",
      "83:\tlearn: 1907.4511687\ttotal: 501ms\tremaining: 5.46s\n",
      "84:\tlearn: 1905.9876199\ttotal: 507ms\tremaining: 5.46s\n",
      "85:\tlearn: 1904.5536250\ttotal: 512ms\tremaining: 5.44s\n",
      "86:\tlearn: 1902.3549565\ttotal: 518ms\tremaining: 5.43s\n",
      "87:\tlearn: 1900.8540583\ttotal: 524ms\tremaining: 5.43s\n",
      "88:\tlearn: 1899.2737570\ttotal: 529ms\tremaining: 5.42s\n",
      "89:\tlearn: 1897.7791889\ttotal: 535ms\tremaining: 5.41s\n",
      "90:\tlearn: 1896.1444261\ttotal: 540ms\tremaining: 5.4s\n",
      "91:\tlearn: 1894.3210723\ttotal: 546ms\tremaining: 5.39s\n",
      "92:\tlearn: 1892.3278901\ttotal: 552ms\tremaining: 5.38s\n",
      "93:\tlearn: 1890.6502963\ttotal: 557ms\tremaining: 5.37s\n",
      "94:\tlearn: 1888.5079637\ttotal: 563ms\tremaining: 5.36s\n",
      "95:\tlearn: 1886.9649374\ttotal: 568ms\tremaining: 5.35s\n",
      "96:\tlearn: 1885.6629197\ttotal: 574ms\tremaining: 5.34s\n",
      "97:\tlearn: 1884.1688046\ttotal: 580ms\tremaining: 5.33s\n",
      "98:\tlearn: 1882.3729909\ttotal: 585ms\tremaining: 5.33s\n",
      "99:\tlearn: 1880.4130423\ttotal: 591ms\tremaining: 5.32s\n",
      "100:\tlearn: 1879.2712782\ttotal: 596ms\tremaining: 5.31s\n",
      "101:\tlearn: 1878.3500383\ttotal: 602ms\tremaining: 5.3s\n",
      "102:\tlearn: 1877.1931990\ttotal: 607ms\tremaining: 5.29s\n",
      "103:\tlearn: 1876.0200797\ttotal: 613ms\tremaining: 5.28s\n",
      "104:\tlearn: 1874.8797920\ttotal: 619ms\tremaining: 5.28s\n",
      "105:\tlearn: 1873.9605154\ttotal: 626ms\tremaining: 5.28s\n",
      "106:\tlearn: 1870.7416541\ttotal: 632ms\tremaining: 5.27s\n",
      "107:\tlearn: 1869.1450777\ttotal: 638ms\tremaining: 5.27s\n",
      "108:\tlearn: 1866.5484316\ttotal: 644ms\tremaining: 5.27s\n",
      "109:\tlearn: 1865.1592142\ttotal: 650ms\tremaining: 5.26s\n",
      "110:\tlearn: 1863.9130058\ttotal: 656ms\tremaining: 5.25s\n",
      "111:\tlearn: 1862.8114908\ttotal: 661ms\tremaining: 5.24s\n",
      "112:\tlearn: 1861.5677451\ttotal: 666ms\tremaining: 5.23s\n",
      "113:\tlearn: 1860.3324120\ttotal: 672ms\tremaining: 5.22s\n",
      "114:\tlearn: 1859.2026655\ttotal: 678ms\tremaining: 5.21s\n",
      "115:\tlearn: 1858.0218621\ttotal: 683ms\tremaining: 5.21s\n",
      "116:\tlearn: 1857.2038462\ttotal: 689ms\tremaining: 5.2s\n",
      "117:\tlearn: 1854.9160068\ttotal: 694ms\tremaining: 5.19s\n",
      "118:\tlearn: 1853.8461882\ttotal: 700ms\tremaining: 5.18s\n",
      "119:\tlearn: 1853.1240679\ttotal: 705ms\tremaining: 5.17s\n",
      "120:\tlearn: 1851.8413192\ttotal: 711ms\tremaining: 5.17s\n",
      "121:\tlearn: 1850.9787729\ttotal: 717ms\tremaining: 5.16s\n",
      "122:\tlearn: 1849.6852542\ttotal: 722ms\tremaining: 5.15s\n",
      "123:\tlearn: 1848.9033189\ttotal: 728ms\tremaining: 5.14s\n",
      "124:\tlearn: 1848.1604618\ttotal: 733ms\tremaining: 5.13s\n",
      "125:\tlearn: 1847.4806551\ttotal: 738ms\tremaining: 5.12s\n",
      "126:\tlearn: 1846.6291744\ttotal: 744ms\tremaining: 5.11s\n",
      "127:\tlearn: 1845.4967300\ttotal: 750ms\tremaining: 5.11s\n",
      "128:\tlearn: 1844.5451179\ttotal: 755ms\tremaining: 5.1s\n",
      "129:\tlearn: 1843.5865763\ttotal: 761ms\tremaining: 5.09s\n",
      "130:\tlearn: 1842.6486648\ttotal: 767ms\tremaining: 5.08s\n",
      "131:\tlearn: 1841.6984337\ttotal: 772ms\tremaining: 5.08s\n",
      "132:\tlearn: 1840.8468247\ttotal: 778ms\tremaining: 5.07s\n",
      "133:\tlearn: 1840.0438623\ttotal: 783ms\tremaining: 5.06s\n",
      "134:\tlearn: 1839.5074085\ttotal: 789ms\tremaining: 5.05s\n",
      "135:\tlearn: 1838.4113425\ttotal: 794ms\tremaining: 5.04s\n",
      "136:\tlearn: 1837.1552242\ttotal: 800ms\tremaining: 5.04s\n",
      "137:\tlearn: 1836.3083610\ttotal: 806ms\tremaining: 5.03s\n",
      "138:\tlearn: 1834.9479804\ttotal: 811ms\tremaining: 5.03s\n",
      "139:\tlearn: 1834.1543040\ttotal: 817ms\tremaining: 5.02s\n",
      "140:\tlearn: 1833.1207818\ttotal: 822ms\tremaining: 5.01s\n",
      "141:\tlearn: 1832.1218687\ttotal: 829ms\tremaining: 5.01s\n",
      "142:\tlearn: 1831.4631108\ttotal: 835ms\tremaining: 5s\n",
      "143:\tlearn: 1830.8925565\ttotal: 844ms\tremaining: 5.02s\n",
      "144:\tlearn: 1829.9673670\ttotal: 868ms\tremaining: 5.12s\n",
      "145:\tlearn: 1828.9578882\ttotal: 875ms\tremaining: 5.12s\n",
      "146:\tlearn: 1828.1492099\ttotal: 883ms\tremaining: 5.13s\n",
      "147:\tlearn: 1827.3899532\ttotal: 890ms\tremaining: 5.12s\n",
      "148:\tlearn: 1826.2288316\ttotal: 896ms\tremaining: 5.12s\n",
      "149:\tlearn: 1825.1920805\ttotal: 902ms\tremaining: 5.11s\n",
      "150:\tlearn: 1824.1944143\ttotal: 908ms\tremaining: 5.1s\n",
      "151:\tlearn: 1822.7907181\ttotal: 914ms\tremaining: 5.1s\n",
      "152:\tlearn: 1822.2179210\ttotal: 919ms\tremaining: 5.09s\n",
      "153:\tlearn: 1821.7173879\ttotal: 924ms\tremaining: 5.08s\n",
      "154:\tlearn: 1820.9233706\ttotal: 930ms\tremaining: 5.07s\n",
      "155:\tlearn: 1820.2234784\ttotal: 935ms\tremaining: 5.06s\n",
      "156:\tlearn: 1819.0574051\ttotal: 941ms\tremaining: 5.05s\n",
      "157:\tlearn: 1818.2349569\ttotal: 946ms\tremaining: 5.04s\n",
      "158:\tlearn: 1817.5190683\ttotal: 952ms\tremaining: 5.03s\n",
      "159:\tlearn: 1816.3625680\ttotal: 957ms\tremaining: 5.03s\n",
      "160:\tlearn: 1815.3212543\ttotal: 963ms\tremaining: 5.02s\n",
      "161:\tlearn: 1814.6914644\ttotal: 969ms\tremaining: 5.01s\n",
      "162:\tlearn: 1814.1661263\ttotal: 974ms\tremaining: 5s\n",
      "163:\tlearn: 1813.1060211\ttotal: 980ms\tremaining: 5s\n",
      "164:\tlearn: 1812.5692439\ttotal: 986ms\tremaining: 4.99s\n",
      "165:\tlearn: 1812.1693827\ttotal: 991ms\tremaining: 4.98s\n",
      "166:\tlearn: 1811.1420895\ttotal: 997ms\tremaining: 4.97s\n",
      "167:\tlearn: 1810.2031551\ttotal: 1s\tremaining: 4.97s\n",
      "168:\tlearn: 1809.6916260\ttotal: 1.01s\tremaining: 4.96s\n",
      "169:\tlearn: 1809.0077165\ttotal: 1.01s\tremaining: 4.95s\n",
      "170:\tlearn: 1808.1885474\ttotal: 1.02s\tremaining: 4.94s\n",
      "171:\tlearn: 1807.1712241\ttotal: 1.02s\tremaining: 4.93s\n",
      "172:\tlearn: 1806.0332166\ttotal: 1.03s\tremaining: 4.92s\n",
      "173:\tlearn: 1805.0165017\ttotal: 1.04s\tremaining: 4.92s\n",
      "174:\tlearn: 1804.1076023\ttotal: 1.04s\tremaining: 4.91s\n",
      "175:\tlearn: 1803.5454193\ttotal: 1.05s\tremaining: 4.91s\n",
      "176:\tlearn: 1802.5135804\ttotal: 1.05s\tremaining: 4.9s\n",
      "177:\tlearn: 1802.0274761\ttotal: 1.06s\tremaining: 4.89s\n",
      "178:\tlearn: 1801.1040149\ttotal: 1.06s\tremaining: 4.89s\n",
      "179:\tlearn: 1800.2111728\ttotal: 1.07s\tremaining: 4.88s\n",
      "180:\tlearn: 1799.8312393\ttotal: 1.08s\tremaining: 4.87s\n",
      "181:\tlearn: 1799.4233852\ttotal: 1.08s\tremaining: 4.86s\n",
      "182:\tlearn: 1798.7650464\ttotal: 1.09s\tremaining: 4.85s\n",
      "183:\tlearn: 1798.3395127\ttotal: 1.09s\tremaining: 4.84s\n",
      "184:\tlearn: 1797.7089008\ttotal: 1.1s\tremaining: 4.84s\n",
      "185:\tlearn: 1796.9476096\ttotal: 1.1s\tremaining: 4.83s\n",
      "186:\tlearn: 1796.2181141\ttotal: 1.11s\tremaining: 4.82s\n",
      "187:\tlearn: 1795.7027466\ttotal: 1.11s\tremaining: 4.82s\n",
      "188:\tlearn: 1794.8679855\ttotal: 1.12s\tremaining: 4.81s\n",
      "189:\tlearn: 1793.7880995\ttotal: 1.13s\tremaining: 4.8s\n",
      "190:\tlearn: 1793.3057111\ttotal: 1.13s\tremaining: 4.79s\n",
      "191:\tlearn: 1792.5798161\ttotal: 1.14s\tremaining: 4.79s\n",
      "192:\tlearn: 1792.0484260\ttotal: 1.14s\tremaining: 4.78s\n",
      "193:\tlearn: 1791.2730758\ttotal: 1.15s\tremaining: 4.78s\n",
      "194:\tlearn: 1790.4448711\ttotal: 1.16s\tremaining: 4.77s\n",
      "195:\tlearn: 1789.9148442\ttotal: 1.16s\tremaining: 4.76s\n",
      "196:\tlearn: 1789.1131346\ttotal: 1.17s\tremaining: 4.75s\n",
      "197:\tlearn: 1788.7850417\ttotal: 1.17s\tremaining: 4.75s\n",
      "198:\tlearn: 1788.0838702\ttotal: 1.18s\tremaining: 4.74s\n",
      "199:\tlearn: 1787.7616358\ttotal: 1.18s\tremaining: 4.73s\n",
      "200:\tlearn: 1787.0330429\ttotal: 1.19s\tremaining: 4.72s\n",
      "201:\tlearn: 1786.4156423\ttotal: 1.19s\tremaining: 4.72s\n",
      "202:\tlearn: 1785.9006112\ttotal: 1.2s\tremaining: 4.71s\n",
      "203:\tlearn: 1785.4728846\ttotal: 1.21s\tremaining: 4.7s\n",
      "204:\tlearn: 1785.0954018\ttotal: 1.21s\tremaining: 4.69s\n",
      "205:\tlearn: 1784.5100933\ttotal: 1.22s\tremaining: 4.69s\n",
      "206:\tlearn: 1783.9098547\ttotal: 1.22s\tremaining: 4.68s\n",
      "207:\tlearn: 1783.2818486\ttotal: 1.23s\tremaining: 4.67s\n",
      "208:\tlearn: 1782.7063350\ttotal: 1.23s\tremaining: 4.67s\n",
      "209:\tlearn: 1782.1783807\ttotal: 1.24s\tremaining: 4.66s\n",
      "210:\tlearn: 1781.0591395\ttotal: 1.25s\tremaining: 4.66s\n",
      "211:\tlearn: 1780.7251628\ttotal: 1.25s\tremaining: 4.65s\n",
      "212:\tlearn: 1779.8862098\ttotal: 1.26s\tremaining: 4.64s\n",
      "213:\tlearn: 1779.3262962\ttotal: 1.26s\tremaining: 4.64s\n",
      "214:\tlearn: 1778.7219695\ttotal: 1.27s\tremaining: 4.63s\n",
      "215:\tlearn: 1778.2282673\ttotal: 1.27s\tremaining: 4.62s\n",
      "216:\tlearn: 1777.6332325\ttotal: 1.28s\tremaining: 4.62s\n",
      "217:\tlearn: 1777.0699345\ttotal: 1.28s\tremaining: 4.61s\n",
      "218:\tlearn: 1776.4264693\ttotal: 1.29s\tremaining: 4.6s\n",
      "219:\tlearn: 1775.7027427\ttotal: 1.29s\tremaining: 4.59s\n",
      "220:\tlearn: 1775.1618191\ttotal: 1.3s\tremaining: 4.59s\n",
      "221:\tlearn: 1774.6202005\ttotal: 1.31s\tremaining: 4.58s\n",
      "222:\tlearn: 1774.2665674\ttotal: 1.31s\tremaining: 4.57s\n",
      "223:\tlearn: 1773.6839489\ttotal: 1.32s\tremaining: 4.57s\n",
      "224:\tlearn: 1773.0045581\ttotal: 1.32s\tremaining: 4.56s\n",
      "225:\tlearn: 1772.6017449\ttotal: 1.33s\tremaining: 4.55s\n",
      "226:\tlearn: 1772.0909481\ttotal: 1.33s\tremaining: 4.55s\n",
      "227:\tlearn: 1771.6707193\ttotal: 1.34s\tremaining: 4.54s\n",
      "228:\tlearn: 1771.1666793\ttotal: 1.34s\tremaining: 4.53s\n",
      "229:\tlearn: 1770.7657542\ttotal: 1.35s\tremaining: 4.52s\n",
      "230:\tlearn: 1770.0904589\ttotal: 1.36s\tremaining: 4.52s\n",
      "231:\tlearn: 1769.7411959\ttotal: 1.36s\tremaining: 4.51s\n",
      "232:\tlearn: 1769.2953162\ttotal: 1.37s\tremaining: 4.5s\n",
      "233:\tlearn: 1768.8321189\ttotal: 1.37s\tremaining: 4.5s\n",
      "234:\tlearn: 1768.5561602\ttotal: 1.38s\tremaining: 4.49s\n",
      "235:\tlearn: 1768.0839577\ttotal: 1.38s\tremaining: 4.48s\n",
      "236:\tlearn: 1767.5228458\ttotal: 1.39s\tremaining: 4.47s\n",
      "237:\tlearn: 1766.8052862\ttotal: 1.4s\tremaining: 4.47s\n",
      "238:\tlearn: 1766.1241518\ttotal: 1.4s\tremaining: 4.46s\n",
      "239:\tlearn: 1765.7805776\ttotal: 1.41s\tremaining: 4.45s\n",
      "240:\tlearn: 1765.2967143\ttotal: 1.41s\tremaining: 4.45s\n",
      "241:\tlearn: 1764.8996084\ttotal: 1.42s\tremaining: 4.44s\n",
      "242:\tlearn: 1764.4559394\ttotal: 1.42s\tremaining: 4.43s\n",
      "243:\tlearn: 1764.0771230\ttotal: 1.43s\tremaining: 4.43s\n",
      "244:\tlearn: 1763.6165661\ttotal: 1.43s\tremaining: 4.42s\n",
      "245:\tlearn: 1763.0313844\ttotal: 1.44s\tremaining: 4.41s\n",
      "246:\tlearn: 1762.6625108\ttotal: 1.45s\tremaining: 4.41s\n",
      "247:\tlearn: 1762.3275967\ttotal: 1.45s\tremaining: 4.41s\n",
      "248:\tlearn: 1762.0404598\ttotal: 1.46s\tremaining: 4.4s\n",
      "249:\tlearn: 1761.7682182\ttotal: 1.47s\tremaining: 4.4s\n",
      "250:\tlearn: 1761.3189254\ttotal: 1.47s\tremaining: 4.39s\n",
      "251:\tlearn: 1760.7354144\ttotal: 1.48s\tremaining: 4.39s\n",
      "252:\tlearn: 1760.1284281\ttotal: 1.48s\tremaining: 4.38s\n",
      "253:\tlearn: 1759.5898026\ttotal: 1.49s\tremaining: 4.38s\n",
      "254:\tlearn: 1759.1867528\ttotal: 1.5s\tremaining: 4.37s\n",
      "255:\tlearn: 1758.6977779\ttotal: 1.5s\tremaining: 4.36s\n",
      "256:\tlearn: 1758.3132382\ttotal: 1.51s\tremaining: 4.36s\n",
      "257:\tlearn: 1757.8542509\ttotal: 1.51s\tremaining: 4.35s\n",
      "258:\tlearn: 1757.4124550\ttotal: 1.52s\tremaining: 4.34s\n",
      "259:\tlearn: 1757.0341909\ttotal: 1.52s\tremaining: 4.33s\n",
      "260:\tlearn: 1756.5617476\ttotal: 1.53s\tremaining: 4.33s\n",
      "261:\tlearn: 1756.1389132\ttotal: 1.53s\tremaining: 4.32s\n",
      "262:\tlearn: 1755.5863054\ttotal: 1.54s\tremaining: 4.32s\n",
      "263:\tlearn: 1755.3067570\ttotal: 1.54s\tremaining: 4.31s\n",
      "264:\tlearn: 1754.8542480\ttotal: 1.55s\tremaining: 4.3s\n",
      "265:\tlearn: 1754.5196747\ttotal: 1.56s\tremaining: 4.29s\n",
      "266:\tlearn: 1754.1990906\ttotal: 1.56s\tremaining: 4.29s\n",
      "267:\tlearn: 1753.8979945\ttotal: 1.57s\tremaining: 4.28s\n",
      "268:\tlearn: 1753.4890153\ttotal: 1.57s\tremaining: 4.27s\n",
      "269:\tlearn: 1753.1495430\ttotal: 1.58s\tremaining: 4.27s\n",
      "270:\tlearn: 1752.7966914\ttotal: 1.58s\tremaining: 4.26s\n",
      "271:\tlearn: 1752.6084699\ttotal: 1.59s\tremaining: 4.25s\n",
      "272:\tlearn: 1752.2582828\ttotal: 1.59s\tremaining: 4.25s\n",
      "273:\tlearn: 1752.0709756\ttotal: 1.6s\tremaining: 4.24s\n",
      "274:\tlearn: 1751.5677551\ttotal: 1.6s\tremaining: 4.23s\n",
      "275:\tlearn: 1751.1284184\ttotal: 1.61s\tremaining: 4.22s\n",
      "276:\tlearn: 1750.7413588\ttotal: 1.62s\tremaining: 4.22s\n",
      "277:\tlearn: 1750.1767132\ttotal: 1.62s\tremaining: 4.21s\n",
      "278:\tlearn: 1749.7311373\ttotal: 1.63s\tremaining: 4.21s\n",
      "279:\tlearn: 1749.2744347\ttotal: 1.63s\tremaining: 4.2s\n",
      "280:\tlearn: 1748.8688818\ttotal: 1.64s\tremaining: 4.2s\n",
      "281:\tlearn: 1748.3293856\ttotal: 1.65s\tremaining: 4.19s\n",
      "282:\tlearn: 1747.9679802\ttotal: 1.65s\tremaining: 4.18s\n",
      "283:\tlearn: 1747.4672503\ttotal: 1.66s\tremaining: 4.18s\n",
      "284:\tlearn: 1747.1152255\ttotal: 1.66s\tremaining: 4.17s\n",
      "285:\tlearn: 1746.5311508\ttotal: 1.67s\tremaining: 4.17s\n",
      "286:\tlearn: 1746.1169962\ttotal: 1.68s\tremaining: 4.16s\n",
      "287:\tlearn: 1745.8269514\ttotal: 1.68s\tremaining: 4.16s\n",
      "288:\tlearn: 1745.4897475\ttotal: 1.69s\tremaining: 4.15s\n",
      "289:\tlearn: 1744.9288599\ttotal: 1.69s\tremaining: 4.14s\n",
      "290:\tlearn: 1744.5709970\ttotal: 1.7s\tremaining: 4.14s\n",
      "291:\tlearn: 1744.2050345\ttotal: 1.7s\tremaining: 4.13s\n",
      "292:\tlearn: 1743.8609408\ttotal: 1.71s\tremaining: 4.13s\n",
      "293:\tlearn: 1743.4541375\ttotal: 1.72s\tremaining: 4.12s\n",
      "294:\tlearn: 1743.2885255\ttotal: 1.72s\tremaining: 4.12s\n",
      "295:\tlearn: 1743.0753351\ttotal: 1.73s\tremaining: 4.11s\n",
      "296:\tlearn: 1742.7939643\ttotal: 1.73s\tremaining: 4.1s\n",
      "297:\tlearn: 1742.3438671\ttotal: 1.74s\tremaining: 4.1s\n",
      "298:\tlearn: 1742.1218127\ttotal: 1.75s\tremaining: 4.09s\n",
      "299:\tlearn: 1741.7716282\ttotal: 1.75s\tremaining: 4.09s\n",
      "300:\tlearn: 1741.4447992\ttotal: 1.76s\tremaining: 4.08s\n",
      "301:\tlearn: 1741.1064911\ttotal: 1.76s\tremaining: 4.08s\n",
      "302:\tlearn: 1740.6690458\ttotal: 1.77s\tremaining: 4.07s\n",
      "303:\tlearn: 1740.2134800\ttotal: 1.77s\tremaining: 4.07s\n",
      "304:\tlearn: 1739.8303096\ttotal: 1.78s\tremaining: 4.06s\n",
      "305:\tlearn: 1739.3415084\ttotal: 1.79s\tremaining: 4.05s\n",
      "306:\tlearn: 1738.9637803\ttotal: 1.79s\tremaining: 4.05s\n",
      "307:\tlearn: 1738.7367051\ttotal: 1.8s\tremaining: 4.04s\n",
      "308:\tlearn: 1738.2740566\ttotal: 1.8s\tremaining: 4.04s\n",
      "309:\tlearn: 1737.9794068\ttotal: 1.81s\tremaining: 4.03s\n",
      "310:\tlearn: 1737.7073304\ttotal: 1.82s\tremaining: 4.02s\n",
      "311:\tlearn: 1737.3195866\ttotal: 1.82s\tremaining: 4.02s\n",
      "312:\tlearn: 1737.0585488\ttotal: 1.83s\tremaining: 4.01s\n",
      "313:\tlearn: 1736.6748349\ttotal: 1.83s\tremaining: 4.01s\n",
      "314:\tlearn: 1736.3457864\ttotal: 1.84s\tremaining: 4s\n",
      "315:\tlearn: 1735.9370171\ttotal: 1.85s\tremaining: 4s\n",
      "316:\tlearn: 1735.5427250\ttotal: 1.85s\tremaining: 3.99s\n",
      "317:\tlearn: 1735.3199800\ttotal: 1.86s\tremaining: 3.99s\n",
      "318:\tlearn: 1734.9789616\ttotal: 1.86s\tremaining: 3.98s\n",
      "319:\tlearn: 1734.6025478\ttotal: 1.87s\tremaining: 3.98s\n",
      "320:\tlearn: 1734.1686266\ttotal: 1.88s\tremaining: 3.97s\n",
      "321:\tlearn: 1733.8833869\ttotal: 1.88s\tremaining: 3.97s\n",
      "322:\tlearn: 1733.7028129\ttotal: 1.89s\tremaining: 3.96s\n",
      "323:\tlearn: 1733.2448980\ttotal: 1.9s\tremaining: 3.96s\n",
      "324:\tlearn: 1732.9567626\ttotal: 1.9s\tremaining: 3.95s\n",
      "325:\tlearn: 1732.6724180\ttotal: 1.91s\tremaining: 3.94s\n",
      "326:\tlearn: 1732.2909434\ttotal: 1.91s\tremaining: 3.94s\n",
      "327:\tlearn: 1732.1011684\ttotal: 1.92s\tremaining: 3.93s\n",
      "328:\tlearn: 1731.8178366\ttotal: 1.93s\tremaining: 3.93s\n",
      "329:\tlearn: 1731.4909438\ttotal: 1.93s\tremaining: 3.92s\n",
      "330:\tlearn: 1731.1535406\ttotal: 1.94s\tremaining: 3.92s\n",
      "331:\tlearn: 1730.6148165\ttotal: 1.94s\tremaining: 3.91s\n",
      "332:\tlearn: 1730.2900824\ttotal: 1.95s\tremaining: 3.9s\n",
      "333:\tlearn: 1729.9134484\ttotal: 1.95s\tremaining: 3.9s\n",
      "334:\tlearn: 1729.7577952\ttotal: 1.96s\tremaining: 3.89s\n",
      "335:\tlearn: 1729.6672113\ttotal: 1.97s\tremaining: 3.88s\n",
      "336:\tlearn: 1729.1495096\ttotal: 1.97s\tremaining: 3.88s\n",
      "337:\tlearn: 1728.7295557\ttotal: 1.98s\tremaining: 3.87s\n",
      "338:\tlearn: 1728.3054422\ttotal: 1.98s\tremaining: 3.86s\n",
      "339:\tlearn: 1727.9296968\ttotal: 1.99s\tremaining: 3.86s\n",
      "340:\tlearn: 1727.6962273\ttotal: 1.99s\tremaining: 3.85s\n",
      "341:\tlearn: 1727.5477792\ttotal: 2s\tremaining: 3.85s\n",
      "342:\tlearn: 1727.2463345\ttotal: 2s\tremaining: 3.84s\n",
      "343:\tlearn: 1726.9837082\ttotal: 2.01s\tremaining: 3.83s\n",
      "344:\tlearn: 1726.6371111\ttotal: 2.02s\tremaining: 3.83s\n",
      "345:\tlearn: 1726.4306902\ttotal: 2.02s\tremaining: 3.82s\n",
      "346:\tlearn: 1726.2000467\ttotal: 2.03s\tremaining: 3.81s\n",
      "347:\tlearn: 1725.9331197\ttotal: 2.03s\tremaining: 3.81s\n",
      "348:\tlearn: 1725.6713807\ttotal: 2.04s\tremaining: 3.8s\n",
      "349:\tlearn: 1725.4297391\ttotal: 2.04s\tremaining: 3.8s\n",
      "350:\tlearn: 1725.2878571\ttotal: 2.05s\tremaining: 3.79s\n",
      "351:\tlearn: 1724.8164619\ttotal: 2.05s\tremaining: 3.78s\n",
      "352:\tlearn: 1724.5105588\ttotal: 2.06s\tremaining: 3.78s\n",
      "353:\tlearn: 1724.1697417\ttotal: 2.07s\tremaining: 3.77s\n",
      "354:\tlearn: 1723.7818348\ttotal: 2.07s\tremaining: 3.77s\n",
      "355:\tlearn: 1723.4933900\ttotal: 2.08s\tremaining: 3.76s\n",
      "356:\tlearn: 1723.2300209\ttotal: 2.08s\tremaining: 3.75s\n",
      "357:\tlearn: 1722.7497411\ttotal: 2.09s\tremaining: 3.75s\n",
      "358:\tlearn: 1722.5969634\ttotal: 2.1s\tremaining: 3.74s\n",
      "359:\tlearn: 1722.2771885\ttotal: 2.1s\tremaining: 3.74s\n",
      "360:\tlearn: 1721.9467856\ttotal: 2.11s\tremaining: 3.73s\n",
      "361:\tlearn: 1721.5875938\ttotal: 2.11s\tremaining: 3.73s\n",
      "362:\tlearn: 1721.1299026\ttotal: 2.12s\tremaining: 3.72s\n",
      "363:\tlearn: 1721.0490575\ttotal: 2.13s\tremaining: 3.71s\n",
      "364:\tlearn: 1720.8674753\ttotal: 2.13s\tremaining: 3.71s\n",
      "365:\tlearn: 1720.4665632\ttotal: 2.14s\tremaining: 3.7s\n",
      "366:\tlearn: 1720.2556471\ttotal: 2.14s\tremaining: 3.7s\n",
      "367:\tlearn: 1719.9251644\ttotal: 2.15s\tremaining: 3.69s\n",
      "368:\tlearn: 1719.6311997\ttotal: 2.15s\tremaining: 3.68s\n",
      "369:\tlearn: 1719.3186910\ttotal: 2.16s\tremaining: 3.68s\n",
      "370:\tlearn: 1719.1937751\ttotal: 2.16s\tremaining: 3.67s\n",
      "371:\tlearn: 1718.8441030\ttotal: 2.17s\tremaining: 3.66s\n",
      "372:\tlearn: 1718.7188223\ttotal: 2.17s\tremaining: 3.66s\n",
      "373:\tlearn: 1718.4614964\ttotal: 2.18s\tremaining: 3.65s\n",
      "374:\tlearn: 1718.2693374\ttotal: 2.19s\tremaining: 3.64s\n",
      "375:\tlearn: 1718.0753274\ttotal: 2.19s\tremaining: 3.64s\n",
      "376:\tlearn: 1717.8236985\ttotal: 2.2s\tremaining: 3.63s\n",
      "377:\tlearn: 1717.4207177\ttotal: 2.2s\tremaining: 3.63s\n",
      "378:\tlearn: 1717.0677860\ttotal: 2.21s\tremaining: 3.62s\n",
      "379:\tlearn: 1716.8233100\ttotal: 2.21s\tremaining: 3.61s\n",
      "380:\tlearn: 1716.5329892\ttotal: 2.22s\tremaining: 3.61s\n",
      "381:\tlearn: 1716.2107763\ttotal: 2.23s\tremaining: 3.6s\n",
      "382:\tlearn: 1715.8275536\ttotal: 2.23s\tremaining: 3.59s\n",
      "383:\tlearn: 1715.1631626\ttotal: 2.24s\tremaining: 3.59s\n",
      "384:\tlearn: 1714.9036784\ttotal: 2.24s\tremaining: 3.58s\n",
      "385:\tlearn: 1714.8295605\ttotal: 2.25s\tremaining: 3.58s\n",
      "386:\tlearn: 1714.4533699\ttotal: 2.25s\tremaining: 3.57s\n",
      "387:\tlearn: 1714.2408577\ttotal: 2.26s\tremaining: 3.56s\n",
      "388:\tlearn: 1713.9736326\ttotal: 2.26s\tremaining: 3.56s\n",
      "389:\tlearn: 1713.6561605\ttotal: 2.27s\tremaining: 3.55s\n",
      "390:\tlearn: 1713.3910548\ttotal: 2.28s\tremaining: 3.54s\n",
      "391:\tlearn: 1713.0391626\ttotal: 2.28s\tremaining: 3.54s\n",
      "392:\tlearn: 1712.7046448\ttotal: 2.29s\tremaining: 3.54s\n",
      "393:\tlearn: 1712.5658565\ttotal: 2.29s\tremaining: 3.53s\n",
      "394:\tlearn: 1712.3611364\ttotal: 2.3s\tremaining: 3.52s\n",
      "395:\tlearn: 1712.0523500\ttotal: 2.31s\tremaining: 3.52s\n",
      "396:\tlearn: 1711.8853081\ttotal: 2.31s\tremaining: 3.51s\n",
      "397:\tlearn: 1711.5816917\ttotal: 2.32s\tremaining: 3.51s\n",
      "398:\tlearn: 1711.3212036\ttotal: 2.32s\tremaining: 3.5s\n",
      "399:\tlearn: 1711.0116645\ttotal: 2.33s\tremaining: 3.5s\n",
      "400:\tlearn: 1710.7913956\ttotal: 2.34s\tremaining: 3.49s\n",
      "401:\tlearn: 1710.5513011\ttotal: 2.34s\tremaining: 3.48s\n",
      "402:\tlearn: 1710.2808712\ttotal: 2.35s\tremaining: 3.48s\n",
      "403:\tlearn: 1710.1245132\ttotal: 2.35s\tremaining: 3.47s\n",
      "404:\tlearn: 1710.0036270\ttotal: 2.36s\tremaining: 3.47s\n",
      "405:\tlearn: 1709.8291135\ttotal: 2.37s\tremaining: 3.46s\n",
      "406:\tlearn: 1709.6369258\ttotal: 2.37s\tremaining: 3.45s\n",
      "407:\tlearn: 1709.5296334\ttotal: 2.38s\tremaining: 3.45s\n",
      "408:\tlearn: 1709.2840238\ttotal: 2.38s\tremaining: 3.44s\n",
      "409:\tlearn: 1709.0402876\ttotal: 2.39s\tremaining: 3.43s\n",
      "410:\tlearn: 1708.7658669\ttotal: 2.39s\tremaining: 3.43s\n",
      "411:\tlearn: 1708.4900921\ttotal: 2.4s\tremaining: 3.42s\n",
      "412:\tlearn: 1708.3547814\ttotal: 2.4s\tremaining: 3.42s\n",
      "413:\tlearn: 1708.1078066\ttotal: 2.41s\tremaining: 3.41s\n",
      "414:\tlearn: 1707.9138193\ttotal: 2.41s\tremaining: 3.4s\n",
      "415:\tlearn: 1707.6879286\ttotal: 2.42s\tremaining: 3.4s\n",
      "416:\tlearn: 1707.5293733\ttotal: 2.42s\tremaining: 3.39s\n",
      "417:\tlearn: 1707.2046230\ttotal: 2.43s\tremaining: 3.39s\n",
      "418:\tlearn: 1706.9765937\ttotal: 2.44s\tremaining: 3.38s\n",
      "419:\tlearn: 1706.7500140\ttotal: 2.44s\tremaining: 3.37s\n",
      "420:\tlearn: 1706.4074194\ttotal: 2.45s\tremaining: 3.37s\n",
      "421:\tlearn: 1706.2628603\ttotal: 2.45s\tremaining: 3.36s\n",
      "422:\tlearn: 1705.9710579\ttotal: 2.46s\tremaining: 3.35s\n",
      "423:\tlearn: 1705.6663290\ttotal: 2.46s\tremaining: 3.35s\n",
      "424:\tlearn: 1705.3996221\ttotal: 2.47s\tremaining: 3.34s\n",
      "425:\tlearn: 1705.1092541\ttotal: 2.48s\tremaining: 3.34s\n",
      "426:\tlearn: 1704.8224861\ttotal: 2.48s\tremaining: 3.33s\n",
      "427:\tlearn: 1704.7305404\ttotal: 2.49s\tremaining: 3.33s\n",
      "428:\tlearn: 1704.4331023\ttotal: 2.5s\tremaining: 3.32s\n",
      "429:\tlearn: 1703.9977108\ttotal: 2.5s\tremaining: 3.31s\n",
      "430:\tlearn: 1703.4741550\ttotal: 2.51s\tremaining: 3.31s\n",
      "431:\tlearn: 1703.1464626\ttotal: 2.51s\tremaining: 3.3s\n",
      "432:\tlearn: 1702.9550919\ttotal: 2.52s\tremaining: 3.3s\n",
      "433:\tlearn: 1702.5776312\ttotal: 2.52s\tremaining: 3.29s\n",
      "434:\tlearn: 1702.2647274\ttotal: 2.53s\tremaining: 3.29s\n",
      "435:\tlearn: 1702.0085402\ttotal: 2.53s\tremaining: 3.28s\n",
      "436:\tlearn: 1701.7928499\ttotal: 2.54s\tremaining: 3.27s\n",
      "437:\tlearn: 1701.4728769\ttotal: 2.54s\tremaining: 3.27s\n",
      "438:\tlearn: 1701.1743777\ttotal: 2.55s\tremaining: 3.26s\n",
      "439:\tlearn: 1700.9522872\ttotal: 2.56s\tremaining: 3.25s\n",
      "440:\tlearn: 1700.7197509\ttotal: 2.56s\tremaining: 3.25s\n",
      "441:\tlearn: 1700.4962834\ttotal: 2.57s\tremaining: 3.24s\n",
      "442:\tlearn: 1700.3911211\ttotal: 2.57s\tremaining: 3.23s\n",
      "443:\tlearn: 1700.2191782\ttotal: 2.58s\tremaining: 3.23s\n",
      "444:\tlearn: 1699.9812992\ttotal: 2.58s\tremaining: 3.22s\n",
      "445:\tlearn: 1699.8097455\ttotal: 2.59s\tremaining: 3.22s\n",
      "446:\tlearn: 1699.4958250\ttotal: 2.6s\tremaining: 3.21s\n",
      "447:\tlearn: 1699.3428999\ttotal: 2.6s\tremaining: 3.2s\n",
      "448:\tlearn: 1699.1649869\ttotal: 2.61s\tremaining: 3.2s\n",
      "449:\tlearn: 1698.9427941\ttotal: 2.61s\tremaining: 3.19s\n",
      "450:\tlearn: 1698.7455501\ttotal: 2.62s\tremaining: 3.19s\n",
      "451:\tlearn: 1698.5334354\ttotal: 2.62s\tremaining: 3.18s\n",
      "452:\tlearn: 1698.4284467\ttotal: 2.63s\tremaining: 3.17s\n",
      "453:\tlearn: 1698.1302510\ttotal: 2.63s\tremaining: 3.17s\n",
      "454:\tlearn: 1697.8710533\ttotal: 2.64s\tremaining: 3.16s\n",
      "455:\tlearn: 1697.6204727\ttotal: 2.64s\tremaining: 3.15s\n",
      "456:\tlearn: 1697.3613757\ttotal: 2.65s\tremaining: 3.15s\n",
      "457:\tlearn: 1697.0011672\ttotal: 2.65s\tremaining: 3.14s\n",
      "458:\tlearn: 1696.7127441\ttotal: 2.66s\tremaining: 3.14s\n",
      "459:\tlearn: 1696.4945519\ttotal: 2.67s\tremaining: 3.13s\n",
      "460:\tlearn: 1696.1925480\ttotal: 2.67s\tremaining: 3.13s\n",
      "461:\tlearn: 1695.8972162\ttotal: 2.68s\tremaining: 3.12s\n",
      "462:\tlearn: 1695.7105977\ttotal: 2.68s\tremaining: 3.11s\n",
      "463:\tlearn: 1695.4560878\ttotal: 2.69s\tremaining: 3.11s\n",
      "464:\tlearn: 1695.0696557\ttotal: 2.7s\tremaining: 3.1s\n",
      "465:\tlearn: 1694.8404586\ttotal: 2.7s\tremaining: 3.1s\n",
      "466:\tlearn: 1694.5586855\ttotal: 2.71s\tremaining: 3.09s\n",
      "467:\tlearn: 1694.3376977\ttotal: 2.71s\tremaining: 3.09s\n",
      "468:\tlearn: 1693.9540186\ttotal: 2.72s\tremaining: 3.08s\n",
      "469:\tlearn: 1693.7566188\ttotal: 2.73s\tremaining: 3.08s\n",
      "470:\tlearn: 1693.5693651\ttotal: 2.73s\tremaining: 3.07s\n",
      "471:\tlearn: 1693.3174475\ttotal: 2.74s\tremaining: 3.06s\n",
      "472:\tlearn: 1693.2226151\ttotal: 2.74s\tremaining: 3.06s\n",
      "473:\tlearn: 1693.0106147\ttotal: 2.75s\tremaining: 3.05s\n",
      "474:\tlearn: 1692.8190678\ttotal: 2.75s\tremaining: 3.04s\n",
      "475:\tlearn: 1692.6196439\ttotal: 2.76s\tremaining: 3.04s\n",
      "476:\tlearn: 1692.3837188\ttotal: 2.77s\tremaining: 3.03s\n",
      "477:\tlearn: 1692.0405300\ttotal: 2.77s\tremaining: 3.03s\n",
      "478:\tlearn: 1691.9016762\ttotal: 2.78s\tremaining: 3.02s\n",
      "479:\tlearn: 1691.7504528\ttotal: 2.78s\tremaining: 3.01s\n",
      "480:\tlearn: 1691.5134225\ttotal: 2.79s\tremaining: 3.01s\n",
      "481:\tlearn: 1691.3644184\ttotal: 2.79s\tremaining: 3s\n",
      "482:\tlearn: 1691.1989663\ttotal: 2.8s\tremaining: 3s\n",
      "483:\tlearn: 1690.9512640\ttotal: 2.81s\tremaining: 2.99s\n",
      "484:\tlearn: 1690.7994269\ttotal: 2.81s\tremaining: 2.98s\n",
      "485:\tlearn: 1690.7408760\ttotal: 2.82s\tremaining: 2.98s\n",
      "486:\tlearn: 1690.6145708\ttotal: 2.82s\tremaining: 2.97s\n",
      "487:\tlearn: 1690.3809911\ttotal: 2.83s\tremaining: 2.97s\n",
      "488:\tlearn: 1690.2048027\ttotal: 2.83s\tremaining: 2.96s\n",
      "489:\tlearn: 1690.0316600\ttotal: 2.84s\tremaining: 2.96s\n",
      "490:\tlearn: 1689.9179085\ttotal: 2.84s\tremaining: 2.95s\n",
      "491:\tlearn: 1689.6035066\ttotal: 2.85s\tremaining: 2.94s\n",
      "492:\tlearn: 1689.4429429\ttotal: 2.86s\tremaining: 2.94s\n",
      "493:\tlearn: 1689.2852755\ttotal: 2.86s\tremaining: 2.93s\n",
      "494:\tlearn: 1689.0621745\ttotal: 2.87s\tremaining: 2.92s\n",
      "495:\tlearn: 1688.9264736\ttotal: 2.87s\tremaining: 2.92s\n",
      "496:\tlearn: 1688.7276209\ttotal: 2.88s\tremaining: 2.91s\n",
      "497:\tlearn: 1688.5976883\ttotal: 2.88s\tremaining: 2.91s\n",
      "498:\tlearn: 1688.3974536\ttotal: 2.89s\tremaining: 2.9s\n",
      "499:\tlearn: 1688.1024139\ttotal: 2.9s\tremaining: 2.9s\n",
      "500:\tlearn: 1687.8858988\ttotal: 2.9s\tremaining: 2.89s\n",
      "501:\tlearn: 1687.8033393\ttotal: 2.91s\tremaining: 2.88s\n",
      "502:\tlearn: 1687.5777932\ttotal: 2.91s\tremaining: 2.88s\n",
      "503:\tlearn: 1687.3439743\ttotal: 2.92s\tremaining: 2.87s\n",
      "504:\tlearn: 1687.2051854\ttotal: 2.92s\tremaining: 2.87s\n",
      "505:\tlearn: 1687.0368963\ttotal: 2.93s\tremaining: 2.86s\n",
      "506:\tlearn: 1686.8841578\ttotal: 2.94s\tremaining: 2.85s\n",
      "507:\tlearn: 1686.7312316\ttotal: 2.94s\tremaining: 2.85s\n",
      "508:\tlearn: 1686.5489022\ttotal: 2.95s\tremaining: 2.84s\n",
      "509:\tlearn: 1686.3692886\ttotal: 2.95s\tremaining: 2.84s\n",
      "510:\tlearn: 1686.2795279\ttotal: 2.96s\tremaining: 2.83s\n",
      "511:\tlearn: 1686.1082621\ttotal: 2.96s\tremaining: 2.82s\n",
      "512:\tlearn: 1685.9139752\ttotal: 2.97s\tremaining: 2.82s\n",
      "513:\tlearn: 1685.7083028\ttotal: 2.97s\tremaining: 2.81s\n",
      "514:\tlearn: 1685.6282667\ttotal: 2.98s\tremaining: 2.81s\n",
      "515:\tlearn: 1685.4299836\ttotal: 2.99s\tremaining: 2.8s\n",
      "516:\tlearn: 1685.1976172\ttotal: 2.99s\tremaining: 2.8s\n",
      "517:\tlearn: 1685.0819661\ttotal: 3s\tremaining: 2.79s\n",
      "518:\tlearn: 1684.9370196\ttotal: 3.01s\tremaining: 2.79s\n",
      "519:\tlearn: 1684.7986666\ttotal: 3.01s\tremaining: 2.78s\n",
      "520:\tlearn: 1684.6787770\ttotal: 3.02s\tremaining: 2.77s\n",
      "521:\tlearn: 1684.5246145\ttotal: 3.02s\tremaining: 2.77s\n",
      "522:\tlearn: 1684.3757288\ttotal: 3.03s\tremaining: 2.76s\n",
      "523:\tlearn: 1684.1692533\ttotal: 3.04s\tremaining: 2.76s\n",
      "524:\tlearn: 1683.9032422\ttotal: 3.04s\tremaining: 2.75s\n",
      "525:\tlearn: 1683.6894448\ttotal: 3.05s\tremaining: 2.75s\n",
      "526:\tlearn: 1683.5347825\ttotal: 3.05s\tremaining: 2.74s\n",
      "527:\tlearn: 1683.4330717\ttotal: 3.06s\tremaining: 2.73s\n",
      "528:\tlearn: 1683.2741138\ttotal: 3.06s\tremaining: 2.73s\n",
      "529:\tlearn: 1683.1230324\ttotal: 3.07s\tremaining: 2.72s\n",
      "530:\tlearn: 1682.8255438\ttotal: 3.08s\tremaining: 2.72s\n",
      "531:\tlearn: 1682.5505324\ttotal: 3.08s\tremaining: 2.71s\n",
      "532:\tlearn: 1682.3769868\ttotal: 3.09s\tremaining: 2.71s\n",
      "533:\tlearn: 1682.1484375\ttotal: 3.09s\tremaining: 2.7s\n",
      "534:\tlearn: 1682.0743510\ttotal: 3.1s\tremaining: 2.69s\n",
      "535:\tlearn: 1681.8978689\ttotal: 3.11s\tremaining: 2.69s\n",
      "536:\tlearn: 1681.7649481\ttotal: 3.11s\tremaining: 2.68s\n",
      "537:\tlearn: 1681.6579212\ttotal: 3.12s\tremaining: 2.68s\n",
      "538:\tlearn: 1681.5070808\ttotal: 3.12s\tremaining: 2.67s\n",
      "539:\tlearn: 1681.1696158\ttotal: 3.13s\tremaining: 2.67s\n",
      "540:\tlearn: 1680.9329375\ttotal: 3.13s\tremaining: 2.66s\n",
      "541:\tlearn: 1680.7414012\ttotal: 3.14s\tremaining: 2.65s\n",
      "542:\tlearn: 1680.5702953\ttotal: 3.15s\tremaining: 2.65s\n",
      "543:\tlearn: 1680.4671108\ttotal: 3.15s\tremaining: 2.64s\n",
      "544:\tlearn: 1680.2879541\ttotal: 3.16s\tremaining: 2.63s\n",
      "545:\tlearn: 1680.1074226\ttotal: 3.16s\tremaining: 2.63s\n",
      "546:\tlearn: 1679.9036409\ttotal: 3.17s\tremaining: 2.62s\n",
      "547:\tlearn: 1679.6117874\ttotal: 3.17s\tremaining: 2.62s\n",
      "548:\tlearn: 1679.4641277\ttotal: 3.18s\tremaining: 2.61s\n",
      "549:\tlearn: 1679.2435680\ttotal: 3.18s\tremaining: 2.6s\n",
      "550:\tlearn: 1678.9981851\ttotal: 3.19s\tremaining: 2.6s\n",
      "551:\tlearn: 1678.7835925\ttotal: 3.19s\tremaining: 2.59s\n",
      "552:\tlearn: 1678.6826382\ttotal: 3.2s\tremaining: 2.59s\n",
      "553:\tlearn: 1678.5360398\ttotal: 3.21s\tremaining: 2.58s\n",
      "554:\tlearn: 1678.4092218\ttotal: 3.21s\tremaining: 2.58s\n",
      "555:\tlearn: 1678.2507636\ttotal: 3.22s\tremaining: 2.57s\n",
      "556:\tlearn: 1678.1922150\ttotal: 3.22s\tremaining: 2.56s\n",
      "557:\tlearn: 1678.0732386\ttotal: 3.23s\tremaining: 2.56s\n",
      "558:\tlearn: 1677.9461764\ttotal: 3.23s\tremaining: 2.55s\n",
      "559:\tlearn: 1677.6676997\ttotal: 3.24s\tremaining: 2.54s\n",
      "560:\tlearn: 1677.4710672\ttotal: 3.25s\tremaining: 2.54s\n",
      "561:\tlearn: 1677.2765230\ttotal: 3.25s\tremaining: 2.53s\n",
      "562:\tlearn: 1677.1594161\ttotal: 3.26s\tremaining: 2.53s\n",
      "563:\tlearn: 1676.8787506\ttotal: 3.26s\tremaining: 2.52s\n",
      "564:\tlearn: 1676.7710968\ttotal: 3.27s\tremaining: 2.52s\n",
      "565:\tlearn: 1676.5180014\ttotal: 3.27s\tremaining: 2.51s\n",
      "566:\tlearn: 1676.3912822\ttotal: 3.28s\tremaining: 2.5s\n",
      "567:\tlearn: 1676.2347233\ttotal: 3.29s\tremaining: 2.5s\n",
      "568:\tlearn: 1675.9924881\ttotal: 3.29s\tremaining: 2.49s\n",
      "569:\tlearn: 1675.8065158\ttotal: 3.3s\tremaining: 2.49s\n",
      "570:\tlearn: 1675.6069496\ttotal: 3.3s\tremaining: 2.48s\n",
      "571:\tlearn: 1675.4365873\ttotal: 3.31s\tremaining: 2.48s\n",
      "572:\tlearn: 1675.2223745\ttotal: 3.32s\tremaining: 2.47s\n",
      "573:\tlearn: 1674.9332999\ttotal: 3.32s\tremaining: 2.46s\n",
      "574:\tlearn: 1674.7873451\ttotal: 3.33s\tremaining: 2.46s\n",
      "575:\tlearn: 1674.7000250\ttotal: 3.33s\tremaining: 2.45s\n",
      "576:\tlearn: 1674.5954495\ttotal: 3.34s\tremaining: 2.45s\n",
      "577:\tlearn: 1674.3645414\ttotal: 3.34s\tremaining: 2.44s\n",
      "578:\tlearn: 1674.1276443\ttotal: 3.35s\tremaining: 2.44s\n",
      "579:\tlearn: 1674.0247706\ttotal: 3.36s\tremaining: 2.43s\n",
      "580:\tlearn: 1673.8919484\ttotal: 3.36s\tremaining: 2.42s\n",
      "581:\tlearn: 1673.7048879\ttotal: 3.37s\tremaining: 2.42s\n",
      "582:\tlearn: 1673.4426592\ttotal: 3.37s\tremaining: 2.41s\n",
      "583:\tlearn: 1673.2648566\ttotal: 3.38s\tremaining: 2.41s\n",
      "584:\tlearn: 1673.0581497\ttotal: 3.38s\tremaining: 2.4s\n",
      "585:\tlearn: 1672.8892662\ttotal: 3.39s\tremaining: 2.39s\n",
      "586:\tlearn: 1672.6409045\ttotal: 3.39s\tremaining: 2.39s\n",
      "587:\tlearn: 1672.4527862\ttotal: 3.4s\tremaining: 2.38s\n",
      "588:\tlearn: 1672.3347627\ttotal: 3.4s\tremaining: 2.38s\n",
      "589:\tlearn: 1672.2153291\ttotal: 3.41s\tremaining: 2.37s\n",
      "590:\tlearn: 1672.0081957\ttotal: 3.42s\tremaining: 2.36s\n",
      "591:\tlearn: 1671.8151096\ttotal: 3.42s\tremaining: 2.36s\n",
      "592:\tlearn: 1671.5980530\ttotal: 3.43s\tremaining: 2.35s\n",
      "593:\tlearn: 1671.3904212\ttotal: 3.43s\tremaining: 2.35s\n",
      "594:\tlearn: 1671.1818539\ttotal: 3.44s\tremaining: 2.34s\n",
      "595:\tlearn: 1670.9732172\ttotal: 3.44s\tremaining: 2.33s\n",
      "596:\tlearn: 1670.6095809\ttotal: 3.45s\tremaining: 2.33s\n",
      "597:\tlearn: 1670.4397060\ttotal: 3.46s\tremaining: 2.32s\n",
      "598:\tlearn: 1670.3313461\ttotal: 3.46s\tremaining: 2.32s\n",
      "599:\tlearn: 1670.2830474\ttotal: 3.47s\tremaining: 2.31s\n",
      "600:\tlearn: 1670.1923874\ttotal: 3.47s\tremaining: 2.31s\n",
      "601:\tlearn: 1669.9432023\ttotal: 3.48s\tremaining: 2.3s\n",
      "602:\tlearn: 1669.6947077\ttotal: 3.48s\tremaining: 2.29s\n",
      "603:\tlearn: 1669.5059931\ttotal: 3.49s\tremaining: 2.29s\n",
      "604:\tlearn: 1669.3767904\ttotal: 3.5s\tremaining: 2.28s\n",
      "605:\tlearn: 1669.2238023\ttotal: 3.5s\tremaining: 2.27s\n",
      "606:\tlearn: 1668.9631592\ttotal: 3.51s\tremaining: 2.27s\n",
      "607:\tlearn: 1668.8272025\ttotal: 3.51s\tremaining: 2.26s\n",
      "608:\tlearn: 1668.7098921\ttotal: 3.52s\tremaining: 2.26s\n",
      "609:\tlearn: 1668.4675964\ttotal: 3.52s\tremaining: 2.25s\n",
      "610:\tlearn: 1668.3383367\ttotal: 3.53s\tremaining: 2.25s\n",
      "611:\tlearn: 1668.2300419\ttotal: 3.54s\tremaining: 2.24s\n",
      "612:\tlearn: 1668.1109157\ttotal: 3.54s\tremaining: 2.23s\n",
      "613:\tlearn: 1667.9118945\ttotal: 3.55s\tremaining: 2.23s\n",
      "614:\tlearn: 1667.8135971\ttotal: 3.55s\tremaining: 2.22s\n",
      "615:\tlearn: 1667.6603173\ttotal: 3.56s\tremaining: 2.22s\n",
      "616:\tlearn: 1667.5215052\ttotal: 3.56s\tremaining: 2.21s\n",
      "617:\tlearn: 1667.3408362\ttotal: 3.57s\tremaining: 2.21s\n",
      "618:\tlearn: 1667.1836476\ttotal: 3.57s\tremaining: 2.2s\n",
      "619:\tlearn: 1667.0261761\ttotal: 3.58s\tremaining: 2.19s\n",
      "620:\tlearn: 1666.9747646\ttotal: 3.58s\tremaining: 2.19s\n",
      "621:\tlearn: 1666.8844028\ttotal: 3.59s\tremaining: 2.18s\n",
      "622:\tlearn: 1666.7320942\ttotal: 3.6s\tremaining: 2.18s\n",
      "623:\tlearn: 1666.5646970\ttotal: 3.6s\tremaining: 2.17s\n",
      "624:\tlearn: 1666.4759798\ttotal: 3.61s\tremaining: 2.16s\n",
      "625:\tlearn: 1666.2836972\ttotal: 3.61s\tremaining: 2.16s\n",
      "626:\tlearn: 1666.1364679\ttotal: 3.62s\tremaining: 2.15s\n",
      "627:\tlearn: 1666.0574218\ttotal: 3.62s\tremaining: 2.15s\n",
      "628:\tlearn: 1665.8490458\ttotal: 3.63s\tremaining: 2.14s\n",
      "629:\tlearn: 1665.6739300\ttotal: 3.63s\tremaining: 2.13s\n",
      "630:\tlearn: 1665.4840749\ttotal: 3.64s\tremaining: 2.13s\n",
      "631:\tlearn: 1665.3850139\ttotal: 3.65s\tremaining: 2.12s\n",
      "632:\tlearn: 1665.2555126\ttotal: 3.65s\tremaining: 2.12s\n",
      "633:\tlearn: 1665.1530615\ttotal: 3.66s\tremaining: 2.11s\n",
      "634:\tlearn: 1664.8592240\ttotal: 3.67s\tremaining: 2.11s\n",
      "635:\tlearn: 1664.6766158\ttotal: 3.67s\tremaining: 2.1s\n",
      "636:\tlearn: 1664.5155578\ttotal: 3.68s\tremaining: 2.09s\n",
      "637:\tlearn: 1664.3504890\ttotal: 3.68s\tremaining: 2.09s\n",
      "638:\tlearn: 1664.1356761\ttotal: 3.69s\tremaining: 2.08s\n",
      "639:\tlearn: 1664.0059976\ttotal: 3.69s\tremaining: 2.08s\n",
      "640:\tlearn: 1663.8671329\ttotal: 3.7s\tremaining: 2.07s\n",
      "641:\tlearn: 1663.7216507\ttotal: 3.7s\tremaining: 2.06s\n",
      "642:\tlearn: 1663.4915187\ttotal: 3.71s\tremaining: 2.06s\n",
      "643:\tlearn: 1663.3555540\ttotal: 3.71s\tremaining: 2.05s\n",
      "644:\tlearn: 1663.2090294\ttotal: 3.72s\tremaining: 2.05s\n",
      "645:\tlearn: 1663.0515879\ttotal: 3.73s\tremaining: 2.04s\n",
      "646:\tlearn: 1662.9525696\ttotal: 3.73s\tremaining: 2.04s\n",
      "647:\tlearn: 1662.7977471\ttotal: 3.74s\tremaining: 2.03s\n",
      "648:\tlearn: 1662.6828868\ttotal: 3.74s\tremaining: 2.02s\n",
      "649:\tlearn: 1662.5525602\ttotal: 3.75s\tremaining: 2.02s\n",
      "650:\tlearn: 1662.3377674\ttotal: 3.76s\tremaining: 2.01s\n",
      "651:\tlearn: 1662.2952437\ttotal: 3.76s\tremaining: 2.01s\n",
      "652:\tlearn: 1662.1514991\ttotal: 3.77s\tremaining: 2s\n",
      "653:\tlearn: 1662.0171984\ttotal: 3.77s\tremaining: 2s\n",
      "654:\tlearn: 1661.8904976\ttotal: 3.78s\tremaining: 1.99s\n",
      "655:\tlearn: 1661.6991545\ttotal: 3.78s\tremaining: 1.98s\n",
      "656:\tlearn: 1661.5305650\ttotal: 3.79s\tremaining: 1.98s\n",
      "657:\tlearn: 1661.3994144\ttotal: 3.8s\tremaining: 1.97s\n",
      "658:\tlearn: 1661.3137779\ttotal: 3.8s\tremaining: 1.97s\n",
      "659:\tlearn: 1661.1455457\ttotal: 3.81s\tremaining: 1.96s\n",
      "660:\tlearn: 1661.0239808\ttotal: 3.81s\tremaining: 1.96s\n",
      "661:\tlearn: 1660.9380691\ttotal: 3.82s\tremaining: 1.95s\n",
      "662:\tlearn: 1660.7432828\ttotal: 3.82s\tremaining: 1.94s\n",
      "663:\tlearn: 1660.6272233\ttotal: 3.83s\tremaining: 1.94s\n",
      "664:\tlearn: 1660.4391185\ttotal: 3.83s\tremaining: 1.93s\n",
      "665:\tlearn: 1660.3454534\ttotal: 3.84s\tremaining: 1.93s\n",
      "666:\tlearn: 1660.3078642\ttotal: 3.85s\tremaining: 1.92s\n",
      "667:\tlearn: 1660.2140535\ttotal: 3.85s\tremaining: 1.91s\n",
      "668:\tlearn: 1660.0823959\ttotal: 3.86s\tremaining: 1.91s\n",
      "669:\tlearn: 1659.9244897\ttotal: 3.86s\tremaining: 1.9s\n",
      "670:\tlearn: 1659.8262866\ttotal: 3.87s\tremaining: 1.9s\n",
      "671:\tlearn: 1659.6492529\ttotal: 3.87s\tremaining: 1.89s\n",
      "672:\tlearn: 1659.5162188\ttotal: 3.88s\tremaining: 1.89s\n",
      "673:\tlearn: 1659.3258471\ttotal: 3.88s\tremaining: 1.88s\n",
      "674:\tlearn: 1659.1553546\ttotal: 3.89s\tremaining: 1.87s\n",
      "675:\tlearn: 1659.0541436\ttotal: 3.9s\tremaining: 1.87s\n",
      "676:\tlearn: 1658.9010887\ttotal: 3.9s\tremaining: 1.86s\n",
      "677:\tlearn: 1658.7645956\ttotal: 3.91s\tremaining: 1.85s\n",
      "678:\tlearn: 1658.6885375\ttotal: 3.91s\tremaining: 1.85s\n",
      "679:\tlearn: 1658.5551101\ttotal: 3.92s\tremaining: 1.84s\n",
      "680:\tlearn: 1658.3429196\ttotal: 3.92s\tremaining: 1.84s\n",
      "681:\tlearn: 1658.2040801\ttotal: 3.93s\tremaining: 1.83s\n",
      "682:\tlearn: 1657.9821254\ttotal: 3.93s\tremaining: 1.83s\n",
      "683:\tlearn: 1657.7762139\ttotal: 3.94s\tremaining: 1.82s\n",
      "684:\tlearn: 1657.6738783\ttotal: 3.95s\tremaining: 1.81s\n",
      "685:\tlearn: 1657.5897247\ttotal: 3.95s\tremaining: 1.81s\n",
      "686:\tlearn: 1657.4748854\ttotal: 3.96s\tremaining: 1.8s\n",
      "687:\tlearn: 1657.3765634\ttotal: 3.98s\tremaining: 1.8s\n",
      "688:\tlearn: 1657.3076762\ttotal: 3.99s\tremaining: 1.8s\n",
      "689:\tlearn: 1657.0991944\ttotal: 4s\tremaining: 1.8s\n",
      "690:\tlearn: 1656.9165768\ttotal: 4s\tremaining: 1.79s\n",
      "691:\tlearn: 1656.7481010\ttotal: 4.01s\tremaining: 1.78s\n",
      "692:\tlearn: 1656.6248122\ttotal: 4.02s\tremaining: 1.78s\n",
      "693:\tlearn: 1656.4167978\ttotal: 4.02s\tremaining: 1.77s\n",
      "694:\tlearn: 1656.2320703\ttotal: 4.03s\tremaining: 1.77s\n",
      "695:\tlearn: 1656.0228336\ttotal: 4.03s\tremaining: 1.76s\n",
      "696:\tlearn: 1655.8713773\ttotal: 4.04s\tremaining: 1.76s\n",
      "697:\tlearn: 1655.7164934\ttotal: 4.05s\tremaining: 1.75s\n",
      "698:\tlearn: 1655.6784683\ttotal: 4.05s\tremaining: 1.74s\n",
      "699:\tlearn: 1655.4836514\ttotal: 4.06s\tremaining: 1.74s\n",
      "700:\tlearn: 1655.2308932\ttotal: 4.06s\tremaining: 1.73s\n",
      "701:\tlearn: 1655.0178245\ttotal: 4.07s\tremaining: 1.73s\n",
      "702:\tlearn: 1654.8792979\ttotal: 4.07s\tremaining: 1.72s\n",
      "703:\tlearn: 1654.7692250\ttotal: 4.08s\tremaining: 1.72s\n",
      "704:\tlearn: 1654.6697628\ttotal: 4.08s\tremaining: 1.71s\n",
      "705:\tlearn: 1654.5735770\ttotal: 4.09s\tremaining: 1.7s\n",
      "706:\tlearn: 1654.4298079\ttotal: 4.1s\tremaining: 1.7s\n",
      "707:\tlearn: 1654.2508899\ttotal: 4.1s\tremaining: 1.69s\n",
      "708:\tlearn: 1654.1309330\ttotal: 4.11s\tremaining: 1.69s\n",
      "709:\tlearn: 1653.9470522\ttotal: 4.11s\tremaining: 1.68s\n",
      "710:\tlearn: 1653.7708496\ttotal: 4.12s\tremaining: 1.67s\n",
      "711:\tlearn: 1653.7006533\ttotal: 4.13s\tremaining: 1.67s\n",
      "712:\tlearn: 1653.5879647\ttotal: 4.13s\tremaining: 1.66s\n",
      "713:\tlearn: 1653.5135735\ttotal: 4.14s\tremaining: 1.66s\n",
      "714:\tlearn: 1653.3767623\ttotal: 4.14s\tremaining: 1.65s\n",
      "715:\tlearn: 1653.2743195\ttotal: 4.15s\tremaining: 1.65s\n",
      "716:\tlearn: 1653.1722250\ttotal: 4.16s\tremaining: 1.64s\n",
      "717:\tlearn: 1653.1156014\ttotal: 4.16s\tremaining: 1.63s\n",
      "718:\tlearn: 1652.9180120\ttotal: 4.17s\tremaining: 1.63s\n",
      "719:\tlearn: 1652.8067979\ttotal: 4.17s\tremaining: 1.62s\n",
      "720:\tlearn: 1652.6719438\ttotal: 4.18s\tremaining: 1.62s\n",
      "721:\tlearn: 1652.5117356\ttotal: 4.18s\tremaining: 1.61s\n",
      "722:\tlearn: 1652.3737068\ttotal: 4.19s\tremaining: 1.6s\n",
      "723:\tlearn: 1652.2621151\ttotal: 4.2s\tremaining: 1.6s\n",
      "724:\tlearn: 1652.0635790\ttotal: 4.2s\tremaining: 1.59s\n",
      "725:\tlearn: 1651.9606742\ttotal: 4.21s\tremaining: 1.59s\n",
      "726:\tlearn: 1651.8554957\ttotal: 4.21s\tremaining: 1.58s\n",
      "727:\tlearn: 1651.7552976\ttotal: 4.22s\tremaining: 1.57s\n",
      "728:\tlearn: 1651.6434185\ttotal: 4.22s\tremaining: 1.57s\n",
      "729:\tlearn: 1651.5187105\ttotal: 4.23s\tremaining: 1.56s\n",
      "730:\tlearn: 1651.4083296\ttotal: 4.23s\tremaining: 1.56s\n",
      "731:\tlearn: 1651.3155267\ttotal: 4.24s\tremaining: 1.55s\n",
      "732:\tlearn: 1651.2071030\ttotal: 4.25s\tremaining: 1.55s\n",
      "733:\tlearn: 1650.9316355\ttotal: 4.25s\tremaining: 1.54s\n",
      "734:\tlearn: 1650.8046327\ttotal: 4.26s\tremaining: 1.53s\n",
      "735:\tlearn: 1650.6538765\ttotal: 4.26s\tremaining: 1.53s\n",
      "736:\tlearn: 1650.3864290\ttotal: 4.27s\tremaining: 1.52s\n",
      "737:\tlearn: 1650.3405299\ttotal: 4.27s\tremaining: 1.52s\n",
      "738:\tlearn: 1650.2254376\ttotal: 4.28s\tremaining: 1.51s\n",
      "739:\tlearn: 1650.1689864\ttotal: 4.28s\tremaining: 1.5s\n",
      "740:\tlearn: 1650.0234482\ttotal: 4.29s\tremaining: 1.5s\n",
      "741:\tlearn: 1649.8725847\ttotal: 4.29s\tremaining: 1.49s\n",
      "742:\tlearn: 1649.7819476\ttotal: 4.3s\tremaining: 1.49s\n",
      "743:\tlearn: 1649.7488509\ttotal: 4.31s\tremaining: 1.48s\n",
      "744:\tlearn: 1649.4901766\ttotal: 4.31s\tremaining: 1.48s\n",
      "745:\tlearn: 1649.1846147\ttotal: 4.32s\tremaining: 1.47s\n",
      "746:\tlearn: 1649.0214520\ttotal: 4.32s\tremaining: 1.46s\n",
      "747:\tlearn: 1648.9088292\ttotal: 4.33s\tremaining: 1.46s\n",
      "748:\tlearn: 1648.7416090\ttotal: 4.33s\tremaining: 1.45s\n",
      "749:\tlearn: 1648.6173811\ttotal: 4.34s\tremaining: 1.45s\n",
      "750:\tlearn: 1648.4760284\ttotal: 4.34s\tremaining: 1.44s\n",
      "751:\tlearn: 1648.4023284\ttotal: 4.35s\tremaining: 1.43s\n",
      "752:\tlearn: 1648.2257270\ttotal: 4.36s\tremaining: 1.43s\n",
      "753:\tlearn: 1648.1109347\ttotal: 4.36s\tremaining: 1.42s\n",
      "754:\tlearn: 1647.9830695\ttotal: 4.37s\tremaining: 1.42s\n",
      "755:\tlearn: 1647.8396567\ttotal: 4.37s\tremaining: 1.41s\n",
      "756:\tlearn: 1647.6507575\ttotal: 4.38s\tremaining: 1.41s\n",
      "757:\tlearn: 1647.4912842\ttotal: 4.39s\tremaining: 1.4s\n",
      "758:\tlearn: 1647.3766513\ttotal: 4.39s\tremaining: 1.39s\n",
      "759:\tlearn: 1647.2837149\ttotal: 4.4s\tremaining: 1.39s\n",
      "760:\tlearn: 1647.2201307\ttotal: 4.4s\tremaining: 1.38s\n",
      "761:\tlearn: 1647.1620551\ttotal: 4.41s\tremaining: 1.38s\n",
      "762:\tlearn: 1647.0835118\ttotal: 4.41s\tremaining: 1.37s\n",
      "763:\tlearn: 1646.9823184\ttotal: 4.42s\tremaining: 1.36s\n",
      "764:\tlearn: 1646.8786757\ttotal: 4.42s\tremaining: 1.36s\n",
      "765:\tlearn: 1646.7795513\ttotal: 4.43s\tremaining: 1.35s\n",
      "766:\tlearn: 1646.6610565\ttotal: 4.44s\tremaining: 1.35s\n",
      "767:\tlearn: 1646.5736342\ttotal: 4.44s\tremaining: 1.34s\n",
      "768:\tlearn: 1646.3442258\ttotal: 4.45s\tremaining: 1.34s\n",
      "769:\tlearn: 1646.2165610\ttotal: 4.45s\tremaining: 1.33s\n",
      "770:\tlearn: 1646.1497431\ttotal: 4.46s\tremaining: 1.32s\n",
      "771:\tlearn: 1645.9950797\ttotal: 4.46s\tremaining: 1.32s\n",
      "772:\tlearn: 1645.9354842\ttotal: 4.47s\tremaining: 1.31s\n",
      "773:\tlearn: 1645.8527854\ttotal: 4.48s\tremaining: 1.31s\n",
      "774:\tlearn: 1645.6502886\ttotal: 4.48s\tremaining: 1.3s\n",
      "775:\tlearn: 1645.4921108\ttotal: 4.49s\tremaining: 1.29s\n",
      "776:\tlearn: 1645.3791569\ttotal: 4.49s\tremaining: 1.29s\n",
      "777:\tlearn: 1645.1968307\ttotal: 4.5s\tremaining: 1.28s\n",
      "778:\tlearn: 1645.1449929\ttotal: 4.5s\tremaining: 1.28s\n",
      "779:\tlearn: 1645.0576430\ttotal: 4.51s\tremaining: 1.27s\n",
      "780:\tlearn: 1644.9736366\ttotal: 4.52s\tremaining: 1.27s\n",
      "781:\tlearn: 1644.7719354\ttotal: 4.52s\tremaining: 1.26s\n",
      "782:\tlearn: 1644.6581982\ttotal: 4.53s\tremaining: 1.25s\n",
      "783:\tlearn: 1644.5549134\ttotal: 4.54s\tremaining: 1.25s\n",
      "784:\tlearn: 1644.2807495\ttotal: 4.54s\tremaining: 1.24s\n",
      "785:\tlearn: 1644.2061315\ttotal: 4.55s\tremaining: 1.24s\n",
      "786:\tlearn: 1644.1740770\ttotal: 4.55s\tremaining: 1.23s\n",
      "787:\tlearn: 1644.0384608\ttotal: 4.56s\tremaining: 1.23s\n",
      "788:\tlearn: 1643.8835670\ttotal: 4.56s\tremaining: 1.22s\n",
      "789:\tlearn: 1643.8315456\ttotal: 4.57s\tremaining: 1.21s\n",
      "790:\tlearn: 1643.7157488\ttotal: 4.58s\tremaining: 1.21s\n",
      "791:\tlearn: 1643.6403230\ttotal: 4.58s\tremaining: 1.2s\n",
      "792:\tlearn: 1643.5774523\ttotal: 4.59s\tremaining: 1.2s\n",
      "793:\tlearn: 1643.4856051\ttotal: 4.59s\tremaining: 1.19s\n",
      "794:\tlearn: 1643.2968117\ttotal: 4.6s\tremaining: 1.19s\n",
      "795:\tlearn: 1643.2378501\ttotal: 4.61s\tremaining: 1.18s\n",
      "796:\tlearn: 1643.1413465\ttotal: 4.61s\tremaining: 1.17s\n",
      "797:\tlearn: 1642.9637360\ttotal: 4.62s\tremaining: 1.17s\n",
      "798:\tlearn: 1642.8760198\ttotal: 4.62s\tremaining: 1.16s\n",
      "799:\tlearn: 1642.7861751\ttotal: 4.63s\tremaining: 1.16s\n",
      "800:\tlearn: 1642.7194455\ttotal: 4.63s\tremaining: 1.15s\n",
      "801:\tlearn: 1642.5759421\ttotal: 4.64s\tremaining: 1.15s\n",
      "802:\tlearn: 1642.4568138\ttotal: 4.65s\tremaining: 1.14s\n",
      "803:\tlearn: 1642.2953119\ttotal: 4.65s\tremaining: 1.13s\n",
      "804:\tlearn: 1642.2270031\ttotal: 4.66s\tremaining: 1.13s\n",
      "805:\tlearn: 1642.0885085\ttotal: 4.66s\tremaining: 1.12s\n",
      "806:\tlearn: 1642.0028284\ttotal: 4.67s\tremaining: 1.12s\n",
      "807:\tlearn: 1641.8737676\ttotal: 4.67s\tremaining: 1.11s\n",
      "808:\tlearn: 1641.7165327\ttotal: 4.68s\tremaining: 1.1s\n",
      "809:\tlearn: 1641.4753039\ttotal: 4.69s\tremaining: 1.1s\n",
      "810:\tlearn: 1641.3707544\ttotal: 4.69s\tremaining: 1.09s\n",
      "811:\tlearn: 1641.1771045\ttotal: 4.7s\tremaining: 1.09s\n",
      "812:\tlearn: 1641.0769075\ttotal: 4.7s\tremaining: 1.08s\n",
      "813:\tlearn: 1640.9832437\ttotal: 4.71s\tremaining: 1.07s\n",
      "814:\tlearn: 1640.8897886\ttotal: 4.71s\tremaining: 1.07s\n",
      "815:\tlearn: 1640.7374653\ttotal: 4.72s\tremaining: 1.06s\n",
      "816:\tlearn: 1640.5739500\ttotal: 4.72s\tremaining: 1.06s\n",
      "817:\tlearn: 1640.4428317\ttotal: 4.73s\tremaining: 1.05s\n",
      "818:\tlearn: 1640.3044065\ttotal: 4.74s\tremaining: 1.05s\n",
      "819:\tlearn: 1640.1629643\ttotal: 4.74s\tremaining: 1.04s\n",
      "820:\tlearn: 1640.0749142\ttotal: 4.75s\tremaining: 1.03s\n",
      "821:\tlearn: 1640.0033745\ttotal: 4.75s\tremaining: 1.03s\n",
      "822:\tlearn: 1639.8404907\ttotal: 4.76s\tremaining: 1.02s\n",
      "823:\tlearn: 1639.6629814\ttotal: 4.76s\tremaining: 1.02s\n",
      "824:\tlearn: 1639.5878342\ttotal: 4.77s\tremaining: 1.01s\n",
      "825:\tlearn: 1639.4216472\ttotal: 4.78s\tremaining: 1.01s\n",
      "826:\tlearn: 1639.2786118\ttotal: 4.78s\tremaining: 1s\n",
      "827:\tlearn: 1639.1312268\ttotal: 4.79s\tremaining: 995ms\n",
      "828:\tlearn: 1639.0421437\ttotal: 4.79s\tremaining: 989ms\n",
      "829:\tlearn: 1638.8929122\ttotal: 4.8s\tremaining: 983ms\n",
      "830:\tlearn: 1638.7435343\ttotal: 4.8s\tremaining: 977ms\n",
      "831:\tlearn: 1638.6939962\ttotal: 4.81s\tremaining: 971ms\n",
      "832:\tlearn: 1638.6547437\ttotal: 4.82s\tremaining: 966ms\n",
      "833:\tlearn: 1638.4691773\ttotal: 4.82s\tremaining: 960ms\n",
      "834:\tlearn: 1638.1121661\ttotal: 4.83s\tremaining: 954ms\n",
      "835:\tlearn: 1637.9976482\ttotal: 4.83s\tremaining: 948ms\n",
      "836:\tlearn: 1637.8970629\ttotal: 4.84s\tremaining: 942ms\n",
      "837:\tlearn: 1637.7627892\ttotal: 4.84s\tremaining: 936ms\n",
      "838:\tlearn: 1637.6288372\ttotal: 4.85s\tremaining: 931ms\n",
      "839:\tlearn: 1637.4881954\ttotal: 4.86s\tremaining: 925ms\n",
      "840:\tlearn: 1637.3012672\ttotal: 4.86s\tremaining: 919ms\n",
      "841:\tlearn: 1637.1866721\ttotal: 4.87s\tremaining: 913ms\n",
      "842:\tlearn: 1637.0965420\ttotal: 4.87s\tremaining: 907ms\n",
      "843:\tlearn: 1637.0079687\ttotal: 4.88s\tremaining: 902ms\n",
      "844:\tlearn: 1636.9111877\ttotal: 4.88s\tremaining: 896ms\n",
      "845:\tlearn: 1636.6875681\ttotal: 4.89s\tremaining: 890ms\n",
      "846:\tlearn: 1636.5366960\ttotal: 4.89s\tremaining: 884ms\n",
      "847:\tlearn: 1636.4189539\ttotal: 4.9s\tremaining: 878ms\n",
      "848:\tlearn: 1636.3486091\ttotal: 4.9s\tremaining: 872ms\n",
      "849:\tlearn: 1636.2452236\ttotal: 4.91s\tremaining: 867ms\n",
      "850:\tlearn: 1636.0790471\ttotal: 4.92s\tremaining: 861ms\n",
      "851:\tlearn: 1635.9588806\ttotal: 4.92s\tremaining: 855ms\n",
      "852:\tlearn: 1635.8924022\ttotal: 4.93s\tremaining: 849ms\n",
      "853:\tlearn: 1635.7531923\ttotal: 4.93s\tremaining: 843ms\n",
      "854:\tlearn: 1635.6348215\ttotal: 4.94s\tremaining: 837ms\n",
      "855:\tlearn: 1635.5170575\ttotal: 4.94s\tremaining: 832ms\n",
      "856:\tlearn: 1635.3852762\ttotal: 4.95s\tremaining: 826ms\n",
      "857:\tlearn: 1635.2737509\ttotal: 4.95s\tremaining: 820ms\n",
      "858:\tlearn: 1635.1905550\ttotal: 4.96s\tremaining: 814ms\n",
      "859:\tlearn: 1635.0503823\ttotal: 4.97s\tremaining: 808ms\n",
      "860:\tlearn: 1634.9030647\ttotal: 4.97s\tremaining: 803ms\n",
      "861:\tlearn: 1634.8531413\ttotal: 4.98s\tremaining: 797ms\n",
      "862:\tlearn: 1634.6902718\ttotal: 4.98s\tremaining: 791ms\n",
      "863:\tlearn: 1634.5751259\ttotal: 4.99s\tremaining: 785ms\n",
      "864:\tlearn: 1634.4796490\ttotal: 5s\tremaining: 780ms\n",
      "865:\tlearn: 1634.3980441\ttotal: 5s\tremaining: 774ms\n",
      "866:\tlearn: 1634.2613997\ttotal: 5.01s\tremaining: 768ms\n",
      "867:\tlearn: 1634.1576828\ttotal: 5.01s\tremaining: 762ms\n",
      "868:\tlearn: 1634.0664573\ttotal: 5.02s\tremaining: 757ms\n",
      "869:\tlearn: 1633.9164581\ttotal: 5.02s\tremaining: 751ms\n",
      "870:\tlearn: 1633.7435054\ttotal: 5.03s\tremaining: 745ms\n",
      "871:\tlearn: 1633.6668152\ttotal: 5.04s\tremaining: 739ms\n",
      "872:\tlearn: 1633.5826997\ttotal: 5.04s\tremaining: 733ms\n",
      "873:\tlearn: 1633.5133858\ttotal: 5.05s\tremaining: 728ms\n",
      "874:\tlearn: 1633.3624794\ttotal: 5.05s\tremaining: 722ms\n",
      "875:\tlearn: 1633.2866848\ttotal: 5.06s\tremaining: 716ms\n",
      "876:\tlearn: 1633.1372161\ttotal: 5.07s\tremaining: 710ms\n",
      "877:\tlearn: 1633.0515568\ttotal: 5.07s\tremaining: 705ms\n",
      "878:\tlearn: 1632.8603893\ttotal: 5.08s\tremaining: 699ms\n",
      "879:\tlearn: 1632.6869888\ttotal: 5.08s\tremaining: 693ms\n",
      "880:\tlearn: 1632.5844257\ttotal: 5.09s\tremaining: 688ms\n",
      "881:\tlearn: 1632.4961983\ttotal: 5.09s\tremaining: 682ms\n",
      "882:\tlearn: 1632.4290865\ttotal: 5.1s\tremaining: 676ms\n",
      "883:\tlearn: 1632.3317217\ttotal: 5.11s\tremaining: 670ms\n",
      "884:\tlearn: 1632.2334409\ttotal: 5.11s\tremaining: 664ms\n",
      "885:\tlearn: 1632.1489408\ttotal: 5.12s\tremaining: 659ms\n",
      "886:\tlearn: 1632.0133114\ttotal: 5.12s\tremaining: 653ms\n",
      "887:\tlearn: 1631.8789537\ttotal: 5.13s\tremaining: 647ms\n",
      "888:\tlearn: 1631.7136870\ttotal: 5.14s\tremaining: 641ms\n",
      "889:\tlearn: 1631.6503557\ttotal: 5.14s\tremaining: 635ms\n",
      "890:\tlearn: 1631.4596191\ttotal: 5.15s\tremaining: 630ms\n",
      "891:\tlearn: 1631.4331248\ttotal: 5.15s\tremaining: 624ms\n",
      "892:\tlearn: 1631.3537054\ttotal: 5.16s\tremaining: 618ms\n",
      "893:\tlearn: 1631.2733186\ttotal: 5.16s\tremaining: 612ms\n",
      "894:\tlearn: 1631.2012547\ttotal: 5.17s\tremaining: 606ms\n",
      "895:\tlearn: 1631.0963226\ttotal: 5.17s\tremaining: 601ms\n",
      "896:\tlearn: 1630.9852531\ttotal: 5.18s\tremaining: 595ms\n",
      "897:\tlearn: 1630.8552749\ttotal: 5.19s\tremaining: 589ms\n",
      "898:\tlearn: 1630.7327977\ttotal: 5.19s\tremaining: 584ms\n",
      "899:\tlearn: 1630.6512017\ttotal: 5.2s\tremaining: 578ms\n",
      "900:\tlearn: 1630.4625896\ttotal: 5.21s\tremaining: 572ms\n",
      "901:\tlearn: 1630.3572532\ttotal: 5.21s\tremaining: 566ms\n",
      "902:\tlearn: 1630.2555771\ttotal: 5.22s\tremaining: 560ms\n",
      "903:\tlearn: 1630.1228728\ttotal: 5.22s\tremaining: 555ms\n",
      "904:\tlearn: 1629.9377154\ttotal: 5.23s\tremaining: 549ms\n",
      "905:\tlearn: 1629.9007533\ttotal: 5.23s\tremaining: 543ms\n",
      "906:\tlearn: 1629.7389968\ttotal: 5.24s\tremaining: 537ms\n",
      "907:\tlearn: 1629.6075220\ttotal: 5.25s\tremaining: 532ms\n",
      "908:\tlearn: 1629.5170268\ttotal: 5.25s\tremaining: 526ms\n",
      "909:\tlearn: 1629.2659389\ttotal: 5.26s\tremaining: 520ms\n",
      "910:\tlearn: 1629.1692326\ttotal: 5.26s\tremaining: 514ms\n",
      "911:\tlearn: 1629.0776368\ttotal: 5.27s\tremaining: 508ms\n",
      "912:\tlearn: 1628.9739156\ttotal: 5.27s\tremaining: 503ms\n",
      "913:\tlearn: 1628.8303431\ttotal: 5.28s\tremaining: 497ms\n",
      "914:\tlearn: 1628.7026087\ttotal: 5.29s\tremaining: 491ms\n",
      "915:\tlearn: 1628.6170057\ttotal: 5.29s\tremaining: 485ms\n",
      "916:\tlearn: 1628.4406911\ttotal: 5.3s\tremaining: 479ms\n",
      "917:\tlearn: 1628.2985127\ttotal: 5.3s\tremaining: 474ms\n",
      "918:\tlearn: 1628.2362748\ttotal: 5.31s\tremaining: 468ms\n",
      "919:\tlearn: 1628.1310546\ttotal: 5.31s\tremaining: 462ms\n",
      "920:\tlearn: 1628.0291705\ttotal: 5.32s\tremaining: 456ms\n",
      "921:\tlearn: 1627.8514979\ttotal: 5.32s\tremaining: 450ms\n",
      "922:\tlearn: 1627.7205289\ttotal: 5.33s\tremaining: 445ms\n",
      "923:\tlearn: 1627.6423632\ttotal: 5.33s\tremaining: 439ms\n",
      "924:\tlearn: 1627.5305712\ttotal: 5.34s\tremaining: 433ms\n",
      "925:\tlearn: 1627.3834873\ttotal: 5.35s\tremaining: 427ms\n",
      "926:\tlearn: 1627.2447701\ttotal: 5.35s\tremaining: 422ms\n",
      "927:\tlearn: 1627.1669270\ttotal: 5.36s\tremaining: 416ms\n",
      "928:\tlearn: 1627.0404254\ttotal: 5.36s\tremaining: 410ms\n",
      "929:\tlearn: 1626.8845862\ttotal: 5.37s\tremaining: 404ms\n",
      "930:\tlearn: 1626.7884547\ttotal: 5.38s\tremaining: 398ms\n",
      "931:\tlearn: 1626.7279680\ttotal: 5.38s\tremaining: 393ms\n",
      "932:\tlearn: 1626.6616914\ttotal: 5.39s\tremaining: 387ms\n",
      "933:\tlearn: 1626.6068970\ttotal: 5.39s\tremaining: 381ms\n",
      "934:\tlearn: 1626.4278662\ttotal: 5.4s\tremaining: 375ms\n",
      "935:\tlearn: 1626.2757210\ttotal: 5.4s\tremaining: 370ms\n",
      "936:\tlearn: 1626.1368775\ttotal: 5.41s\tremaining: 364ms\n",
      "937:\tlearn: 1626.0435095\ttotal: 5.42s\tremaining: 358ms\n",
      "938:\tlearn: 1625.9533960\ttotal: 5.42s\tremaining: 352ms\n",
      "939:\tlearn: 1625.8426333\ttotal: 5.43s\tremaining: 346ms\n",
      "940:\tlearn: 1625.7292272\ttotal: 5.43s\tremaining: 341ms\n",
      "941:\tlearn: 1625.6379124\ttotal: 5.44s\tremaining: 335ms\n",
      "942:\tlearn: 1625.4954972\ttotal: 5.45s\tremaining: 329ms\n",
      "943:\tlearn: 1625.4121656\ttotal: 5.45s\tremaining: 323ms\n",
      "944:\tlearn: 1625.3373919\ttotal: 5.46s\tremaining: 318ms\n",
      "945:\tlearn: 1625.1819477\ttotal: 5.46s\tremaining: 312ms\n",
      "946:\tlearn: 1625.0540922\ttotal: 5.47s\tremaining: 306ms\n",
      "947:\tlearn: 1624.9207202\ttotal: 5.47s\tremaining: 300ms\n",
      "948:\tlearn: 1624.8371257\ttotal: 5.48s\tremaining: 294ms\n",
      "949:\tlearn: 1624.7260576\ttotal: 5.48s\tremaining: 289ms\n",
      "950:\tlearn: 1624.6114660\ttotal: 5.49s\tremaining: 283ms\n",
      "951:\tlearn: 1624.4935166\ttotal: 5.5s\tremaining: 277ms\n",
      "952:\tlearn: 1624.4168989\ttotal: 5.5s\tremaining: 271ms\n",
      "953:\tlearn: 1624.3386868\ttotal: 5.51s\tremaining: 266ms\n",
      "954:\tlearn: 1624.2716665\ttotal: 5.51s\tremaining: 260ms\n",
      "955:\tlearn: 1624.1955848\ttotal: 5.52s\tremaining: 254ms\n",
      "956:\tlearn: 1624.0093195\ttotal: 5.52s\tremaining: 248ms\n",
      "957:\tlearn: 1623.8315540\ttotal: 5.53s\tremaining: 242ms\n",
      "958:\tlearn: 1623.7576774\ttotal: 5.53s\tremaining: 237ms\n",
      "959:\tlearn: 1623.6803039\ttotal: 5.54s\tremaining: 231ms\n",
      "960:\tlearn: 1623.5757991\ttotal: 5.54s\tremaining: 225ms\n",
      "961:\tlearn: 1623.4552820\ttotal: 5.55s\tremaining: 219ms\n",
      "962:\tlearn: 1623.3899224\ttotal: 5.56s\tremaining: 213ms\n",
      "963:\tlearn: 1623.2822290\ttotal: 5.56s\tremaining: 208ms\n",
      "964:\tlearn: 1623.1453314\ttotal: 5.57s\tremaining: 202ms\n",
      "965:\tlearn: 1623.0688186\ttotal: 5.57s\tremaining: 196ms\n",
      "966:\tlearn: 1622.9762010\ttotal: 5.58s\tremaining: 190ms\n",
      "967:\tlearn: 1622.8687620\ttotal: 5.58s\tremaining: 185ms\n",
      "968:\tlearn: 1622.7724498\ttotal: 5.59s\tremaining: 179ms\n",
      "969:\tlearn: 1622.5947559\ttotal: 5.59s\tremaining: 173ms\n",
      "970:\tlearn: 1622.5192812\ttotal: 5.6s\tremaining: 167ms\n",
      "971:\tlearn: 1622.4087990\ttotal: 5.61s\tremaining: 162ms\n",
      "972:\tlearn: 1622.2692225\ttotal: 5.61s\tremaining: 156ms\n",
      "973:\tlearn: 1622.2121021\ttotal: 5.62s\tremaining: 150ms\n",
      "974:\tlearn: 1622.1595682\ttotal: 5.62s\tremaining: 144ms\n",
      "975:\tlearn: 1622.0770759\ttotal: 5.63s\tremaining: 138ms\n",
      "976:\tlearn: 1621.9616749\ttotal: 5.63s\tremaining: 133ms\n",
      "977:\tlearn: 1621.7760797\ttotal: 5.64s\tremaining: 127ms\n",
      "978:\tlearn: 1621.6199938\ttotal: 5.65s\tremaining: 121ms\n",
      "979:\tlearn: 1621.4994627\ttotal: 5.65s\tremaining: 115ms\n",
      "980:\tlearn: 1621.3884873\ttotal: 5.66s\tremaining: 110ms\n",
      "981:\tlearn: 1621.3306800\ttotal: 5.66s\tremaining: 104ms\n",
      "982:\tlearn: 1621.2666452\ttotal: 5.67s\tremaining: 98ms\n",
      "983:\tlearn: 1621.2361234\ttotal: 5.67s\tremaining: 92.3ms\n",
      "984:\tlearn: 1621.1322565\ttotal: 5.68s\tremaining: 86.5ms\n",
      "985:\tlearn: 1621.0645815\ttotal: 5.68s\tremaining: 80.7ms\n",
      "986:\tlearn: 1620.9404233\ttotal: 5.69s\tremaining: 75ms\n",
      "987:\tlearn: 1620.8676584\ttotal: 5.7s\tremaining: 69.2ms\n",
      "988:\tlearn: 1620.7376055\ttotal: 5.7s\tremaining: 63.4ms\n",
      "989:\tlearn: 1620.6305692\ttotal: 5.71s\tremaining: 57.6ms\n",
      "990:\tlearn: 1620.5534695\ttotal: 5.71s\tremaining: 51.9ms\n",
      "991:\tlearn: 1620.4293495\ttotal: 5.72s\tremaining: 46.1ms\n",
      "992:\tlearn: 1620.3599413\ttotal: 5.72s\tremaining: 40.3ms\n",
      "993:\tlearn: 1620.2154995\ttotal: 5.73s\tremaining: 34.6ms\n",
      "994:\tlearn: 1620.1171783\ttotal: 5.74s\tremaining: 28.8ms\n",
      "995:\tlearn: 1620.0391297\ttotal: 5.74s\tremaining: 23.1ms\n",
      "996:\tlearn: 1619.9506532\ttotal: 5.75s\tremaining: 17.3ms\n",
      "997:\tlearn: 1619.8691902\ttotal: 5.75s\tremaining: 11.5ms\n",
      "998:\tlearn: 1619.8084151\ttotal: 5.76s\tremaining: 5.76ms\n",
      "999:\tlearn: 1619.7247606\ttotal: 5.76s\tremaining: 0us\n",
      "CPU times: total: 59.7 s\n",
      "Wall time: 6.06 s\n"
     ]
    },
    {
     "data": {
      "text/plain": [
       "<catboost.core.CatBoostRegressor at 0x2305e2d4ed0>"
      ]
     },
     "execution_count": 52,
     "metadata": {},
     "output_type": "execute_result"
    }
   ],
   "source": [
    "%%time\n",
    "\n",
    "model_cbr.fit(features_train, target_train)"
   ]
  },
  {
   "cell_type": "code",
   "execution_count": 53,
   "metadata": {},
   "outputs": [
    {
     "name": "stdout",
     "output_type": "stream",
     "text": [
      "RMSE 1715.7790220360362\n",
      "CPU times: total: 312 ms\n",
      "Wall time: 44.5 ms\n"
     ]
    }
   ],
   "source": [
    "%%time\n",
    "\n",
    "predicted_test = model_cbr.predict(features_test)\n",
    "rmse_test = mean_squared_error(target_test, predicted_test) ** 0.5\n",
    "print('RMSE', rmse_test,)"
   ]
  },
  {
   "cell_type": "markdown",
   "metadata": {},
   "source": [
    "### Глубокий вывод:\n",
    "CatBoostRegressor, показав результат на тестовой выборке **RMSE 1592**, **Время обучения (fit) 24.1 s**, **Время предсказания 129 ms**  — лучше всех! "
   ]
  }
 ],
 "metadata": {
  "ExecuteTimeLog": [
   {
    "duration": 4141,
    "start_time": "2022-12-07T03:26:39.335Z"
   },
   {
    "duration": 902,
    "start_time": "2022-12-07T03:26:48.690Z"
   },
   {
    "duration": 102,
    "start_time": "2022-12-07T03:27:01.180Z"
   },
   {
    "duration": 139,
    "start_time": "2022-12-07T03:27:06.974Z"
   },
   {
    "duration": 29,
    "start_time": "2022-12-07T03:27:35.182Z"
   },
   {
    "duration": 29,
    "start_time": "2022-12-07T03:28:09.319Z"
   },
   {
    "duration": 44,
    "start_time": "2022-12-07T03:28:22.672Z"
   },
   {
    "duration": 330,
    "start_time": "2022-12-07T03:28:54.947Z"
   },
   {
    "duration": 24,
    "start_time": "2022-12-07T03:29:00.090Z"
   },
   {
    "duration": 12,
    "start_time": "2022-12-07T03:29:03.805Z"
   },
   {
    "duration": 43,
    "start_time": "2022-12-07T03:29:15.957Z"
   },
   {
    "duration": 68,
    "start_time": "2022-12-07T03:29:26.218Z"
   },
   {
    "duration": 28,
    "start_time": "2022-12-07T03:29:30.531Z"
   },
   {
    "duration": 28,
    "start_time": "2022-12-07T03:30:17.175Z"
   },
   {
    "duration": 36,
    "start_time": "2022-12-07T03:30:21.494Z"
   },
   {
    "duration": 27,
    "start_time": "2022-12-07T03:30:22.028Z"
   },
   {
    "duration": 27,
    "start_time": "2022-12-07T03:30:22.583Z"
   },
   {
    "duration": 92,
    "start_time": "2022-12-07T03:30:25.265Z"
   },
   {
    "duration": 246,
    "start_time": "2022-12-07T03:31:12.366Z"
   },
   {
    "duration": 13,
    "start_time": "2022-12-07T03:31:16.428Z"
   },
   {
    "duration": 9,
    "start_time": "2022-12-07T03:31:16.896Z"
   },
   {
    "duration": 7,
    "start_time": "2022-12-07T03:31:21.579Z"
   },
   {
    "duration": 12,
    "start_time": "2022-12-07T03:31:38.037Z"
   },
   {
    "duration": 16,
    "start_time": "2022-12-07T03:31:39.430Z"
   },
   {
    "duration": 48,
    "start_time": "2022-12-07T03:31:42.639Z"
   },
   {
    "duration": 142,
    "start_time": "2022-12-07T03:32:09.061Z"
   },
   {
    "duration": 158,
    "start_time": "2022-12-07T03:32:11.000Z"
   },
   {
    "duration": 41,
    "start_time": "2022-12-07T03:32:31.804Z"
   },
   {
    "duration": 5,
    "start_time": "2022-12-07T03:33:09.194Z"
   },
   {
    "duration": 677,
    "start_time": "2022-12-07T03:34:15.616Z"
   },
   {
    "duration": 155,
    "start_time": "2022-12-07T03:34:41.075Z"
   },
   {
    "duration": 30,
    "start_time": "2022-12-07T03:35:01.993Z"
   },
   {
    "duration": 324,
    "start_time": "2022-12-07T03:35:39.879Z"
   },
   {
    "duration": 141,
    "start_time": "2022-12-07T03:35:57.323Z"
   },
   {
    "duration": 3,
    "start_time": "2022-12-07T03:36:45.913Z"
   },
   {
    "duration": 43,
    "start_time": "2022-12-07T09:22:59.263Z"
   },
   {
    "duration": 3807,
    "start_time": "2022-12-07T09:23:12.179Z"
   },
   {
    "duration": 3319,
    "start_time": "2022-12-07T09:23:16.659Z"
   },
   {
    "duration": 134,
    "start_time": "2022-12-07T09:23:22.114Z"
   },
   {
    "duration": 116,
    "start_time": "2022-12-07T09:23:23.979Z"
   },
   {
    "duration": 28,
    "start_time": "2022-12-07T09:23:26.418Z"
   },
   {
    "duration": 35,
    "start_time": "2022-12-07T09:23:28.209Z"
   },
   {
    "duration": 42,
    "start_time": "2022-12-07T09:23:29.282Z"
   },
   {
    "duration": 323,
    "start_time": "2022-12-07T09:23:31.794Z"
   },
   {
    "duration": 20,
    "start_time": "2022-12-07T09:23:34.450Z"
   },
   {
    "duration": 20,
    "start_time": "2022-12-07T09:23:35.810Z"
   },
   {
    "duration": 38,
    "start_time": "2022-12-07T09:23:37.161Z"
   },
   {
    "duration": 66,
    "start_time": "2022-12-07T09:23:39.188Z"
   },
   {
    "duration": 30,
    "start_time": "2022-12-07T09:23:39.409Z"
   },
   {
    "duration": 29,
    "start_time": "2022-12-07T09:23:39.873Z"
   },
   {
    "duration": 35,
    "start_time": "2022-12-07T09:23:41.371Z"
   },
   {
    "duration": 27,
    "start_time": "2022-12-07T09:23:41.665Z"
   },
   {
    "duration": 35,
    "start_time": "2022-12-07T09:23:41.921Z"
   },
   {
    "duration": 96,
    "start_time": "2022-12-07T09:23:42.745Z"
   },
   {
    "duration": 253,
    "start_time": "2022-12-07T09:23:44.882Z"
   },
   {
    "duration": 9,
    "start_time": "2022-12-07T09:23:46.402Z"
   },
   {
    "duration": 6,
    "start_time": "2022-12-07T09:23:47.146Z"
   },
   {
    "duration": 5,
    "start_time": "2022-12-07T09:23:49.410Z"
   },
   {
    "duration": 12,
    "start_time": "2022-12-07T09:23:50.041Z"
   },
   {
    "duration": 14,
    "start_time": "2022-12-07T09:23:50.281Z"
   },
   {
    "duration": 42,
    "start_time": "2022-12-07T09:23:52.042Z"
   },
   {
    "duration": 315,
    "start_time": "2022-12-07T09:23:52.858Z"
   },
   {
    "duration": 248,
    "start_time": "2022-12-07T09:24:40.370Z"
   },
   {
    "duration": 14,
    "start_time": "2022-12-07T09:33:13.101Z"
   },
   {
    "duration": 28,
    "start_time": "2022-12-07T09:34:22.564Z"
   },
   {
    "duration": 15,
    "start_time": "2022-12-07T09:34:25.972Z"
   },
   {
    "duration": 143,
    "start_time": "2022-12-07T09:56:24.737Z"
   },
   {
    "duration": 164,
    "start_time": "2022-12-07T09:56:26.649Z"
   },
   {
    "duration": 24,
    "start_time": "2022-12-07T09:56:27.969Z"
   },
   {
    "duration": 581,
    "start_time": "2022-12-07T09:56:31.568Z"
   },
   {
    "duration": 162,
    "start_time": "2022-12-07T09:56:32.225Z"
   },
   {
    "duration": 297,
    "start_time": "2022-12-07T09:56:34.489Z"
   },
   {
    "duration": 129,
    "start_time": "2022-12-07T09:56:37.601Z"
   },
   {
    "duration": 3,
    "start_time": "2022-12-07T09:56:47.699Z"
   },
   {
    "duration": 3372285,
    "start_time": "2022-12-07T09:58:00.370Z"
   },
   {
    "duration": 7620,
    "start_time": "2022-12-07T10:56:06.244Z"
   },
   {
    "duration": 3,
    "start_time": "2022-12-07T11:02:49.304Z"
   },
   {
    "duration": 27214,
    "start_time": "2022-12-07T11:03:22.536Z"
   },
   {
    "duration": 61,
    "start_time": "2022-12-07T11:06:29.304Z"
   },
   {
    "duration": 3,
    "start_time": "2022-12-07T11:08:40.638Z"
   },
   {
    "duration": 63,
    "start_time": "2022-12-07T11:09:48.822Z"
   },
   {
    "duration": 94,
    "start_time": "2022-12-07T11:11:15.781Z"
   },
   {
    "duration": 3,
    "start_time": "2022-12-07T11:11:43.381Z"
   },
   {
    "duration": 10,
    "start_time": "2022-12-07T11:16:30.954Z"
   },
   {
    "duration": 972202,
    "start_time": "2022-12-07T11:23:16.042Z"
   },
   {
    "duration": 4081,
    "start_time": "2022-12-07T15:14:48.306Z"
   },
   {
    "duration": 1180,
    "start_time": "2022-12-07T15:14:52.389Z"
   },
   {
    "duration": 117,
    "start_time": "2022-12-07T15:14:53.570Z"
   },
   {
    "duration": 141,
    "start_time": "2022-12-07T15:14:53.689Z"
   },
   {
    "duration": 35,
    "start_time": "2022-12-07T15:14:53.832Z"
   },
   {
    "duration": 52,
    "start_time": "2022-12-07T15:14:53.878Z"
   },
   {
    "duration": 48,
    "start_time": "2022-12-07T15:14:53.932Z"
   },
   {
    "duration": 365,
    "start_time": "2022-12-07T15:14:53.982Z"
   },
   {
    "duration": 32,
    "start_time": "2022-12-07T15:14:54.348Z"
   },
   {
    "duration": 13,
    "start_time": "2022-12-07T15:14:54.382Z"
   },
   {
    "duration": 44,
    "start_time": "2022-12-07T15:14:54.396Z"
   },
   {
    "duration": 90,
    "start_time": "2022-12-07T15:14:54.442Z"
   },
   {
    "duration": 33,
    "start_time": "2022-12-07T15:14:54.534Z"
   },
   {
    "duration": 30,
    "start_time": "2022-12-07T15:14:54.578Z"
   },
   {
    "duration": 63,
    "start_time": "2022-12-07T15:14:54.610Z"
   },
   {
    "duration": 30,
    "start_time": "2022-12-07T15:14:54.675Z"
   },
   {
    "duration": 33,
    "start_time": "2022-12-07T15:14:54.707Z"
   },
   {
    "duration": 120,
    "start_time": "2022-12-07T15:14:54.742Z"
   },
   {
    "duration": 289,
    "start_time": "2022-12-07T15:14:54.864Z"
   },
   {
    "duration": 21,
    "start_time": "2022-12-07T15:14:55.155Z"
   },
   {
    "duration": 7,
    "start_time": "2022-12-07T15:14:55.179Z"
   },
   {
    "duration": 10,
    "start_time": "2022-12-07T15:14:55.188Z"
   },
   {
    "duration": 19,
    "start_time": "2022-12-07T15:14:55.200Z"
   },
   {
    "duration": 16,
    "start_time": "2022-12-07T15:14:55.221Z"
   },
   {
    "duration": 164,
    "start_time": "2022-12-07T15:14:55.239Z"
   },
   {
    "duration": 291,
    "start_time": "2022-12-07T15:14:55.405Z"
   },
   {
    "duration": 33,
    "start_time": "2022-12-07T15:14:55.697Z"
   },
   {
    "duration": 17,
    "start_time": "2022-12-07T15:14:55.734Z"
   },
   {
    "duration": 194,
    "start_time": "2022-12-07T15:14:55.752Z"
   },
   {
    "duration": 187,
    "start_time": "2022-12-07T15:14:55.948Z"
   },
   {
    "duration": 29,
    "start_time": "2022-12-07T15:14:56.138Z"
   },
   {
    "duration": 21,
    "start_time": "2022-12-07T15:15:10.911Z"
   },
   {
    "duration": 5,
    "start_time": "2022-12-07T15:15:20.807Z"
   },
   {
    "duration": 52,
    "start_time": "2022-12-09T10:49:40.406Z"
   },
   {
    "duration": 3833,
    "start_time": "2022-12-09T12:46:02.230Z"
   },
   {
    "duration": 2834,
    "start_time": "2022-12-09T12:46:06.065Z"
   },
   {
    "duration": 118,
    "start_time": "2022-12-09T12:46:08.901Z"
   },
   {
    "duration": 112,
    "start_time": "2022-12-09T12:46:09.021Z"
   },
   {
    "duration": 31,
    "start_time": "2022-12-09T12:46:09.135Z"
   },
   {
    "duration": 33,
    "start_time": "2022-12-09T12:46:09.178Z"
   },
   {
    "duration": 53,
    "start_time": "2022-12-09T12:46:09.213Z"
   },
   {
    "duration": 334,
    "start_time": "2022-12-09T12:46:09.277Z"
   },
   {
    "duration": 22,
    "start_time": "2022-12-09T12:46:09.613Z"
   },
   {
    "duration": 11,
    "start_time": "2022-12-09T12:46:09.639Z"
   },
   {
    "duration": 64,
    "start_time": "2022-12-09T12:46:09.651Z"
   },
   {
    "duration": 67,
    "start_time": "2022-12-09T12:46:09.717Z"
   },
   {
    "duration": 28,
    "start_time": "2022-12-09T12:46:09.786Z"
   },
   {
    "duration": 30,
    "start_time": "2022-12-09T12:46:09.816Z"
   },
   {
    "duration": 55,
    "start_time": "2022-12-09T12:46:09.848Z"
   },
   {
    "duration": 31,
    "start_time": "2022-12-09T12:46:09.905Z"
   },
   {
    "duration": 45,
    "start_time": "2022-12-09T12:46:09.937Z"
   },
   {
    "duration": 101,
    "start_time": "2022-12-09T12:46:09.984Z"
   },
   {
    "duration": 259,
    "start_time": "2022-12-09T12:46:10.087Z"
   },
   {
    "duration": 9,
    "start_time": "2022-12-09T12:46:10.348Z"
   },
   {
    "duration": 20,
    "start_time": "2022-12-09T12:46:10.359Z"
   },
   {
    "duration": 9,
    "start_time": "2022-12-09T12:46:10.380Z"
   },
   {
    "duration": 17,
    "start_time": "2022-12-09T12:46:10.391Z"
   },
   {
    "duration": 15,
    "start_time": "2022-12-09T12:46:10.409Z"
   },
   {
    "duration": 155,
    "start_time": "2022-12-09T12:46:10.425Z"
   },
   {
    "duration": 265,
    "start_time": "2022-12-09T12:46:10.582Z"
   },
   {
    "duration": 29,
    "start_time": "2022-12-09T12:46:10.849Z"
   },
   {
    "duration": 15,
    "start_time": "2022-12-09T12:46:10.881Z"
   },
   {
    "duration": 128,
    "start_time": "2022-12-09T12:46:10.898Z"
   },
   {
    "duration": 147,
    "start_time": "2022-12-09T12:46:11.028Z"
   },
   {
    "duration": 24,
    "start_time": "2022-12-09T12:46:11.177Z"
   },
   {
    "duration": 543,
    "start_time": "2022-12-09T12:46:11.203Z"
   },
   {
    "duration": 157,
    "start_time": "2022-12-09T12:46:11.749Z"
   },
   {
    "duration": 301,
    "start_time": "2022-12-09T12:46:11.908Z"
   },
   {
    "duration": 137,
    "start_time": "2022-12-09T12:46:16.153Z"
   },
   {
    "duration": 280113,
    "start_time": "2022-12-09T12:46:22.696Z"
   },
   {
    "duration": 2617,
    "start_time": "2022-12-09T12:51:02.811Z"
   },
   {
    "duration": 4476,
    "start_time": "2022-12-10T10:08:00.055Z"
   },
   {
    "duration": 2972,
    "start_time": "2022-12-10T10:08:04.534Z"
   },
   {
    "duration": 150,
    "start_time": "2022-12-10T10:08:13.267Z"
   },
   {
    "duration": 105,
    "start_time": "2022-12-10T10:08:13.988Z"
   },
   {
    "duration": 40,
    "start_time": "2022-12-10T10:08:14.743Z"
   },
   {
    "duration": 39,
    "start_time": "2022-12-10T10:08:15.187Z"
   },
   {
    "duration": 64,
    "start_time": "2022-12-10T10:08:15.491Z"
   },
   {
    "duration": 370,
    "start_time": "2022-12-10T10:08:15.988Z"
   },
   {
    "duration": 26,
    "start_time": "2022-12-10T10:08:16.360Z"
   },
   {
    "duration": 14,
    "start_time": "2022-12-10T10:08:16.477Z"
   },
   {
    "duration": 48,
    "start_time": "2022-12-10T10:08:16.795Z"
   },
   {
    "duration": 87,
    "start_time": "2022-12-10T10:08:17.275Z"
   },
   {
    "duration": 37,
    "start_time": "2022-12-10T10:08:17.447Z"
   },
   {
    "duration": 38,
    "start_time": "2022-12-10T10:08:17.771Z"
   },
   {
    "duration": 49,
    "start_time": "2022-12-10T10:08:18.099Z"
   },
   {
    "duration": 35,
    "start_time": "2022-12-10T10:08:18.268Z"
   },
   {
    "duration": 36,
    "start_time": "2022-12-10T10:08:18.492Z"
   },
   {
    "duration": 126,
    "start_time": "2022-12-10T10:08:18.951Z"
   },
   {
    "duration": 327,
    "start_time": "2022-12-10T10:08:19.651Z"
   },
   {
    "duration": 11,
    "start_time": "2022-12-10T10:08:20.056Z"
   },
   {
    "duration": 8,
    "start_time": "2022-12-10T10:08:20.447Z"
   },
   {
    "duration": 6,
    "start_time": "2022-12-10T10:08:21.875Z"
   },
   {
    "duration": 13,
    "start_time": "2022-12-10T10:08:22.275Z"
   },
   {
    "duration": 20,
    "start_time": "2022-12-10T10:08:22.542Z"
   },
   {
    "duration": 50,
    "start_time": "2022-12-10T10:08:23.047Z"
   },
   {
    "duration": 371,
    "start_time": "2022-12-10T10:08:23.557Z"
   },
   {
    "duration": 25,
    "start_time": "2022-12-10T10:08:27.259Z"
   },
   {
    "duration": 16,
    "start_time": "2022-12-10T10:08:27.539Z"
   },
   {
    "duration": 137,
    "start_time": "2022-12-10T10:08:31.979Z"
   },
   {
    "duration": 156,
    "start_time": "2022-12-10T10:08:32.355Z"
   },
   {
    "duration": 30,
    "start_time": "2022-12-10T10:08:33.154Z"
   },
   {
    "duration": 520,
    "start_time": "2022-12-10T10:08:43.203Z"
   },
   {
    "duration": 159,
    "start_time": "2022-12-10T10:08:43.725Z"
   },
   {
    "duration": 315,
    "start_time": "2022-12-10T10:08:43.908Z"
   },
   {
    "duration": 137,
    "start_time": "2022-12-10T10:08:44.677Z"
   },
   {
    "duration": 3,
    "start_time": "2022-12-10T10:08:47.350Z"
   },
   {
    "duration": 187,
    "start_time": "2022-12-10T10:10:34.255Z"
   },
   {
    "duration": 2,
    "start_time": "2022-12-10T10:10:44.729Z"
   },
   {
    "duration": 298871,
    "start_time": "2022-12-10T10:10:45.204Z"
   },
   {
    "duration": 2670,
    "start_time": "2022-12-10T10:22:25.831Z"
   },
   {
    "duration": 3,
    "start_time": "2022-12-10T10:24:39.529Z"
   },
   {
    "duration": 81,
    "start_time": "2022-12-10T10:25:23.635Z"
   },
   {
    "duration": 4,
    "start_time": "2022-12-10T10:25:26.787Z"
   },
   {
    "duration": 24144,
    "start_time": "2022-12-10T10:25:27.492Z"
   },
   {
    "duration": 195,
    "start_time": "2022-12-10T10:27:13.547Z"
   },
   {
    "duration": 109,
    "start_time": "2022-12-10T10:27:48.928Z"
   },
   {
    "duration": 3,
    "start_time": "2022-12-10T10:28:27.427Z"
   },
   {
    "duration": 3,
    "start_time": "2022-12-10T10:29:39.524Z"
   },
   {
    "duration": 243034,
    "start_time": "2022-12-10T10:29:40.061Z"
   },
   {
    "duration": 713,
    "start_time": "2022-12-10T10:37:49.886Z"
   },
   {
    "duration": 12,
    "start_time": "2022-12-10T10:38:09.791Z"
   },
   {
    "duration": 15,
    "start_time": "2022-12-10T10:38:22.445Z"
   },
   {
    "duration": 21,
    "start_time": "2022-12-10T10:38:29.935Z"
   },
   {
    "duration": 12,
    "start_time": "2022-12-10T10:39:04.435Z"
   },
   {
    "duration": 3,
    "start_time": "2022-12-10T10:39:20.235Z"
   },
   {
    "duration": 5,
    "start_time": "2022-12-10T10:39:24.101Z"
   },
   {
    "duration": 4,
    "start_time": "2022-12-10T10:39:28.805Z"
   },
   {
    "duration": 3,
    "start_time": "2022-12-10T10:39:34.885Z"
   },
   {
    "duration": 20,
    "start_time": "2022-12-10T10:39:40.643Z"
   },
   {
    "duration": 127,
    "start_time": "2022-12-10T11:08:54.351Z"
   },
   {
    "duration": 24070,
    "start_time": "2022-12-10T11:09:10.535Z"
   },
   {
    "duration": 151,
    "start_time": "2022-12-10T11:10:19.638Z"
   },
   {
    "duration": 105,
    "start_time": "2022-12-10T11:10:40.946Z"
   },
   {
    "duration": 135,
    "start_time": "2022-12-10T11:11:00.302Z"
   }
  ],
  "kernelspec": {
   "display_name": "Python 3 (ipykernel)",
   "language": "python",
   "name": "python3"
  },
  "language_info": {
   "codemirror_mode": {
    "name": "ipython",
    "version": 3
   },
   "file_extension": ".py",
   "mimetype": "text/x-python",
   "name": "python",
   "nbconvert_exporter": "python",
   "pygments_lexer": "ipython3",
   "version": "3.11.7"
  },
  "toc": {
   "base_numbering": 1,
   "nav_menu": {},
   "number_sections": true,
   "sideBar": true,
   "skip_h1_title": true,
   "title_cell": "Table of Contents",
   "title_sidebar": "Contents",
   "toc_cell": false,
   "toc_position": {
    "height": "calc(100% - 180px)",
    "left": "10px",
    "top": "150px",
    "width": "310.646px"
   },
   "toc_section_display": true,
   "toc_window_display": true
  }
 },
 "nbformat": 4,
 "nbformat_minor": 4
}
