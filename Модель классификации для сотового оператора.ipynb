{
 "cells": [
  {
   "cell_type": "markdown",
   "metadata": {},
   "source": [
    "## Описание проекта\n",
    "Оператор мобильной связи «Мегалайн» выяснил: многие клиенты пользуются архивными тарифами. Они хотят построить систему, способную проанализировать поведение клиентов и предложить пользователям новый тариф: «Смарт» или «Ультра».  \n",
    "    В вашем распоряжении данные о поведении клиентов, которые уже перешли на эти тарифы (из проекта курса «Статистический анализ данных»). Нужно построить модель для задачи классификации, которая выберет подходящий тариф. Предобработка данных не понадобится — вы её уже сделали.  \n",
    "    Постройте модель с максимально большим значением accuracy. Чтобы сдать проект успешно, нужно довести долю правильных ответов по крайней мере до 0.75. Проверьте accuracy на тестовой выборке самостоятельно."
   ]
  },
  {
   "cell_type": "markdown",
   "metadata": {},
   "source": [
    "### Описание данных\n",
    "Каждый объект в наборе данных — это информация о поведении одного пользователя за месяц. Известно:\n",
    "*  сalls — количество звонков,\n",
    "*  minutes — суммарная длительность звонков в минутах,\n",
    "*  messages — количество sms-сообщений,\n",
    "*  mb_used — израсходованный интернет-трафик в Мб,\n",
    "*  is_ultra — каким тарифом пользовался в течение месяца («Ультра» — 1, «Смарт» — 0)."
   ]
  },
  {
   "cell_type": "markdown",
   "metadata": {},
   "source": [
    "## Шаг 1. Откроем файл с данными"
   ]
  },
  {
   "cell_type": "code",
   "execution_count": 1,
   "metadata": {},
   "outputs": [],
   "source": [
    "import pandas as pd\n",
    "import matplotlib.pyplot as plt\n",
    "import numpy as np\n",
    "from tqdm import tqdm\n",
    "from sklearn.model_selection import train_test_split\n",
    "from sklearn.svm import SVC\n",
    "from sklearn.neighbors import KNeighborsClassifier\n",
    "from sklearn.tree import DecisionTreeClassifier \n",
    "from sklearn.ensemble import RandomForestClassifier\n",
    "from sklearn.linear_model import LogisticRegression\n",
    "from sklearn.metrics import accuracy_score\n",
    "from sklearn.metrics import precision_score\n",
    "from sklearn.metrics import recall_score\n",
    "from sklearn.metrics import f1_score\n",
    "from tqdm import tqdm\n",
    "import warnings\n",
    "warnings.filterwarnings('ignore')"
   ]
  },
  {
   "cell_type": "code",
   "execution_count": 3,
   "metadata": {},
   "outputs": [
    {
     "name": "stdout",
     "output_type": "stream",
     "text": [
      "<class 'pandas.core.frame.DataFrame'>\n",
      "RangeIndex: 3214 entries, 0 to 3213\n",
      "Data columns (total 5 columns):\n",
      " #   Column    Non-Null Count  Dtype  \n",
      "---  ------    --------------  -----  \n",
      " 0   calls     3214 non-null   float64\n",
      " 1   minutes   3214 non-null   float64\n",
      " 2   messages  3214 non-null   float64\n",
      " 3   mb_used   3214 non-null   float64\n",
      " 4   is_ultra  3214 non-null   int64  \n",
      "dtypes: float64(4), int64(1)\n",
      "memory usage: 125.7 KB\n"
     ]
    }
   ],
   "source": [
    "try:\n",
    "    users_behavior = pd.read_csv('D:/Users/Иван/Downloads/Модель классификации для сотового оператора/users_behavior.csv')\n",
    "except:\n",
    "    users_behavior = pd.read_csv('/datasets/users_behavior.csv')\n",
    "                                 \n",
    "users_behavior.info()                              "
   ]
  },
  {
   "cell_type": "code",
   "execution_count": 3,
   "metadata": {},
   "outputs": [
    {
     "data": {
      "text/html": [
       "<div>\n",
       "<style scoped>\n",
       "    .dataframe tbody tr th:only-of-type {\n",
       "        vertical-align: middle;\n",
       "    }\n",
       "\n",
       "    .dataframe tbody tr th {\n",
       "        vertical-align: top;\n",
       "    }\n",
       "\n",
       "    .dataframe thead th {\n",
       "        text-align: right;\n",
       "    }\n",
       "</style>\n",
       "<table border=\"1\" class=\"dataframe\">\n",
       "  <thead>\n",
       "    <tr style=\"text-align: right;\">\n",
       "      <th></th>\n",
       "      <th>calls</th>\n",
       "      <th>minutes</th>\n",
       "      <th>messages</th>\n",
       "      <th>mb_used</th>\n",
       "      <th>is_ultra</th>\n",
       "    </tr>\n",
       "  </thead>\n",
       "  <tbody>\n",
       "    <tr>\n",
       "      <th>0</th>\n",
       "      <td>40.0</td>\n",
       "      <td>311.90</td>\n",
       "      <td>83.0</td>\n",
       "      <td>19915.42</td>\n",
       "      <td>0</td>\n",
       "    </tr>\n",
       "    <tr>\n",
       "      <th>1</th>\n",
       "      <td>85.0</td>\n",
       "      <td>516.75</td>\n",
       "      <td>56.0</td>\n",
       "      <td>22696.96</td>\n",
       "      <td>0</td>\n",
       "    </tr>\n",
       "    <tr>\n",
       "      <th>2</th>\n",
       "      <td>77.0</td>\n",
       "      <td>467.66</td>\n",
       "      <td>86.0</td>\n",
       "      <td>21060.45</td>\n",
       "      <td>0</td>\n",
       "    </tr>\n",
       "    <tr>\n",
       "      <th>3</th>\n",
       "      <td>106.0</td>\n",
       "      <td>745.53</td>\n",
       "      <td>81.0</td>\n",
       "      <td>8437.39</td>\n",
       "      <td>1</td>\n",
       "    </tr>\n",
       "    <tr>\n",
       "      <th>4</th>\n",
       "      <td>66.0</td>\n",
       "      <td>418.74</td>\n",
       "      <td>1.0</td>\n",
       "      <td>14502.75</td>\n",
       "      <td>0</td>\n",
       "    </tr>\n",
       "  </tbody>\n",
       "</table>\n",
       "</div>"
      ],
      "text/plain": [
       "   calls  minutes  messages   mb_used  is_ultra\n",
       "0   40.0   311.90      83.0  19915.42         0\n",
       "1   85.0   516.75      56.0  22696.96         0\n",
       "2   77.0   467.66      86.0  21060.45         0\n",
       "3  106.0   745.53      81.0   8437.39         1\n",
       "4   66.0   418.74       1.0  14502.75         0"
      ]
     },
     "execution_count": 3,
     "metadata": {},
     "output_type": "execute_result"
    }
   ],
   "source": [
    "users_behavior.head()"
   ]
  },
  {
   "cell_type": "markdown",
   "metadata": {},
   "source": [
    "Видно, что предобработка данных уже выполнена, пропусков нет, все данные в нужном формате. Целевым признаком, согласно описанию, будет столбец is_ultra. Остальные признаки помогут нам предсказывать решение по столбцу is_ultra."
   ]
  },
  {
   "cell_type": "markdown",
   "metadata": {},
   "source": [
    "## Шаг 2. Рaзобьем данные на выборки:"
   ]
  },
  {
   "cell_type": "markdown",
   "metadata": {},
   "source": [
    "Так как отдельной таблицы для тестирования не предоставлено, разбивать данные **train / valid / test** будем согласно теории на  **60%, 20% и 20%**. Также проверим сбалансированность целевого признака в **target**."
   ]
  },
  {
   "cell_type": "code",
   "execution_count": 4,
   "metadata": {},
   "outputs": [
    {
     "data": {
      "text/plain": [
       "is_ultra\n",
       "0    2229\n",
       "1     985\n",
       "Name: count, dtype: int64"
      ]
     },
     "execution_count": 4,
     "metadata": {},
     "output_type": "execute_result"
    }
   ],
   "source": [
    "features = users_behavior.drop(['is_ultra'], axis=1)\n",
    "target = users_behavior['is_ultra']\n",
    "target.value_counts()"
   ]
  },
  {
   "cell_type": "markdown",
   "metadata": {},
   "source": [
    "При помощи функции **value_counts()** стало понятно, что есть дисбаланс. Его мы подправим в **train_test_split** при помощи гиперпараметра **stratify**:"
   ]
  },
  {
   "cell_type": "code",
   "execution_count": 5,
   "metadata": {},
   "outputs": [
    {
     "name": "stdout",
     "output_type": "stream",
     "text": [
      "Размер тренериующей выборки 1928\n",
      "Распределение баланса тренериующей выборки is_ultra\n",
      "0    1337\n",
      "1     591\n",
      "Name: count, dtype: int64\n",
      "Размер валидационной выборки 643\n",
      "Распределение баланса валидационной выборки is_ultra\n",
      "0    446\n",
      "1    197\n",
      "Name: count, dtype: int64\n",
      "Размер тестовой выборки 643\n",
      "Распределение баланса тестовой выборки is_ultra\n",
      "0    446\n",
      "1    197\n",
      "Name: count, dtype: int64\n"
     ]
    }
   ],
   "source": [
    "features, features_test, target, target_test = train_test_split(\n",
    "    features, target, test_size=0.2, random_state=23042020, stratify=target)\n",
    "features_train, features_valid, target_train, target_valid = train_test_split(\n",
    "    features, target, train_size=0.75, random_state=23042020, stratify=target)\n",
    "\n",
    "print('Размер тренериующей выборки', features_train.shape[0])\n",
    "print('Распределение баланса тренериующей выборки', target_train.value_counts())\n",
    "print('Размер валидационной выборки', features_valid.shape[0])\n",
    "print('Распределение баланса валидационной выборки', target_valid.value_counts())\n",
    "print('Размер тестовой выборки', features_test.shape[0])\n",
    "print('Распределение баланса тестовой выборки', target_test.value_counts())"
   ]
  },
  {
   "cell_type": "markdown",
   "metadata": {},
   "source": [
    "Модель, которая на валидационной выборке покажет лучшие результаты, будет применена на данных **features_test**."
   ]
  },
  {
   "cell_type": "markdown",
   "metadata": {},
   "source": [
    "## Шаг 3. Исследуем модели:"
   ]
  },
  {
   "cell_type": "markdown",
   "metadata": {},
   "source": [
    "Исследуем качество разных моделей, меняя гиперпараметры. В качестве дополнительного параметра введём время выполнения рассчётов. Также для дальнейшей визуализации соберём информаци о результате каждого алгоритма. Начнём с **Decision Tree Classifier**:"
   ]
  },
  {
   "cell_type": "code",
   "execution_count": 6,
   "metadata": {},
   "outputs": [],
   "source": [
    "model_name = []\n",
    "best_results = []"
   ]
  },
  {
   "cell_type": "code",
   "execution_count": 7,
   "metadata": {
    "scrolled": true
   },
   "outputs": [
    {
     "name": "stdout",
     "output_type": "stream",
     "text": [
      "Лучшая глубина дерева 4 Лучшая точность 0.7916018662519441\n",
      "CPU times: total: 109 ms\n",
      "Wall time: 138 ms\n"
     ]
    }
   ],
   "source": [
    "%%time\n",
    "\n",
    "best_depth = 0\n",
    "best_accuracy = 0\n",
    "dtc = []\n",
    "tree_depth = []\n",
    "\n",
    "for depth in range(1, 23):\n",
    "    model = DecisionTreeClassifier(random_state=23042020, max_depth=depth)\n",
    "    model.fit(features_train, target_train)\n",
    "    valid_predictions = model.predict(features_valid)\n",
    "    accuracy = accuracy_score(target_valid, valid_predictions)\n",
    "    dtc.append(accuracy)\n",
    "    tree_depth.append(depth)\n",
    "    if accuracy > best_accuracy:\n",
    "        best_depth = depth\n",
    "        best_accuracy = accuracy\n",
    "\n",
    "print('Лучшая глубина дерева', best_depth,'Лучшая точность', best_accuracy)\n",
    "\n",
    "model_name.append('DecisionTreeClassifier')\n",
    "best_results.append(best_accuracy)"
   ]
  },
  {
   "cell_type": "code",
   "execution_count": 8,
   "metadata": {},
   "outputs": [
    {
     "data": {
      "image/png": "[encoded data removed]",
      "text/plain": [
       "<Figure size 2300x500 with 1 Axes>"
      ]
     },
     "metadata": {},
     "output_type": "display_data"
    }
   ],
   "source": [
    "dtc_plot = pd.DataFrame({\"accuracy\":dtc})\n",
    "# ax=dtc_plot.plot(kind='bar', figsize=(23, 2), rot=45)\n",
    "\n",
    "\n",
    "ax=dtc_plot.plot(figsize=(23, 5), rot=45)\n",
    "\n",
    "\n",
    "ax.get_legend().remove()\n",
    "plt.title('Зависимость accuracy от количества деревьев', size=18)\n",
    "plt.xlabel('Количество деревьев')\n",
    "plt.ylabel('Аccuracy')\n",
    "plt.show()"
   ]
  },
  {
   "cell_type": "code",
   "execution_count": 9,
   "metadata": {},
   "outputs": [
    {
     "data": {
      "text/html": [
       "<div>\n",
       "<style scoped>\n",
       "    .dataframe tbody tr th:only-of-type {\n",
       "        vertical-align: middle;\n",
       "    }\n",
       "\n",
       "    .dataframe tbody tr th {\n",
       "        vertical-align: top;\n",
       "    }\n",
       "\n",
       "    .dataframe thead th {\n",
       "        text-align: right;\n",
       "    }\n",
       "</style>\n",
       "<table border=\"1\" class=\"dataframe\">\n",
       "  <thead>\n",
       "    <tr style=\"text-align: right;\">\n",
       "      <th></th>\n",
       "      <th>accuracy</th>\n",
       "    </tr>\n",
       "  </thead>\n",
       "  <tbody>\n",
       "    <tr>\n",
       "      <th>0</th>\n",
       "      <td>0.758942</td>\n",
       "    </tr>\n",
       "    <tr>\n",
       "      <th>1</th>\n",
       "      <td>0.774495</td>\n",
       "    </tr>\n",
       "    <tr>\n",
       "      <th>2</th>\n",
       "      <td>0.790047</td>\n",
       "    </tr>\n",
       "    <tr>\n",
       "      <th>3</th>\n",
       "      <td>0.791602</td>\n",
       "    </tr>\n",
       "    <tr>\n",
       "      <th>4</th>\n",
       "      <td>0.791602</td>\n",
       "    </tr>\n",
       "    <tr>\n",
       "      <th>5</th>\n",
       "      <td>0.783826</td>\n",
       "    </tr>\n",
       "    <tr>\n",
       "      <th>6</th>\n",
       "      <td>0.777605</td>\n",
       "    </tr>\n",
       "    <tr>\n",
       "      <th>7</th>\n",
       "      <td>0.780715</td>\n",
       "    </tr>\n",
       "    <tr>\n",
       "      <th>8</th>\n",
       "      <td>0.783826</td>\n",
       "    </tr>\n",
       "    <tr>\n",
       "      <th>9</th>\n",
       "      <td>0.777605</td>\n",
       "    </tr>\n",
       "    <tr>\n",
       "      <th>10</th>\n",
       "      <td>0.780715</td>\n",
       "    </tr>\n",
       "    <tr>\n",
       "      <th>11</th>\n",
       "      <td>0.790047</td>\n",
       "    </tr>\n",
       "    <tr>\n",
       "      <th>12</th>\n",
       "      <td>0.780715</td>\n",
       "    </tr>\n",
       "    <tr>\n",
       "      <th>13</th>\n",
       "      <td>0.768274</td>\n",
       "    </tr>\n",
       "    <tr>\n",
       "      <th>14</th>\n",
       "      <td>0.762053</td>\n",
       "    </tr>\n",
       "    <tr>\n",
       "      <th>15</th>\n",
       "      <td>0.771384</td>\n",
       "    </tr>\n",
       "    <tr>\n",
       "      <th>16</th>\n",
       "      <td>0.768274</td>\n",
       "    </tr>\n",
       "    <tr>\n",
       "      <th>17</th>\n",
       "      <td>0.748056</td>\n",
       "    </tr>\n",
       "    <tr>\n",
       "      <th>18</th>\n",
       "      <td>0.754277</td>\n",
       "    </tr>\n",
       "    <tr>\n",
       "      <th>19</th>\n",
       "      <td>0.743390</td>\n",
       "    </tr>\n",
       "    <tr>\n",
       "      <th>20</th>\n",
       "      <td>0.743390</td>\n",
       "    </tr>\n",
       "    <tr>\n",
       "      <th>21</th>\n",
       "      <td>0.737170</td>\n",
       "    </tr>\n",
       "  </tbody>\n",
       "</table>\n",
       "</div>"
      ],
      "text/plain": [
       "    accuracy\n",
       "0   0.758942\n",
       "1   0.774495\n",
       "2   0.790047\n",
       "3   0.791602\n",
       "4   0.791602\n",
       "5   0.783826\n",
       "6   0.777605\n",
       "7   0.780715\n",
       "8   0.783826\n",
       "9   0.777605\n",
       "10  0.780715\n",
       "11  0.790047\n",
       "12  0.780715\n",
       "13  0.768274\n",
       "14  0.762053\n",
       "15  0.771384\n",
       "16  0.768274\n",
       "17  0.748056\n",
       "18  0.754277\n",
       "19  0.743390\n",
       "20  0.743390\n",
       "21  0.737170"
      ]
     },
     "execution_count": 9,
     "metadata": {},
     "output_type": "execute_result"
    }
   ],
   "source": [
    "dtc_plot"
   ]
  },
  {
   "cell_type": "markdown",
   "metadata": {},
   "source": [
    "Выяснили, что лучшая точность при глубине дерева 3."
   ]
  },
  {
   "cell_type": "markdown",
   "metadata": {},
   "source": [
    "**Random Forest Classifier:**"
   ]
  },
  {
   "cell_type": "code",
   "execution_count": 11,
   "metadata": {
    "scrolled": true
   },
   "outputs": [
    {
     "name": "stderr",
     "output_type": "stream",
     "text": [
      "100%|████████████████████████████████████████████████████████████████████████████████████| 2/2 [00:10<00:00,  5.13s/it]"
     ]
    },
    {
     "name": "stdout",
     "output_type": "stream",
     "text": [
      "Критерий: entropy Количество деревьев: 30 Глубина: 14 Результат: 0.8180404354587869\n"
     ]
    },
    {
     "name": "stderr",
     "output_type": "stream",
     "text": [
      "\n"
     ]
    }
   ],
   "source": [
    "best_criterion = None\n",
    "best_depth = 0\n",
    "best_accuracy = 0\n",
    "best_est = 0\n",
    "\n",
    "for crit in tqdm(['gini', 'entropy']):\n",
    "    for est in range(30,35):\n",
    "        for depth in range(5,15):\n",
    "            model = RandomForestClassifier(random_state=23042020, criterion=crit,\n",
    "                                    max_depth=depth, n_estimators=est)\n",
    "            model.fit(features_train, target_train)\n",
    "            predictions = model.predict(features_valid)\n",
    "            result = model.score(features_valid, target_valid)\n",
    "            if result > best_accuracy:\n",
    "                best_criterion = crit\n",
    "                best_depth = depth\n",
    "                best_accuracy = result\n",
    "                best_est = est\n",
    "print('Критерий:', best_criterion, 'Количество деревьев:', best_est, 'Глубина:',\n",
    "      best_depth, 'Результат:', best_accuracy)\n",
    "\n",
    "model_name.append('RandomForestClassifier')\n",
    "best_results.append(best_accuracy)"
   ]
  },
  {
   "cell_type": "markdown",
   "metadata": {},
   "source": [
    "Пробуем **GridSearchCV** для наилучшего подбора гиперпараметров **RandomForestClassifier**:"
   ]
  },
  {
   "cell_type": "code",
   "execution_count": 12,
   "metadata": {
    "scrolled": true
   },
   "outputs": [
    {
     "name": "stdout",
     "output_type": "stream",
     "text": [
      "CPU times: total: 10min\n",
      "Wall time: 10min 7s\n"
     ]
    },
    {
     "data": {
      "text/html": [
       "<style>#sk-container-id-1 {color: black;background-color: white;}#sk-container-id-1 pre{padding: 0;}#sk-container-id-1 div.sk-toggleable {background-color: white;}#sk-container-id-1 label.sk-toggleable__label {cursor: pointer;display: block;width: 100%;margin-bottom: 0;padding: 0.3em;box-sizing: border-box;text-align: center;}#sk-container-id-1 label.sk-toggleable__label-arrow:before {content: \"▸\";float: left;margin-right: 0.25em;color: #696969;}#sk-container-id-1 label.sk-toggleable__label-arrow:hover:before {color: black;}#sk-container-id-1 div.sk-estimator:hover label.sk-toggleable__label-arrow:before {color: black;}#sk-container-id-1 div.sk-toggleable__content {max-height: 0;max-width: 0;overflow: hidden;text-align: left;background-color: #f0f8ff;}#sk-container-id-1 div.sk-toggleable__content pre {margin: 0.2em;color: black;border-radius: 0.25em;background-color: #f0f8ff;}#sk-container-id-1 input.sk-toggleable__control:checked~div.sk-toggleable__content {max-height: 200px;max-width: 100%;overflow: auto;}#sk-container-id-1 input.sk-toggleable__control:checked~label.sk-toggleable__label-arrow:before {content: \"▾\";}#sk-container-id-1 div.sk-estimator input.sk-toggleable__control:checked~label.sk-toggleable__label {background-color: #d4ebff;}#sk-container-id-1 div.sk-label input.sk-toggleable__control:checked~label.sk-toggleable__label {background-color: #d4ebff;}#sk-container-id-1 input.sk-hidden--visually {border: 0;clip: rect(1px 1px 1px 1px);clip: rect(1px, 1px, 1px, 1px);height: 1px;margin: -1px;overflow: hidden;padding: 0;position: absolute;width: 1px;}#sk-container-id-1 div.sk-estimator {font-family: monospace;background-color: #f0f8ff;border: 1px dotted black;border-radius: 0.25em;box-sizing: border-box;margin-bottom: 0.5em;}#sk-container-id-1 div.sk-estimator:hover {background-color: #d4ebff;}#sk-container-id-1 div.sk-parallel-item::after {content: \"\";width: 100%;border-bottom: 1px solid gray;flex-grow: 1;}#sk-container-id-1 div.sk-label:hover label.sk-toggleable__label {background-color: #d4ebff;}#sk-container-id-1 div.sk-serial::before {content: \"\";position: absolute;border-left: 1px solid gray;box-sizing: border-box;top: 0;bottom: 0;left: 50%;z-index: 0;}#sk-container-id-1 div.sk-serial {display: flex;flex-direction: column;align-items: center;background-color: white;padding-right: 0.2em;padding-left: 0.2em;position: relative;}#sk-container-id-1 div.sk-item {position: relative;z-index: 1;}#sk-container-id-1 div.sk-parallel {display: flex;align-items: stretch;justify-content: center;background-color: white;position: relative;}#sk-container-id-1 div.sk-item::before, #sk-container-id-1 div.sk-parallel-item::before {content: \"\";position: absolute;border-left: 1px solid gray;box-sizing: border-box;top: 0;bottom: 0;left: 50%;z-index: -1;}#sk-container-id-1 div.sk-parallel-item {display: flex;flex-direction: column;z-index: 1;position: relative;background-color: white;}#sk-container-id-1 div.sk-parallel-item:first-child::after {align-self: flex-end;width: 50%;}#sk-container-id-1 div.sk-parallel-item:last-child::after {align-self: flex-start;width: 50%;}#sk-container-id-1 div.sk-parallel-item:only-child::after {width: 0;}#sk-container-id-1 div.sk-dashed-wrapped {border: 1px dashed gray;margin: 0 0.4em 0.5em 0.4em;box-sizing: border-box;padding-bottom: 0.4em;background-color: white;}#sk-container-id-1 div.sk-label label {font-family: monospace;font-weight: bold;display: inline-block;line-height: 1.2em;}#sk-container-id-1 div.sk-label-container {text-align: center;}#sk-container-id-1 div.sk-container {/* jupyter's `normalize.less` sets `[hidden] { display: none; }` but bootstrap.min.css set `[hidden] { display: none !important; }` so we also need the `!important` here to be able to override the default hidden behavior on the sphinx rendered scikit-learn.org. See: https://github.com/scikit-learn/scikit-learn/issues/21755 */display: inline-block !important;position: relative;}#sk-container-id-1 div.sk-text-repr-fallback {display: none;}</style><div id=\"sk-container-id-1\" class=\"sk-top-container\"><div class=\"sk-text-repr-fallback\"><pre>GridSearchCV(estimator=RandomForestClassifier(),\n",
       "             param_grid={&#x27;max_depth&#x27;: range(1, 15),\n",
       "                         &#x27;min_samples_leaf&#x27;: range(1, 8),\n",
       "                         &#x27;min_samples_split&#x27;: range(2, 10, 2),\n",
       "                         &#x27;n_estimators&#x27;: range(10, 51, 10)})</pre><b>In a Jupyter environment, please rerun this cell to show the HTML representation or trust the notebook. <br />On GitHub, the HTML representation is unable to render, please try loading this page with nbviewer.org.</b></div><div class=\"sk-container\" hidden><div class=\"sk-item sk-dashed-wrapped\"><div class=\"sk-label-container\"><div class=\"sk-label sk-toggleable\"><input class=\"sk-toggleable__control sk-hidden--visually\" id=\"sk-estimator-id-1\" type=\"checkbox\" ><label for=\"sk-estimator-id-1\" class=\"sk-toggleable__label sk-toggleable__label-arrow\">GridSearchCV</label><div class=\"sk-toggleable__content\"><pre>GridSearchCV(estimator=RandomForestClassifier(),\n",
       "             param_grid={&#x27;max_depth&#x27;: range(1, 15),\n",
       "                         &#x27;min_samples_leaf&#x27;: range(1, 8),\n",
       "                         &#x27;min_samples_split&#x27;: range(2, 10, 2),\n",
       "                         &#x27;n_estimators&#x27;: range(10, 51, 10)})</pre></div></div></div><div class=\"sk-parallel\"><div class=\"sk-parallel-item\"><div class=\"sk-item\"><div class=\"sk-label-container\"><div class=\"sk-label sk-toggleable\"><input class=\"sk-toggleable__control sk-hidden--visually\" id=\"sk-estimator-id-2\" type=\"checkbox\" ><label for=\"sk-estimator-id-2\" class=\"sk-toggleable__label sk-toggleable__label-arrow\">estimator: RandomForestClassifier</label><div class=\"sk-toggleable__content\"><pre>RandomForestClassifier()</pre></div></div></div><div class=\"sk-serial\"><div class=\"sk-item\"><div class=\"sk-estimator sk-toggleable\"><input class=\"sk-toggleable__control sk-hidden--visually\" id=\"sk-estimator-id-3\" type=\"checkbox\" ><label for=\"sk-estimator-id-3\" class=\"sk-toggleable__label sk-toggleable__label-arrow\">RandomForestClassifier</label><div class=\"sk-toggleable__content\"><pre>RandomForestClassifier()</pre></div></div></div></div></div></div></div></div></div></div>"
      ],
      "text/plain": [
       "GridSearchCV(estimator=RandomForestClassifier(),\n",
       "             param_grid={'max_depth': range(1, 15),\n",
       "                         'min_samples_leaf': range(1, 8),\n",
       "                         'min_samples_split': range(2, 10, 2),\n",
       "                         'n_estimators': range(10, 51, 10)})"
      ]
     },
     "execution_count": 12,
     "metadata": {},
     "output_type": "execute_result"
    }
   ],
   "source": [
    "%%time\n",
    "\n",
    "from sklearn.model_selection import GridSearchCV \n",
    "clf = RandomForestClassifier()\n",
    "parametrs = { 'n_estimators': range (10, 51, 10),\n",
    "              'max_depth': range (1,15, 1),\n",
    "              'min_samples_leaf': range (1,8),\n",
    "              'min_samples_split': range (2,10,2) }\n",
    "grid = GridSearchCV(clf, parametrs)\n",
    "grid.fit(features_train, target_train)"
   ]
  },
  {
   "cell_type": "markdown",
   "metadata": {},
   "source": [
    "Выводим наилучшее сочетание гиперпараметров:"
   ]
  },
  {
   "cell_type": "code",
   "execution_count": 13,
   "metadata": {},
   "outputs": [
    {
     "data": {
      "text/html": [
       "<style>#sk-container-id-2 {color: black;background-color: white;}#sk-container-id-2 pre{padding: 0;}#sk-container-id-2 div.sk-toggleable {background-color: white;}#sk-container-id-2 label.sk-toggleable__label {cursor: pointer;display: block;width: 100%;margin-bottom: 0;padding: 0.3em;box-sizing: border-box;text-align: center;}#sk-container-id-2 label.sk-toggleable__label-arrow:before {content: \"▸\";float: left;margin-right: 0.25em;color: #696969;}#sk-container-id-2 label.sk-toggleable__label-arrow:hover:before {color: black;}#sk-container-id-2 div.sk-estimator:hover label.sk-toggleable__label-arrow:before {color: black;}#sk-container-id-2 div.sk-toggleable__content {max-height: 0;max-width: 0;overflow: hidden;text-align: left;background-color: #f0f8ff;}#sk-container-id-2 div.sk-toggleable__content pre {margin: 0.2em;color: black;border-radius: 0.25em;background-color: #f0f8ff;}#sk-container-id-2 input.sk-toggleable__control:checked~div.sk-toggleable__content {max-height: 200px;max-width: 100%;overflow: auto;}#sk-container-id-2 input.sk-toggleable__control:checked~label.sk-toggleable__label-arrow:before {content: \"▾\";}#sk-container-id-2 div.sk-estimator input.sk-toggleable__control:checked~label.sk-toggleable__label {background-color: #d4ebff;}#sk-container-id-2 div.sk-label input.sk-toggleable__control:checked~label.sk-toggleable__label {background-color: #d4ebff;}#sk-container-id-2 input.sk-hidden--visually {border: 0;clip: rect(1px 1px 1px 1px);clip: rect(1px, 1px, 1px, 1px);height: 1px;margin: -1px;overflow: hidden;padding: 0;position: absolute;width: 1px;}#sk-container-id-2 div.sk-estimator {font-family: monospace;background-color: #f0f8ff;border: 1px dotted black;border-radius: 0.25em;box-sizing: border-box;margin-bottom: 0.5em;}#sk-container-id-2 div.sk-estimator:hover {background-color: #d4ebff;}#sk-container-id-2 div.sk-parallel-item::after {content: \"\";width: 100%;border-bottom: 1px solid gray;flex-grow: 1;}#sk-container-id-2 div.sk-label:hover label.sk-toggleable__label {background-color: #d4ebff;}#sk-container-id-2 div.sk-serial::before {content: \"\";position: absolute;border-left: 1px solid gray;box-sizing: border-box;top: 0;bottom: 0;left: 50%;z-index: 0;}#sk-container-id-2 div.sk-serial {display: flex;flex-direction: column;align-items: center;background-color: white;padding-right: 0.2em;padding-left: 0.2em;position: relative;}#sk-container-id-2 div.sk-item {position: relative;z-index: 1;}#sk-container-id-2 div.sk-parallel {display: flex;align-items: stretch;justify-content: center;background-color: white;position: relative;}#sk-container-id-2 div.sk-item::before, #sk-container-id-2 div.sk-parallel-item::before {content: \"\";position: absolute;border-left: 1px solid gray;box-sizing: border-box;top: 0;bottom: 0;left: 50%;z-index: -1;}#sk-container-id-2 div.sk-parallel-item {display: flex;flex-direction: column;z-index: 1;position: relative;background-color: white;}#sk-container-id-2 div.sk-parallel-item:first-child::after {align-self: flex-end;width: 50%;}#sk-container-id-2 div.sk-parallel-item:last-child::after {align-self: flex-start;width: 50%;}#sk-container-id-2 div.sk-parallel-item:only-child::after {width: 0;}#sk-container-id-2 div.sk-dashed-wrapped {border: 1px dashed gray;margin: 0 0.4em 0.5em 0.4em;box-sizing: border-box;padding-bottom: 0.4em;background-color: white;}#sk-container-id-2 div.sk-label label {font-family: monospace;font-weight: bold;display: inline-block;line-height: 1.2em;}#sk-container-id-2 div.sk-label-container {text-align: center;}#sk-container-id-2 div.sk-container {/* jupyter's `normalize.less` sets `[hidden] { display: none; }` but bootstrap.min.css set `[hidden] { display: none !important; }` so we also need the `!important` here to be able to override the default hidden behavior on the sphinx rendered scikit-learn.org. See: https://github.com/scikit-learn/scikit-learn/issues/21755 */display: inline-block !important;position: relative;}#sk-container-id-2 div.sk-text-repr-fallback {display: none;}</style><div id=\"sk-container-id-2\" class=\"sk-top-container\"><div class=\"sk-text-repr-fallback\"><pre>RandomForestClassifier(max_depth=8, min_samples_leaf=7, min_samples_split=6,\n",
       "                       n_estimators=30)</pre><b>In a Jupyter environment, please rerun this cell to show the HTML representation or trust the notebook. <br />On GitHub, the HTML representation is unable to render, please try loading this page with nbviewer.org.</b></div><div class=\"sk-container\" hidden><div class=\"sk-item\"><div class=\"sk-estimator sk-toggleable\"><input class=\"sk-toggleable__control sk-hidden--visually\" id=\"sk-estimator-id-4\" type=\"checkbox\" checked><label for=\"sk-estimator-id-4\" class=\"sk-toggleable__label sk-toggleable__label-arrow\">RandomForestClassifier</label><div class=\"sk-toggleable__content\"><pre>RandomForestClassifier(max_depth=8, min_samples_leaf=7, min_samples_split=6,\n",
       "                       n_estimators=30)</pre></div></div></div></div></div>"
      ],
      "text/plain": [
       "RandomForestClassifier(max_depth=8, min_samples_leaf=7, min_samples_split=6,\n",
       "                       n_estimators=30)"
      ]
     },
     "execution_count": 13,
     "metadata": {},
     "output_type": "execute_result"
    }
   ],
   "source": [
    "grid.best_estimator_"
   ]
  },
  {
   "cell_type": "markdown",
   "metadata": {},
   "source": [
    "Выводим лучшее **accuracy** при таком сочетании:"
   ]
  },
  {
   "cell_type": "code",
   "execution_count": 14,
   "metadata": {
    "scrolled": true
   },
   "outputs": [
    {
     "data": {
      "text/plain": [
       "0.821056456496871"
      ]
     },
     "execution_count": 14,
     "metadata": {},
     "output_type": "execute_result"
    }
   ],
   "source": [
    "grid.best_score_"
   ]
  },
  {
   "cell_type": "markdown",
   "metadata": {},
   "source": [
    "Повторяем эксперимент, уже вручную:"
   ]
  },
  {
   "cell_type": "code",
   "execution_count": 15,
   "metadata": {
    "scrolled": true
   },
   "outputs": [
    {
     "name": "stdout",
     "output_type": "stream",
     "text": [
      "0.7978227060653188\n"
     ]
    }
   ],
   "source": [
    "model = RandomForestClassifier(max_depth=12, min_samples_leaf=3, min_samples_split=4,\n",
    "                       n_estimators=50, criterion='entropy')\n",
    "model.fit(features_train, target_train)\n",
    "predictions = model.predict(features_valid)\n",
    "result = model.score(features_valid, target_valid)\n",
    "print(result)"
   ]
  },
  {
   "cell_type": "markdown",
   "metadata": {},
   "source": [
    "**Logistic Regression:**"
   ]
  },
  {
   "cell_type": "code",
   "execution_count": 16,
   "metadata": {
    "scrolled": true
   },
   "outputs": [
    {
     "name": "stdout",
     "output_type": "stream",
     "text": [
      "Лучшая количество итерраций 51 Лучшая точность 0.7511664074650077\n",
      "CPU times: total: 7.44 s\n",
      "Wall time: 1.3 s\n"
     ]
    }
   ],
   "source": [
    "%%time\n",
    "\n",
    "best_max_iter = 0\n",
    "best_accuracy = 0\n",
    "\n",
    "for max_iter in range(1,101, 2):\n",
    "    model = LogisticRegression(random_state=23042020, max_iter=max_iter, \n",
    "                              solver='newton-cg', penalty='l2')\n",
    "    model.fit(features_train, target_train)\n",
    "    valid_predictions = model.predict(features_valid)\n",
    "    accuracy = accuracy_score(target_valid, valid_predictions)\n",
    "    if accuracy > best_accuracy:\n",
    "        best_max_iter = max_iter\n",
    "        best_accuracy = accuracy\n",
    "\n",
    "print('Лучшая количество итерраций', best_max_iter,'Лучшая точность', best_accuracy)    \n",
    "\n",
    "model_name.append('LogisticRegression')\n",
    "best_results.append(best_accuracy)"
   ]
  },
  {
   "cell_type": "markdown",
   "metadata": {},
   "source": [
    "**SVC:**"
   ]
  },
  {
   "cell_type": "code",
   "execution_count": 17,
   "metadata": {},
   "outputs": [
    {
     "name": "stdout",
     "output_type": "stream",
     "text": [
      "Лучшая точность 0.7558320373250389\n",
      "CPU times: total: 125 ms\n",
      "Wall time: 133 ms\n"
     ]
    }
   ],
   "source": [
    "%%time\n",
    "\n",
    "model = SVC(random_state=23042020)\n",
    "model.fit(features_train, target_train)\n",
    "valid_predictions = model.predict(features_valid)\n",
    "best_accuracy = model.score(features_valid, target_valid)\n",
    "\n",
    "print('Лучшая точность', best_accuracy)\n",
    "\n",
    "model_name.append('SVC')\n",
    "best_results.append(best_accuracy)"
   ]
  },
  {
   "cell_type": "markdown",
   "metadata": {},
   "source": [
    "**KNeighbors Classifier:**"
   ]
  },
  {
   "cell_type": "code",
   "execution_count": 18,
   "metadata": {},
   "outputs": [
    {
     "name": "stdout",
     "output_type": "stream",
     "text": [
      "Cоседи: 13 результат: 0.7744945567651633\n",
      "CPU times: total: 203 ms\n",
      "Wall time: 199 ms\n"
     ]
    }
   ],
   "source": [
    "%%time\n",
    "\n",
    "best_neighbors = 0\n",
    "best_model = None\n",
    "best_accuracy = 0\n",
    "for neighbors in range(1, 15, 2):\n",
    "    model = KNeighborsClassifier(n_neighbors=neighbors)\n",
    "    model.fit(features_train, target_train)\n",
    "    predictions = model.predict(features_valid)\n",
    "    result = model.score(features_valid, target_valid)\n",
    "    if result > best_accuracy:\n",
    "        best_neighbors = neighbors\n",
    "        best_model = model\n",
    "        best_accuracy = result\n",
    "print('Cоседи:', best_neighbors, 'результат:', best_accuracy)\n",
    "\n",
    "model_name.append('KNeighborsClassifier')\n",
    "best_results.append(best_accuracy)"
   ]
  },
  {
   "cell_type": "markdown",
   "metadata": {},
   "source": [
    "Для наглядности построим упорядоченную гистограмму с точной информацией о каждом столбце:"
   ]
  },
  {
   "cell_type": "code",
   "execution_count": 19,
   "metadata": {},
   "outputs": [
    {
     "data": {
      "text/html": [
       "<div>\n",
       "<style scoped>\n",
       "    .dataframe tbody tr th:only-of-type {\n",
       "        vertical-align: middle;\n",
       "    }\n",
       "\n",
       "    .dataframe tbody tr th {\n",
       "        vertical-align: top;\n",
       "    }\n",
       "\n",
       "    .dataframe thead th {\n",
       "        text-align: right;\n",
       "    }\n",
       "</style>\n",
       "<table border=\"1\" class=\"dataframe\">\n",
       "  <thead>\n",
       "    <tr style=\"text-align: right;\">\n",
       "      <th></th>\n",
       "      <th>index</th>\n",
       "      <th>algorithm_name</th>\n",
       "      <th>accuracy</th>\n",
       "    </tr>\n",
       "  </thead>\n",
       "  <tbody>\n",
       "    <tr>\n",
       "      <th>0</th>\n",
       "      <td>3</td>\n",
       "      <td>LogisticRegression</td>\n",
       "      <td>0.751166</td>\n",
       "    </tr>\n",
       "    <tr>\n",
       "      <th>1</th>\n",
       "      <td>4</td>\n",
       "      <td>SVC</td>\n",
       "      <td>0.755832</td>\n",
       "    </tr>\n",
       "    <tr>\n",
       "      <th>2</th>\n",
       "      <td>5</td>\n",
       "      <td>KNeighborsClassifier</td>\n",
       "      <td>0.774495</td>\n",
       "    </tr>\n",
       "    <tr>\n",
       "      <th>3</th>\n",
       "      <td>0</td>\n",
       "      <td>DecisionTreeClassifier</td>\n",
       "      <td>0.791602</td>\n",
       "    </tr>\n",
       "    <tr>\n",
       "      <th>4</th>\n",
       "      <td>1</td>\n",
       "      <td>RandomForestClassifier</td>\n",
       "      <td>0.818040</td>\n",
       "    </tr>\n",
       "    <tr>\n",
       "      <th>5</th>\n",
       "      <td>2</td>\n",
       "      <td>RandomForestClassifier</td>\n",
       "      <td>0.818040</td>\n",
       "    </tr>\n",
       "  </tbody>\n",
       "</table>\n",
       "</div>"
      ],
      "text/plain": [
       "   index          algorithm_name  accuracy\n",
       "0      3      LogisticRegression  0.751166\n",
       "1      4                     SVC  0.755832\n",
       "2      5    KNeighborsClassifier  0.774495\n",
       "3      0  DecisionTreeClassifier  0.791602\n",
       "4      1  RandomForestClassifier  0.818040\n",
       "5      2  RandomForestClassifier  0.818040"
      ]
     },
     "execution_count": 19,
     "metadata": {},
     "output_type": "execute_result"
    }
   ],
   "source": [
    "top_models = pd.DataFrame({\"algorithm_name\":model_name, \"accuracy\":best_results})\n",
    "top_models.sort_values('accuracy', inplace=True)\n",
    "top_models.reset_index(inplace=True)\n",
    "top_models"
   ]
  },
  {
   "cell_type": "code",
   "execution_count": 20,
   "metadata": {},
   "outputs": [
    {
     "data": {
      "image/png": "[encoded data removed]",
      "text/plain": [
       "<Figure size 960x640 with 1 Axes>"
      ]
     },
     "metadata": {},
     "output_type": "display_data"
    }
   ],
   "source": [
    "# Draw plot\n",
    "import matplotlib.patches as patches\n",
    "\n",
    "fig, ax = plt.subplots(figsize=(12,8), facecolor='white', dpi= 80)\n",
    "ax.vlines(x=top_models.index, ymin=0, ymax=top_models.accuracy, color='firebrick', alpha=0.7, linewidth=20)\n",
    "\n",
    "# Annotate Text\n",
    "for i, accuracy in enumerate(top_models.accuracy):\n",
    "    ax.text(i, accuracy+0.01, round(accuracy, 3), horizontalalignment='center')\n",
    "\n",
    "\n",
    "# Title, Label, Ticks and Ylim\n",
    "ax.set_title('Гистрограмма точности алгоритмов', fontdict={'size':18})\n",
    "ax.set(ylabel='Уровень точности алгоритмов', ylim=(0, 1))\n",
    "plt.xticks(top_models.index, top_models.algorithm_name, rotation=60, horizontalalignment='right', fontsize=12)\n",
    "\n",
    "# Add patches to color the X axis labels\n",
    "p1 = patches.Rectangle((.423, -0.125), width=.480, height=.25, alpha=.1, facecolor='green', transform=fig.transFigure)\n",
    "p2 = patches.Rectangle((.124, -0.125), width=.300, height=.25, alpha=.1, facecolor='red', transform=fig.transFigure)\n",
    "fig.add_artist(p1)\n",
    "fig.add_artist(p2)\n",
    "plt.show()"
   ]
  },
  {
   "cell_type": "markdown",
   "metadata": {},
   "source": [
    "**Вывод:** Хуже всего себя показали логистическая регрессия и метод опорных векторов, на третьем месте сортировка по соседям, а победил случайный лес. В продакшн мы можем брать случайный лес с параметрами глубины 14 и количеством деревьев 30."
   ]
  },
  {
   "cell_type": "markdown",
   "metadata": {},
   "source": [
    "## 4. Проверим две лучшие модели на тестовой выборке:"
   ]
  },
  {
   "cell_type": "code",
   "execution_count": 21,
   "metadata": {},
   "outputs": [
    {
     "name": "stdout",
     "output_type": "stream",
     "text": [
      "CPU times: total: 109 ms\n",
      "Wall time: 123 ms\n"
     ]
    },
    {
     "data": {
      "text/plain": [
       "0.7947122861586314"
      ]
     },
     "execution_count": 21,
     "metadata": {},
     "output_type": "execute_result"
    }
   ],
   "source": [
    "%%time\n",
    "\n",
    "best_forest_model = RandomForestClassifier(random_state=23042020, criterion='gini',\n",
    "                               max_depth=14, n_estimators=30)\n",
    "best_forest_model.fit(features_train, target_train)\n",
    "predictions = best_forest_model.predict(features_test)\n",
    "accuracy = best_forest_model.score(features_test, target_test)\n",
    "accuracy"
   ]
  },
  {
   "cell_type": "markdown",
   "metadata": {},
   "source": [
    "**Выводы:**\n",
    "на тестовой выборке модель **DecisionTreeClassifier** показала себя довольно хорошо.\n"
   ]
  },
  {
   "cell_type": "markdown",
   "metadata": {},
   "source": [
    "## 5. Проверим модель на адекватность:"
   ]
  },
  {
   "cell_type": "markdown",
   "metadata": {},
   "source": [
    "Существуют несколько способов проверки модели на адекватность:  \n",
    "Оценить адекватность модели можно используя несколько метрик:\n",
    "\n",
    "-  **accuracy** - точность совпадения прогнозов с правильными ответами.\n",
    "-  **precision** - отношение правильно предсказанных классов равных 1(TP) к сумме правильно предсказанных классов равных 1(TP) с неправльными предсказаниями, указанные как 1(FP).\n",
    "-  **recall** - отношение правильно предсказанных классов равных 1(TP) к сумме правильно предсказанных классов равных 1(TP) с неправльными предсказаниями, указанные как 0(FN)."
   ]
  },
  {
   "cell_type": "code",
   "execution_count": 22,
   "metadata": {},
   "outputs": [
    {
     "name": "stdout",
     "output_type": "stream",
     "text": [
      "Accuracy = 0.7869362363919129 Precision = 0.7083333333333334 Recall = 0.5177664974619289\n"
     ]
    }
   ],
   "source": [
    "model = RandomForestClassifier(random_state=23042020, criterion='gini',\n",
    "                               max_depth=10, n_estimators=31)\n",
    "model.fit(features_train, target_train)\n",
    "\n",
    "test_predictions = model.predict(features_test)\n",
    "accuracy = accuracy_score(target_test, test_predictions)\n",
    "precision = precision_score(target_test, test_predictions)\n",
    "recall = recall_score(target_test, test_predictions)\n",
    "print('Accuracy =', accuracy, 'Precision =', precision, 'Recall =', recall)"
   ]
  },
  {
   "cell_type": "markdown",
   "metadata": {},
   "source": [
    "Для оценки адеватности используется **F-мера** - среднее гармоническое между **precision** и **recall**. Если хотя бы один из параметров близок к нулю, то и **F-мера** стремится к 0. Если оба стремятся к 1, то **F-мера** тоже стремится к 1."
   ]
  },
  {
   "cell_type": "code",
   "execution_count": 23,
   "metadata": {},
   "outputs": [
    {
     "name": "stdout",
     "output_type": "stream",
     "text": [
      "F-мера = 0.5982404692082111\n"
     ]
    }
   ],
   "source": [
    "f_score = f1_score(target_test, test_predictions)\n",
    "print('F-мера =', f_score)"
   ]
  },
  {
   "cell_type": "markdown",
   "metadata": {},
   "source": [
    "Также при помощи DummyClassifier сделаем прогноз, который будет игнорировать входные функции:"
   ]
  },
  {
   "cell_type": "code",
   "execution_count": 24,
   "metadata": {},
   "outputs": [
    {
     "data": {
      "text/plain": [
       "0.6936236391912908"
      ]
     },
     "execution_count": 24,
     "metadata": {},
     "output_type": "execute_result"
    }
   ],
   "source": [
    "from sklearn.dummy import DummyClassifier\n",
    "\n",
    "dummy_clf = DummyClassifier()\n",
    "dummy_clf.fit(features_test, target_test)\n",
    "dummy_clf.predict(features_train)\n",
    "dummy_clf.score(features_test, target_test)"
   ]
  },
  {
   "cell_type": "markdown",
   "metadata": {},
   "source": [
    "**Вывод:** Модель **RandomForestClassifier** получилась хорошего качества, показав результаты значительно лучше простой \"угадайки\". И для таких задач она адекватна."
   ]
  },
  {
   "cell_type": "markdown",
   "metadata": {},
   "source": [
    "## Итоговый вывод:\n",
    "1. Изучен файл с данными.\n",
    "2. Разбиты данные на три выборки с учетом дисбаланса в таргете: обучающая, валидационная и тестовая.\n",
    "3. Исследованы три модели классификации: Решающее дерево, Случайный лес и Логистическая регрессия.\n",
    "4. Найдены оптимальные параметры для каждой модели и выбрана одна из них для обучения модели.\n",
    "5. Оценена точность обученной модели.\n",
    "6. Оценена адекватность модели.\n",
    "\n",
    "Для обучения модели было использована выборка в 2000 значений. Этого может быть недостаточно для повышения ключевых параметров модели классификатора. Увеличение в 10 или 100 увеличит accuracy, precision и recall, а также время обучения.\n",
    "\n",
    "Адекватность модели повышается с ростом количества значений."
   ]
  }
 ],
 "metadata": {
  "ExecuteTimeLog": [
   {
    "duration": 43,
    "start_time": "2022-05-28T06:23:14.373Z"
   },
   {
    "duration": 1177,
    "start_time": "2022-05-28T06:33:53.244Z"
   },
   {
    "duration": 36,
    "start_time": "2022-05-28T06:33:54.424Z"
   },
   {
    "duration": 11,
    "start_time": "2022-05-28T06:33:54.462Z"
   },
   {
    "duration": 9,
    "start_time": "2022-05-28T06:33:54.475Z"
   },
   {
    "duration": 4,
    "start_time": "2022-05-28T06:33:54.485Z"
   },
   {
    "duration": 37,
    "start_time": "2022-05-28T06:33:54.490Z"
   },
   {
    "duration": 10437,
    "start_time": "2022-05-28T06:33:54.529Z"
   },
   {
    "duration": 949,
    "start_time": "2022-05-28T06:34:04.968Z"
   },
   {
    "duration": 147,
    "start_time": "2022-05-28T06:34:05.920Z"
   },
   {
    "duration": 274,
    "start_time": "2022-05-28T06:34:06.069Z"
   },
   {
    "duration": 14,
    "start_time": "2022-05-28T06:34:06.345Z"
   },
   {
    "duration": 214,
    "start_time": "2022-05-28T06:34:06.361Z"
   },
   {
    "duration": 119,
    "start_time": "2022-05-28T06:34:06.577Z"
   },
   {
    "duration": 15,
    "start_time": "2022-05-28T06:34:06.698Z"
   },
   {
    "duration": 111,
    "start_time": "2022-05-28T06:34:06.727Z"
   },
   {
    "duration": 5,
    "start_time": "2022-05-28T06:34:06.839Z"
   },
   {
    "duration": 75,
    "start_time": "2022-05-28T14:01:26.925Z"
   },
   {
    "duration": 1555,
    "start_time": "2022-05-28T14:01:40.434Z"
   },
   {
    "duration": 80,
    "start_time": "2022-05-28T14:01:42.058Z"
   },
   {
    "duration": 13,
    "start_time": "2022-05-28T14:01:43.364Z"
   },
   {
    "duration": 17,
    "start_time": "2022-05-28T14:01:46.079Z"
   },
   {
    "duration": 31,
    "start_time": "2022-05-28T23:32:19.637Z"
   },
   {
    "duration": 51,
    "start_time": "2022-05-28T23:32:29.848Z"
   },
   {
    "duration": 8,
    "start_time": "2022-05-28T23:32:45.744Z"
   },
   {
    "duration": 1560,
    "start_time": "2022-05-28T23:33:02.449Z"
   },
   {
    "duration": 169,
    "start_time": "2022-05-28T23:33:04.011Z"
   },
   {
    "duration": 12,
    "start_time": "2022-05-28T23:33:04.182Z"
   },
   {
    "duration": 17,
    "start_time": "2022-05-28T23:33:04.196Z"
   },
   {
    "duration": 11,
    "start_time": "2022-05-28T23:33:04.214Z"
   },
   {
    "duration": 53,
    "start_time": "2022-05-28T23:33:04.227Z"
   },
   {
    "duration": 10586,
    "start_time": "2022-05-28T23:33:04.282Z"
   },
   {
    "duration": 483,
    "start_time": "2022-05-28T23:33:14.869Z"
   },
   {
    "duration": 143,
    "start_time": "2022-05-28T23:33:15.354Z"
   },
   {
    "duration": 242,
    "start_time": "2022-05-28T23:33:15.500Z"
   },
   {
    "duration": 9,
    "start_time": "2022-05-28T23:33:15.744Z"
   },
   {
    "duration": 185,
    "start_time": "2022-05-28T23:33:15.754Z"
   },
   {
    "duration": 110,
    "start_time": "2022-05-28T23:33:15.941Z"
   },
   {
    "duration": 13,
    "start_time": "2022-05-28T23:33:16.052Z"
   },
   {
    "duration": 115,
    "start_time": "2022-05-28T23:33:16.067Z"
   },
   {
    "duration": 5,
    "start_time": "2022-05-28T23:33:16.183Z"
   },
   {
    "duration": 6,
    "start_time": "2022-05-28T23:47:46.175Z"
   },
   {
    "duration": 13,
    "start_time": "2022-05-28T23:54:39.072Z"
   },
   {
    "duration": 98,
    "start_time": "2022-05-29T00:00:05.485Z"
   },
   {
    "duration": 13,
    "start_time": "2022-05-29T00:10:24.428Z"
   },
   {
    "duration": 80,
    "start_time": "2022-05-29T00:14:24.225Z"
   },
   {
    "duration": 77,
    "start_time": "2022-05-29T00:14:32.890Z"
   },
   {
    "duration": 88,
    "start_time": "2022-05-29T00:23:35.460Z"
   },
   {
    "duration": 35,
    "start_time": "2022-05-29T00:23:56.985Z"
   },
   {
    "duration": 44,
    "start_time": "2022-05-29T00:24:17.729Z"
   },
   {
    "duration": 27,
    "start_time": "2022-05-29T00:27:17.043Z"
   },
   {
    "duration": 34,
    "start_time": "2022-05-29T00:28:56.056Z"
   },
   {
    "duration": 1405,
    "start_time": "2022-05-29T18:34:29.703Z"
   },
   {
    "duration": 132,
    "start_time": "2022-05-29T18:34:31.110Z"
   },
   {
    "duration": 25,
    "start_time": "2022-05-29T18:34:31.244Z"
   },
   {
    "duration": 12,
    "start_time": "2022-05-29T18:34:31.272Z"
   },
   {
    "duration": 24,
    "start_time": "2022-05-29T18:34:31.286Z"
   },
   {
    "duration": 11,
    "start_time": "2022-05-29T18:34:31.312Z"
   },
   {
    "duration": 195,
    "start_time": "2022-05-29T18:34:31.325Z"
   },
   {
    "duration": 12761,
    "start_time": "2022-05-29T18:34:31.521Z"
   },
   {
    "duration": 548,
    "start_time": "2022-05-29T18:34:44.284Z"
   },
   {
    "duration": 172,
    "start_time": "2022-05-29T18:34:44.834Z"
   },
   {
    "duration": 270,
    "start_time": "2022-05-29T18:34:45.008Z"
   },
   {
    "duration": 9,
    "start_time": "2022-05-29T18:34:45.280Z"
   },
   {
    "duration": 192,
    "start_time": "2022-05-29T18:34:45.290Z"
   },
   {
    "duration": 120,
    "start_time": "2022-05-29T18:34:45.484Z"
   },
   {
    "duration": 14,
    "start_time": "2022-05-29T18:34:45.606Z"
   },
   {
    "duration": 127,
    "start_time": "2022-05-29T18:34:45.622Z"
   },
   {
    "duration": 10,
    "start_time": "2022-05-29T18:34:45.751Z"
   },
   {
    "duration": 6,
    "start_time": "2022-05-30T22:48:11.273Z"
   },
   {
    "duration": 3,
    "start_time": "2022-05-30T22:48:17.999Z"
   },
   {
    "duration": 46,
    "start_time": "2022-05-30T22:48:19.453Z"
   },
   {
    "duration": 10,
    "start_time": "2022-05-30T22:48:20.270Z"
   },
   {
    "duration": 6,
    "start_time": "2022-05-30T22:48:23.837Z"
   },
   {
    "duration": 12,
    "start_time": "2022-05-30T22:48:25.342Z"
   },
   {
    "duration": 2,
    "start_time": "2022-05-30T22:48:28.197Z"
   },
   {
    "duration": 5,
    "start_time": "2022-05-30T22:48:28.753Z"
   },
   {
    "duration": 5,
    "start_time": "2022-05-30T22:48:35.422Z"
   },
   {
    "duration": 92,
    "start_time": "2022-05-30T22:49:43.392Z"
   },
   {
    "duration": 175,
    "start_time": "2022-05-30T22:53:46.619Z"
   },
   {
    "duration": 8,
    "start_time": "2022-05-30T22:55:08.190Z"
   },
   {
    "duration": 255,
    "start_time": "2022-05-30T22:59:14.725Z"
   },
   {
    "duration": 199,
    "start_time": "2022-05-30T23:00:35.545Z"
   },
   {
    "duration": 7,
    "start_time": "2022-05-30T23:02:15.119Z"
   },
   {
    "duration": 32187,
    "start_time": "2022-05-30T23:09:52.877Z"
   },
   {
    "duration": 10680,
    "start_time": "2022-05-30T23:10:53.839Z"
   },
   {
    "duration": 1270,
    "start_time": "2022-06-01T18:26:26.414Z"
   },
   {
    "duration": 38,
    "start_time": "2022-06-01T18:26:27.686Z"
   },
   {
    "duration": 13,
    "start_time": "2022-06-01T18:26:27.726Z"
   },
   {
    "duration": 6,
    "start_time": "2022-06-01T18:26:27.741Z"
   },
   {
    "duration": 13,
    "start_time": "2022-06-01T18:26:27.749Z"
   },
   {
    "duration": 3,
    "start_time": "2022-06-01T18:26:27.763Z"
   },
   {
    "duration": 207,
    "start_time": "2022-06-01T18:26:27.767Z"
   },
   {
    "duration": 235,
    "start_time": "2022-06-01T18:26:27.976Z"
   },
   {
    "duration": 14,
    "start_time": "2022-06-01T18:26:28.213Z"
   },
   {
    "duration": 11004,
    "start_time": "2022-06-01T18:26:28.229Z"
   },
   {
    "duration": 100044,
    "start_time": "2022-06-01T18:26:39.236Z"
   },
   {
    "duration": 10,
    "start_time": "2022-06-01T18:28:19.282Z"
   },
   {
    "duration": 0,
    "start_time": "2022-06-01T18:28:19.294Z"
   },
   {
    "duration": 0,
    "start_time": "2022-06-01T18:28:19.294Z"
   },
   {
    "duration": 0,
    "start_time": "2022-06-01T18:28:19.295Z"
   },
   {
    "duration": 0,
    "start_time": "2022-06-01T18:28:19.296Z"
   },
   {
    "duration": 0,
    "start_time": "2022-06-01T18:28:19.297Z"
   },
   {
    "duration": 0,
    "start_time": "2022-06-01T18:28:19.298Z"
   },
   {
    "duration": 0,
    "start_time": "2022-06-01T18:28:19.299Z"
   },
   {
    "duration": 0,
    "start_time": "2022-06-01T18:28:19.300Z"
   },
   {
    "duration": 0,
    "start_time": "2022-06-01T18:28:19.301Z"
   },
   {
    "duration": 0,
    "start_time": "2022-06-01T18:28:19.302Z"
   },
   {
    "duration": 0,
    "start_time": "2022-06-01T18:28:19.303Z"
   },
   {
    "duration": 0,
    "start_time": "2022-06-01T18:28:19.304Z"
   },
   {
    "duration": 137,
    "start_time": "2022-06-01T18:28:30.913Z"
   },
   {
    "duration": 224,
    "start_time": "2022-06-01T18:29:15.177Z"
   },
   {
    "duration": 131,
    "start_time": "2022-06-01T18:29:23.441Z"
   },
   {
    "duration": 163,
    "start_time": "2022-06-01T18:29:33.168Z"
   },
   {
    "duration": 713550,
    "start_time": "2022-06-01T18:30:58.209Z"
   },
   {
    "duration": 4,
    "start_time": "2022-06-01T18:45:44.710Z"
   },
   {
    "duration": 4,
    "start_time": "2022-06-01T18:45:47.921Z"
   },
   {
    "duration": 5,
    "start_time": "2022-06-01T18:46:39.803Z"
   },
   {
    "duration": 197,
    "start_time": "2022-06-01T18:49:04.632Z"
   }
  ],
  "kernelspec": {
   "display_name": "Python 3 (ipykernel)",
   "language": "python",
   "name": "python3"
  },
  "language_info": {
   "codemirror_mode": {
    "name": "ipython",
    "version": 3
   },
   "file_extension": ".py",
   "mimetype": "text/x-python",
   "name": "python",
   "nbconvert_exporter": "python",
   "pygments_lexer": "ipython3",
   "version": "3.11.7"
  },
  "toc": {
   "base_numbering": 1,
   "nav_menu": {},
   "number_sections": true,
   "sideBar": true,
   "skip_h1_title": true,
   "title_cell": "Table of Contents",
   "title_sidebar": "Contents",
   "toc_cell": false,
   "toc_position": {},
   "toc_section_display": true,
   "toc_window_display": false
  }
 },
 "nbformat": 4,
 "nbformat_minor": 4
}
